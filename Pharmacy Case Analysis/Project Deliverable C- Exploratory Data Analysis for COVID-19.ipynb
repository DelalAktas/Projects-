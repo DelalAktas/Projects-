{
 "cells": [
  {
   "cell_type": "code",
   "execution_count": 104,
   "metadata": {},
   "outputs": [],
   "source": [
    "import pandas as pd\n",
    "import matplotlib.pyplot as plt\n",
    "import seaborn as sns\n",
    "import numpy as np\n",
    "import plotly.express as px\n",
    "import folium\n",
    "import xgboost\n",
    "import sklearn\n",
    "from pylab import rcParams\n",
    "from sorted_months_weekdays import Month_Sorted_Month, Weekday_Sorted_Week\n",
    "import bokeh as bh\n",
    "\n",
    "df = pd.read_csv('C:/Users/Bilal Aktas/Desktop/Git Lab/Fontys/Fontys Subjects/Semester 4/Applied Data Science A/Project/Dataset/ds2020.csv', header=None)\n"
   ]
  },
  {
   "cell_type": "markdown",
   "metadata": {},
   "source": [
    "## Data Preparation"
   ]
  },
  {
   "cell_type": "code",
   "execution_count": 105,
   "metadata": {},
   "outputs": [],
   "source": [
    "df.columns = ['Delivery date', 'Delivery time', 'Pharmacy number', 'Pharmacy Postcode (2)', 'Year of birth', \n",
    "              'Gender', 'CNK', 'Product name', 'ATC code', 'Units', 'Price', 'Contribution']"
   ]
  },
  {
   "cell_type": "code",
   "execution_count": 106,
   "metadata": {},
   "outputs": [
    {
     "data": {
      "text/html": [
       "<div>\n",
       "<style scoped>\n",
       "    .dataframe tbody tr th:only-of-type {\n",
       "        vertical-align: middle;\n",
       "    }\n",
       "\n",
       "    .dataframe tbody tr th {\n",
       "        vertical-align: top;\n",
       "    }\n",
       "\n",
       "    .dataframe thead th {\n",
       "        text-align: right;\n",
       "    }\n",
       "</style>\n",
       "<table border=\"1\" class=\"dataframe\">\n",
       "  <thead>\n",
       "    <tr style=\"text-align: right;\">\n",
       "      <th></th>\n",
       "      <th>Delivery date</th>\n",
       "      <th>Delivery time</th>\n",
       "      <th>Pharmacy number</th>\n",
       "      <th>Pharmacy Postcode (2)</th>\n",
       "      <th>Year of birth</th>\n",
       "      <th>Gender</th>\n",
       "      <th>CNK</th>\n",
       "      <th>Product name</th>\n",
       "      <th>ATC code</th>\n",
       "      <th>Units</th>\n",
       "      <th>Price</th>\n",
       "      <th>Contribution</th>\n",
       "    </tr>\n",
       "  </thead>\n",
       "  <tbody>\n",
       "    <tr>\n",
       "      <th>0</th>\n",
       "      <td>01/01/2020</td>\n",
       "      <td>00:00</td>\n",
       "      <td>9105972</td>\n",
       "      <td>10</td>\n",
       "      <td>1925</td>\n",
       "      <td>2</td>\n",
       "      <td>5520465</td>\n",
       "      <td>HONORARIUM PER WEEK PER RUSTOORDBEWONER ROB-RVT</td>\n",
       "      <td></td>\n",
       "      <td>0</td>\n",
       "      <td>3.20</td>\n",
       "      <td>0.00</td>\n",
       "    </tr>\n",
       "    <tr>\n",
       "      <th>1</th>\n",
       "      <td>01/01/2020</td>\n",
       "      <td>00:00</td>\n",
       "      <td>9105972</td>\n",
       "      <td>10</td>\n",
       "      <td>1923</td>\n",
       "      <td>2</td>\n",
       "      <td>5520465</td>\n",
       "      <td>HONORARIUM PER WEEK PER RUSTOORDBEWONER ROB-RVT</td>\n",
       "      <td></td>\n",
       "      <td>0</td>\n",
       "      <td>3.20</td>\n",
       "      <td>0.00</td>\n",
       "    </tr>\n",
       "    <tr>\n",
       "      <th>2</th>\n",
       "      <td>01/01/2020</td>\n",
       "      <td>00:00</td>\n",
       "      <td>9105972</td>\n",
       "      <td>10</td>\n",
       "      <td>1924</td>\n",
       "      <td>2</td>\n",
       "      <td>736165</td>\n",
       "      <td>BURINEX COMP 1 X 5 MG</td>\n",
       "      <td>C03CA02</td>\n",
       "      <td>0</td>\n",
       "      <td>0.38</td>\n",
       "      <td>0.08</td>\n",
       "    </tr>\n",
       "    <tr>\n",
       "      <th>3</th>\n",
       "      <td>01/01/2020</td>\n",
       "      <td>00:00</td>\n",
       "      <td>9105972</td>\n",
       "      <td>10</td>\n",
       "      <td>1921</td>\n",
       "      <td>2</td>\n",
       "      <td>750695</td>\n",
       "      <td>XARELTO COMP 1 X 15 MG</td>\n",
       "      <td>B01AF01</td>\n",
       "      <td>0</td>\n",
       "      <td>2.38</td>\n",
       "      <td>0.10</td>\n",
       "    </tr>\n",
       "    <tr>\n",
       "      <th>4</th>\n",
       "      <td>01/01/2020</td>\n",
       "      <td>00:00</td>\n",
       "      <td>9105972</td>\n",
       "      <td>10</td>\n",
       "      <td>1924</td>\n",
       "      <td>2</td>\n",
       "      <td>750695</td>\n",
       "      <td>XARELTO COMP 1 X 15 MG</td>\n",
       "      <td>B01AF01</td>\n",
       "      <td>0</td>\n",
       "      <td>2.38</td>\n",
       "      <td>0.10</td>\n",
       "    </tr>\n",
       "  </tbody>\n",
       "</table>\n",
       "</div>"
      ],
      "text/plain": [
       "  Delivery date Delivery time  Pharmacy number  Pharmacy Postcode (2)  \\\n",
       "0    01/01/2020         00:00          9105972                     10   \n",
       "1    01/01/2020         00:00          9105972                     10   \n",
       "2    01/01/2020         00:00          9105972                     10   \n",
       "3    01/01/2020         00:00          9105972                     10   \n",
       "4    01/01/2020         00:00          9105972                     10   \n",
       "\n",
       "   Year of birth  Gender      CNK  \\\n",
       "0           1925       2  5520465   \n",
       "1           1923       2  5520465   \n",
       "2           1924       2   736165   \n",
       "3           1921       2   750695   \n",
       "4           1924       2   750695   \n",
       "\n",
       "                                      Product name ATC code  Units  Price  \\\n",
       "0  HONORARIUM PER WEEK PER RUSTOORDBEWONER ROB-RVT               0   3.20   \n",
       "1  HONORARIUM PER WEEK PER RUSTOORDBEWONER ROB-RVT               0   3.20   \n",
       "2                            BURINEX COMP 1 X 5 MG  C03CA02      0   0.38   \n",
       "3                           XARELTO COMP 1 X 15 MG  B01AF01      0   2.38   \n",
       "4                           XARELTO COMP 1 X 15 MG  B01AF01      0   2.38   \n",
       "\n",
       "   Contribution  \n",
       "0          0.00  \n",
       "1          0.00  \n",
       "2          0.08  \n",
       "3          0.10  \n",
       "4          0.10  "
      ]
     },
     "execution_count": 106,
     "metadata": {},
     "output_type": "execute_result"
    }
   ],
   "source": [
    "df.head()"
   ]
  },
  {
   "cell_type": "code",
   "execution_count": 107,
   "metadata": {},
   "outputs": [],
   "source": [
    "TimeNull = df['Delivery time']\n",
    "TimeNull.fillna('00:00',inplace=True)"
   ]
  },
  {
   "cell_type": "code",
   "execution_count": 108,
   "metadata": {},
   "outputs": [],
   "source": [
    "df = df[df['Gender'] != 0]\n",
    "df = df[df['Gender'] != 3]"
   ]
  },
  {
   "cell_type": "code",
   "execution_count": 109,
   "metadata": {},
   "outputs": [
    {
     "data": {
      "text/plain": [
       "2    2856183\n",
       "1    2203711\n",
       "Name: Gender, dtype: int64"
      ]
     },
     "execution_count": 109,
     "metadata": {},
     "output_type": "execute_result"
    }
   ],
   "source": [
    "df[\"Gender\"].value_counts(sort=True)"
   ]
  },
  {
   "cell_type": "code",
   "execution_count": 110,
   "metadata": {},
   "outputs": [],
   "source": [
    "df['Delivery date'] = pd.to_datetime(df['Delivery date'], infer_datetime_format=True)"
   ]
  },
  {
   "cell_type": "code",
   "execution_count": 111,
   "metadata": {},
   "outputs": [
    {
     "data": {
      "text/plain": [
       "Delivery date            False\n",
       "Delivery time            False\n",
       "Pharmacy number          False\n",
       "Pharmacy Postcode (2)    False\n",
       "Year of birth            False\n",
       "Gender                   False\n",
       "CNK                      False\n",
       "Product name             False\n",
       "ATC code                 False\n",
       "Units                    False\n",
       "Price                    False\n",
       "Contribution             False\n",
       "dtype: bool"
      ]
     },
     "execution_count": 111,
     "metadata": {},
     "output_type": "execute_result"
    }
   ],
   "source": [
    "df.isnull().any()"
   ]
  },
  {
   "cell_type": "code",
   "execution_count": 112,
   "metadata": {},
   "outputs": [
    {
     "data": {
      "text/html": [
       "<div>\n",
       "<style scoped>\n",
       "    .dataframe tbody tr th:only-of-type {\n",
       "        vertical-align: middle;\n",
       "    }\n",
       "\n",
       "    .dataframe tbody tr th {\n",
       "        vertical-align: top;\n",
       "    }\n",
       "\n",
       "    .dataframe thead th {\n",
       "        text-align: right;\n",
       "    }\n",
       "</style>\n",
       "<table border=\"1\" class=\"dataframe\">\n",
       "  <thead>\n",
       "    <tr style=\"text-align: right;\">\n",
       "      <th></th>\n",
       "      <th>Delivery date</th>\n",
       "      <th>Delivery time</th>\n",
       "      <th>Pharmacy number</th>\n",
       "      <th>Pharmacy Postcode (2)</th>\n",
       "      <th>Year of birth</th>\n",
       "      <th>Gender</th>\n",
       "      <th>CNK</th>\n",
       "      <th>Product name</th>\n",
       "      <th>ATC code</th>\n",
       "      <th>Units</th>\n",
       "      <th>Price</th>\n",
       "      <th>Contribution</th>\n",
       "      <th>ATCShort</th>\n",
       "    </tr>\n",
       "  </thead>\n",
       "  <tbody>\n",
       "    <tr>\n",
       "      <th>0</th>\n",
       "      <td>2020-01-01</td>\n",
       "      <td>00:00</td>\n",
       "      <td>9105972</td>\n",
       "      <td>10</td>\n",
       "      <td>1925</td>\n",
       "      <td>2</td>\n",
       "      <td>5520465</td>\n",
       "      <td>HONORARIUM PER WEEK PER RUSTOORDBEWONER ROB-RVT</td>\n",
       "      <td></td>\n",
       "      <td>0</td>\n",
       "      <td>3.20</td>\n",
       "      <td>0.00</td>\n",
       "      <td></td>\n",
       "    </tr>\n",
       "    <tr>\n",
       "      <th>1</th>\n",
       "      <td>2020-01-01</td>\n",
       "      <td>00:00</td>\n",
       "      <td>9105972</td>\n",
       "      <td>10</td>\n",
       "      <td>1923</td>\n",
       "      <td>2</td>\n",
       "      <td>5520465</td>\n",
       "      <td>HONORARIUM PER WEEK PER RUSTOORDBEWONER ROB-RVT</td>\n",
       "      <td></td>\n",
       "      <td>0</td>\n",
       "      <td>3.20</td>\n",
       "      <td>0.00</td>\n",
       "      <td></td>\n",
       "    </tr>\n",
       "    <tr>\n",
       "      <th>2</th>\n",
       "      <td>2020-01-01</td>\n",
       "      <td>00:00</td>\n",
       "      <td>9105972</td>\n",
       "      <td>10</td>\n",
       "      <td>1924</td>\n",
       "      <td>2</td>\n",
       "      <td>736165</td>\n",
       "      <td>BURINEX COMP 1 X 5 MG</td>\n",
       "      <td>C03CA02</td>\n",
       "      <td>0</td>\n",
       "      <td>0.38</td>\n",
       "      <td>0.08</td>\n",
       "      <td>C03</td>\n",
       "    </tr>\n",
       "    <tr>\n",
       "      <th>3</th>\n",
       "      <td>2020-01-01</td>\n",
       "      <td>00:00</td>\n",
       "      <td>9105972</td>\n",
       "      <td>10</td>\n",
       "      <td>1921</td>\n",
       "      <td>2</td>\n",
       "      <td>750695</td>\n",
       "      <td>XARELTO COMP 1 X 15 MG</td>\n",
       "      <td>B01AF01</td>\n",
       "      <td>0</td>\n",
       "      <td>2.38</td>\n",
       "      <td>0.10</td>\n",
       "      <td>B01</td>\n",
       "    </tr>\n",
       "    <tr>\n",
       "      <th>4</th>\n",
       "      <td>2020-01-01</td>\n",
       "      <td>00:00</td>\n",
       "      <td>9105972</td>\n",
       "      <td>10</td>\n",
       "      <td>1924</td>\n",
       "      <td>2</td>\n",
       "      <td>750695</td>\n",
       "      <td>XARELTO COMP 1 X 15 MG</td>\n",
       "      <td>B01AF01</td>\n",
       "      <td>0</td>\n",
       "      <td>2.38</td>\n",
       "      <td>0.10</td>\n",
       "      <td>B01</td>\n",
       "    </tr>\n",
       "    <tr>\n",
       "      <th>5</th>\n",
       "      <td>2020-01-01</td>\n",
       "      <td>00:00</td>\n",
       "      <td>9105972</td>\n",
       "      <td>10</td>\n",
       "      <td>1921</td>\n",
       "      <td>2</td>\n",
       "      <td>7706310</td>\n",
       "      <td>ESCITALOPRAM TEVA COMP 1 X 10 MG</td>\n",
       "      <td>N06AB10</td>\n",
       "      <td>0</td>\n",
       "      <td>0.17</td>\n",
       "      <td>0.04</td>\n",
       "      <td>N06</td>\n",
       "    </tr>\n",
       "    <tr>\n",
       "      <th>6</th>\n",
       "      <td>2020-01-01</td>\n",
       "      <td>00:00</td>\n",
       "      <td>9105972</td>\n",
       "      <td>10</td>\n",
       "      <td>1921</td>\n",
       "      <td>2</td>\n",
       "      <td>7706310</td>\n",
       "      <td>ESCITALOPRAM TEVA COMP 1 X 10 MG</td>\n",
       "      <td>N06AB10</td>\n",
       "      <td>0</td>\n",
       "      <td>0.17</td>\n",
       "      <td>0.04</td>\n",
       "      <td>N06</td>\n",
       "    </tr>\n",
       "    <tr>\n",
       "      <th>7</th>\n",
       "      <td>2020-01-01</td>\n",
       "      <td>00:00</td>\n",
       "      <td>9105972</td>\n",
       "      <td>10</td>\n",
       "      <td>1924</td>\n",
       "      <td>2</td>\n",
       "      <td>743732</td>\n",
       "      <td>L THYROXINE CHRISTIAENS COMP 1 X 50 MCG</td>\n",
       "      <td>H03AA01</td>\n",
       "      <td>0</td>\n",
       "      <td>0.02</td>\n",
       "      <td>0.01</td>\n",
       "      <td>H03</td>\n",
       "    </tr>\n",
       "    <tr>\n",
       "      <th>8</th>\n",
       "      <td>2020-01-01</td>\n",
       "      <td>00:00</td>\n",
       "      <td>9105972</td>\n",
       "      <td>10</td>\n",
       "      <td>1923</td>\n",
       "      <td>2</td>\n",
       "      <td>743732</td>\n",
       "      <td>L THYROXINE CHRISTIAENS COMP 1 X 50 MCG</td>\n",
       "      <td>H03AA01</td>\n",
       "      <td>0</td>\n",
       "      <td>0.02</td>\n",
       "      <td>0.01</td>\n",
       "      <td>H03</td>\n",
       "    </tr>\n",
       "    <tr>\n",
       "      <th>9</th>\n",
       "      <td>2020-01-01</td>\n",
       "      <td>00:00</td>\n",
       "      <td>9105972</td>\n",
       "      <td>10</td>\n",
       "      <td>1923</td>\n",
       "      <td>2</td>\n",
       "      <td>789537</td>\n",
       "      <td>ASAFLOW COMP  1 X  80 MG</td>\n",
       "      <td>B01AC06</td>\n",
       "      <td>0</td>\n",
       "      <td>0.03</td>\n",
       "      <td>0.01</td>\n",
       "      <td>B01</td>\n",
       "    </tr>\n",
       "    <tr>\n",
       "      <th>10</th>\n",
       "      <td>2020-01-01</td>\n",
       "      <td>00:00</td>\n",
       "      <td>9105972</td>\n",
       "      <td>10</td>\n",
       "      <td>1925</td>\n",
       "      <td>1</td>\n",
       "      <td>5520465</td>\n",
       "      <td>HONORARIUM PER WEEK PER RUSTOORDBEWONER ROB-RVT</td>\n",
       "      <td></td>\n",
       "      <td>0</td>\n",
       "      <td>3.20</td>\n",
       "      <td>0.00</td>\n",
       "      <td></td>\n",
       "    </tr>\n",
       "    <tr>\n",
       "      <th>11</th>\n",
       "      <td>2020-01-01</td>\n",
       "      <td>00:00</td>\n",
       "      <td>9105972</td>\n",
       "      <td>10</td>\n",
       "      <td>1924</td>\n",
       "      <td>1</td>\n",
       "      <td>5520465</td>\n",
       "      <td>HONORARIUM PER WEEK PER RUSTOORDBEWONER ROB-RVT</td>\n",
       "      <td></td>\n",
       "      <td>0</td>\n",
       "      <td>3.20</td>\n",
       "      <td>0.00</td>\n",
       "      <td></td>\n",
       "    </tr>\n",
       "    <tr>\n",
       "      <th>12</th>\n",
       "      <td>2020-01-01</td>\n",
       "      <td>00:00</td>\n",
       "      <td>9105972</td>\n",
       "      <td>10</td>\n",
       "      <td>1926</td>\n",
       "      <td>1</td>\n",
       "      <td>702217</td>\n",
       "      <td>BURINEX COMP 1 X 1 MG</td>\n",
       "      <td>C03CA02</td>\n",
       "      <td>0</td>\n",
       "      <td>0.11</td>\n",
       "      <td>0.04</td>\n",
       "      <td>C03</td>\n",
       "    </tr>\n",
       "    <tr>\n",
       "      <th>13</th>\n",
       "      <td>2020-01-01</td>\n",
       "      <td>00:00</td>\n",
       "      <td>9105972</td>\n",
       "      <td>10</td>\n",
       "      <td>1924</td>\n",
       "      <td>1</td>\n",
       "      <td>702217</td>\n",
       "      <td>BURINEX COMP 1 X 1 MG</td>\n",
       "      <td>C03CA02</td>\n",
       "      <td>0</td>\n",
       "      <td>0.11</td>\n",
       "      <td>0.04</td>\n",
       "      <td>C03</td>\n",
       "    </tr>\n",
       "    <tr>\n",
       "      <th>14</th>\n",
       "      <td>2020-01-01</td>\n",
       "      <td>00:00</td>\n",
       "      <td>9105972</td>\n",
       "      <td>10</td>\n",
       "      <td>1928</td>\n",
       "      <td>2</td>\n",
       "      <td>708081</td>\n",
       "      <td>GLUCOPHAGE COMP   1 X 500 MG</td>\n",
       "      <td>A10BA02</td>\n",
       "      <td>0</td>\n",
       "      <td>0.03</td>\n",
       "      <td>0.00</td>\n",
       "      <td>A10</td>\n",
       "    </tr>\n",
       "    <tr>\n",
       "      <th>15</th>\n",
       "      <td>2020-01-01</td>\n",
       "      <td>00:00</td>\n",
       "      <td>7983030</td>\n",
       "      <td>41</td>\n",
       "      <td>1927</td>\n",
       "      <td>2</td>\n",
       "      <td>2342269</td>\n",
       "      <td>ZUURSTOFCONC.KROBER HUUR + ONDERHOUD       OXY...</td>\n",
       "      <td></td>\n",
       "      <td>0</td>\n",
       "      <td>92.80</td>\n",
       "      <td>0.00</td>\n",
       "      <td></td>\n",
       "    </tr>\n",
       "    <tr>\n",
       "      <th>16</th>\n",
       "      <td>2020-01-01</td>\n",
       "      <td>00:00</td>\n",
       "      <td>7983030</td>\n",
       "      <td>41</td>\n",
       "      <td>1926</td>\n",
       "      <td>2</td>\n",
       "      <td>2342285</td>\n",
       "      <td>ZUURSTOFCONC.KROBER BEVOCHTIGER 1XGEBR     OXY...</td>\n",
       "      <td></td>\n",
       "      <td>0</td>\n",
       "      <td>5.68</td>\n",
       "      <td>0.00</td>\n",
       "      <td></td>\n",
       "    </tr>\n",
       "    <tr>\n",
       "      <th>17</th>\n",
       "      <td>2020-01-01</td>\n",
       "      <td>00:00</td>\n",
       "      <td>7983030</td>\n",
       "      <td>41</td>\n",
       "      <td>1927</td>\n",
       "      <td>2</td>\n",
       "      <td>4004941</td>\n",
       "      <td>HONORARIUM APOTHEKER OXYCONCENTRATOR COORDINATIE</td>\n",
       "      <td></td>\n",
       "      <td>0</td>\n",
       "      <td>12.98</td>\n",
       "      <td>0.00</td>\n",
       "      <td></td>\n",
       "    </tr>\n",
       "    <tr>\n",
       "      <th>18</th>\n",
       "      <td>2020-01-01</td>\n",
       "      <td>00:00</td>\n",
       "      <td>9105972</td>\n",
       "      <td>10</td>\n",
       "      <td>1926</td>\n",
       "      <td>1</td>\n",
       "      <td>789537</td>\n",
       "      <td>ASAFLOW COMP  1 X  80 MG</td>\n",
       "      <td>B01AC06</td>\n",
       "      <td>0</td>\n",
       "      <td>0.03</td>\n",
       "      <td>0.01</td>\n",
       "      <td>B01</td>\n",
       "    </tr>\n",
       "    <tr>\n",
       "      <th>19</th>\n",
       "      <td>2020-01-01</td>\n",
       "      <td>00:00</td>\n",
       "      <td>9105972</td>\n",
       "      <td>10</td>\n",
       "      <td>1927</td>\n",
       "      <td>1</td>\n",
       "      <td>789537</td>\n",
       "      <td>ASAFLOW COMP  1 X  80 MG</td>\n",
       "      <td>B01AC06</td>\n",
       "      <td>0</td>\n",
       "      <td>0.03</td>\n",
       "      <td>0.01</td>\n",
       "      <td>B01</td>\n",
       "    </tr>\n",
       "    <tr>\n",
       "      <th>20</th>\n",
       "      <td>2020-01-01</td>\n",
       "      <td>00:00</td>\n",
       "      <td>9105972</td>\n",
       "      <td>10</td>\n",
       "      <td>1927</td>\n",
       "      <td>2</td>\n",
       "      <td>700351</td>\n",
       "      <td>ALDACTONE COMP   1 X  25 MG</td>\n",
       "      <td>C03DA01</td>\n",
       "      <td>0</td>\n",
       "      <td>0.06</td>\n",
       "      <td>0.01</td>\n",
       "      <td>C03</td>\n",
       "    </tr>\n",
       "    <tr>\n",
       "      <th>21</th>\n",
       "      <td>2020-01-01</td>\n",
       "      <td>00:00</td>\n",
       "      <td>9105972</td>\n",
       "      <td>10</td>\n",
       "      <td>1928</td>\n",
       "      <td>2</td>\n",
       "      <td>795187</td>\n",
       "      <td>OXYNORM INSTANT COMP 1 X  5 MG</td>\n",
       "      <td>N02AA05</td>\n",
       "      <td>0</td>\n",
       "      <td>0.14</td>\n",
       "      <td>0.05</td>\n",
       "      <td>N02</td>\n",
       "    </tr>\n",
       "    <tr>\n",
       "      <th>22</th>\n",
       "      <td>2020-01-01</td>\n",
       "      <td>00:00</td>\n",
       "      <td>9105972</td>\n",
       "      <td>10</td>\n",
       "      <td>1929</td>\n",
       "      <td>2</td>\n",
       "      <td>795187</td>\n",
       "      <td>OXYNORM INSTANT COMP 1 X  5 MG</td>\n",
       "      <td>N02AA05</td>\n",
       "      <td>0</td>\n",
       "      <td>0.14</td>\n",
       "      <td>0.06</td>\n",
       "      <td>N02</td>\n",
       "    </tr>\n",
       "    <tr>\n",
       "      <th>23</th>\n",
       "      <td>2020-01-01</td>\n",
       "      <td>00:00</td>\n",
       "      <td>9105972</td>\n",
       "      <td>10</td>\n",
       "      <td>1929</td>\n",
       "      <td>1</td>\n",
       "      <td>5520465</td>\n",
       "      <td>HONORARIUM PER WEEK PER RUSTOORDBEWONER ROB-RVT</td>\n",
       "      <td></td>\n",
       "      <td>0</td>\n",
       "      <td>3.20</td>\n",
       "      <td>0.00</td>\n",
       "      <td></td>\n",
       "    </tr>\n",
       "    <tr>\n",
       "      <th>24</th>\n",
       "      <td>2020-01-01</td>\n",
       "      <td>00:00</td>\n",
       "      <td>9105972</td>\n",
       "      <td>10</td>\n",
       "      <td>1930</td>\n",
       "      <td>1</td>\n",
       "      <td>5520465</td>\n",
       "      <td>HONORARIUM PER WEEK PER RUSTOORDBEWONER ROB-RVT</td>\n",
       "      <td></td>\n",
       "      <td>0</td>\n",
       "      <td>3.20</td>\n",
       "      <td>0.00</td>\n",
       "      <td></td>\n",
       "    </tr>\n",
       "    <tr>\n",
       "      <th>25</th>\n",
       "      <td>2020-01-01</td>\n",
       "      <td>00:00</td>\n",
       "      <td>9105972</td>\n",
       "      <td>10</td>\n",
       "      <td>1931</td>\n",
       "      <td>1</td>\n",
       "      <td>743294</td>\n",
       "      <td>L THYROXINE CHRISTIAENS COMP 1 X 100 MCG</td>\n",
       "      <td>H03AA01</td>\n",
       "      <td>0</td>\n",
       "      <td>0.04</td>\n",
       "      <td>0.01</td>\n",
       "      <td>H03</td>\n",
       "    </tr>\n",
       "    <tr>\n",
       "      <th>26</th>\n",
       "      <td>2020-01-01</td>\n",
       "      <td>00:00</td>\n",
       "      <td>9105972</td>\n",
       "      <td>10</td>\n",
       "      <td>1933</td>\n",
       "      <td>1</td>\n",
       "      <td>743294</td>\n",
       "      <td>L THYROXINE CHRISTIAENS COMP 1 X 100 MCG</td>\n",
       "      <td>H03AA01</td>\n",
       "      <td>0</td>\n",
       "      <td>0.04</td>\n",
       "      <td>0.01</td>\n",
       "      <td>H03</td>\n",
       "    </tr>\n",
       "    <tr>\n",
       "      <th>27</th>\n",
       "      <td>2020-01-01</td>\n",
       "      <td>00:00</td>\n",
       "      <td>9105972</td>\n",
       "      <td>10</td>\n",
       "      <td>1933</td>\n",
       "      <td>1</td>\n",
       "      <td>785105</td>\n",
       "      <td>OXYCONTIN COMP 1 X  5 MG</td>\n",
       "      <td>N02AA05</td>\n",
       "      <td>0</td>\n",
       "      <td>0.12</td>\n",
       "      <td>0.06</td>\n",
       "      <td>N02</td>\n",
       "    </tr>\n",
       "    <tr>\n",
       "      <th>28</th>\n",
       "      <td>2020-01-01</td>\n",
       "      <td>00:00</td>\n",
       "      <td>9105972</td>\n",
       "      <td>10</td>\n",
       "      <td>1930</td>\n",
       "      <td>1</td>\n",
       "      <td>789537</td>\n",
       "      <td>ASAFLOW COMP  1 X  80 MG</td>\n",
       "      <td>B01AC06</td>\n",
       "      <td>0</td>\n",
       "      <td>0.03</td>\n",
       "      <td>0.01</td>\n",
       "      <td>B01</td>\n",
       "    </tr>\n",
       "    <tr>\n",
       "      <th>29</th>\n",
       "      <td>2020-01-01</td>\n",
       "      <td>00:00</td>\n",
       "      <td>9105972</td>\n",
       "      <td>10</td>\n",
       "      <td>1932</td>\n",
       "      <td>1</td>\n",
       "      <td>789537</td>\n",
       "      <td>ASAFLOW COMP  1 X  80 MG</td>\n",
       "      <td>B01AC06</td>\n",
       "      <td>0</td>\n",
       "      <td>0.03</td>\n",
       "      <td>0.01</td>\n",
       "      <td>B01</td>\n",
       "    </tr>\n",
       "    <tr>\n",
       "      <th>30</th>\n",
       "      <td>2020-01-01</td>\n",
       "      <td>00:00</td>\n",
       "      <td>9105972</td>\n",
       "      <td>10</td>\n",
       "      <td>1930</td>\n",
       "      <td>2</td>\n",
       "      <td>747626</td>\n",
       "      <td>TRITACE COMP  1 X 5 MG</td>\n",
       "      <td>C09AA05</td>\n",
       "      <td>0</td>\n",
       "      <td>0.22</td>\n",
       "      <td>0.09</td>\n",
       "      <td>C09</td>\n",
       "    </tr>\n",
       "    <tr>\n",
       "      <th>31</th>\n",
       "      <td>2020-01-01</td>\n",
       "      <td>00:00</td>\n",
       "      <td>9105972</td>\n",
       "      <td>10</td>\n",
       "      <td>1930</td>\n",
       "      <td>2</td>\n",
       "      <td>747626</td>\n",
       "      <td>TRITACE COMP  1 X 5 MG</td>\n",
       "      <td>C09AA05</td>\n",
       "      <td>0</td>\n",
       "      <td>0.22</td>\n",
       "      <td>0.09</td>\n",
       "      <td>C09</td>\n",
       "    </tr>\n",
       "    <tr>\n",
       "      <th>32</th>\n",
       "      <td>2020-01-01</td>\n",
       "      <td>00:00</td>\n",
       "      <td>9105972</td>\n",
       "      <td>10</td>\n",
       "      <td>1932</td>\n",
       "      <td>1</td>\n",
       "      <td>779975</td>\n",
       "      <td>SERTRALINE EG COMP 1 X 50 MG</td>\n",
       "      <td>N06AB06</td>\n",
       "      <td>0</td>\n",
       "      <td>0.22</td>\n",
       "      <td>0.05</td>\n",
       "      <td>N06</td>\n",
       "    </tr>\n",
       "    <tr>\n",
       "      <th>33</th>\n",
       "      <td>2020-01-01</td>\n",
       "      <td>00:00</td>\n",
       "      <td>9105972</td>\n",
       "      <td>10</td>\n",
       "      <td>1930</td>\n",
       "      <td>1</td>\n",
       "      <td>789537</td>\n",
       "      <td>ASAFLOW COMP  1 X  80 MG</td>\n",
       "      <td>B01AC06</td>\n",
       "      <td>0</td>\n",
       "      <td>0.03</td>\n",
       "      <td>0.01</td>\n",
       "      <td>B01</td>\n",
       "    </tr>\n",
       "    <tr>\n",
       "      <th>34</th>\n",
       "      <td>2020-01-01</td>\n",
       "      <td>00:00</td>\n",
       "      <td>9105972</td>\n",
       "      <td>10</td>\n",
       "      <td>1930</td>\n",
       "      <td>1</td>\n",
       "      <td>789537</td>\n",
       "      <td>ASAFLOW COMP  1 X  80 MG</td>\n",
       "      <td>B01AC06</td>\n",
       "      <td>0</td>\n",
       "      <td>0.03</td>\n",
       "      <td>0.01</td>\n",
       "      <td>B01</td>\n",
       "    </tr>\n",
       "    <tr>\n",
       "      <th>35</th>\n",
       "      <td>2020-01-01</td>\n",
       "      <td>00:00</td>\n",
       "      <td>9105972</td>\n",
       "      <td>10</td>\n",
       "      <td>1930</td>\n",
       "      <td>2</td>\n",
       "      <td>700351</td>\n",
       "      <td>ALDACTONE COMP   1 X  25 MG</td>\n",
       "      <td>C03DA01</td>\n",
       "      <td>0</td>\n",
       "      <td>0.06</td>\n",
       "      <td>0.00</td>\n",
       "      <td>C03</td>\n",
       "    </tr>\n",
       "    <tr>\n",
       "      <th>36</th>\n",
       "      <td>2020-01-01</td>\n",
       "      <td>00:00</td>\n",
       "      <td>9105972</td>\n",
       "      <td>10</td>\n",
       "      <td>1934</td>\n",
       "      <td>2</td>\n",
       "      <td>700351</td>\n",
       "      <td>ALDACTONE COMP   1 X  25 MG</td>\n",
       "      <td>C03DA01</td>\n",
       "      <td>0</td>\n",
       "      <td>0.06</td>\n",
       "      <td>0.01</td>\n",
       "      <td>C03</td>\n",
       "    </tr>\n",
       "    <tr>\n",
       "      <th>37</th>\n",
       "      <td>2020-01-01</td>\n",
       "      <td>00:00</td>\n",
       "      <td>9105972</td>\n",
       "      <td>10</td>\n",
       "      <td>1934</td>\n",
       "      <td>2</td>\n",
       "      <td>700351</td>\n",
       "      <td>ALDACTONE COMP   1 X  25 MG</td>\n",
       "      <td>C03DA01</td>\n",
       "      <td>0</td>\n",
       "      <td>0.06</td>\n",
       "      <td>0.01</td>\n",
       "      <td>C03</td>\n",
       "    </tr>\n",
       "    <tr>\n",
       "      <th>38</th>\n",
       "      <td>2020-01-01</td>\n",
       "      <td>00:00</td>\n",
       "      <td>9105972</td>\n",
       "      <td>10</td>\n",
       "      <td>1933</td>\n",
       "      <td>2</td>\n",
       "      <td>700351</td>\n",
       "      <td>ALDACTONE COMP   1 X  25 MG</td>\n",
       "      <td>C03DA01</td>\n",
       "      <td>0</td>\n",
       "      <td>0.06</td>\n",
       "      <td>0.01</td>\n",
       "      <td>C03</td>\n",
       "    </tr>\n",
       "    <tr>\n",
       "      <th>39</th>\n",
       "      <td>2020-01-01</td>\n",
       "      <td>00:00</td>\n",
       "      <td>9105972</td>\n",
       "      <td>10</td>\n",
       "      <td>1934</td>\n",
       "      <td>2</td>\n",
       "      <td>784579</td>\n",
       "      <td>SIMVASTATINE EG COMP 1 X 20 MG</td>\n",
       "      <td>C10AA01</td>\n",
       "      <td>0</td>\n",
       "      <td>0.10</td>\n",
       "      <td>0.03</td>\n",
       "      <td>C10</td>\n",
       "    </tr>\n",
       "    <tr>\n",
       "      <th>40</th>\n",
       "      <td>2020-01-01</td>\n",
       "      <td>00:00</td>\n",
       "      <td>9105972</td>\n",
       "      <td>10</td>\n",
       "      <td>1932</td>\n",
       "      <td>2</td>\n",
       "      <td>784579</td>\n",
       "      <td>SIMVASTATINE EG COMP 1 X 20 MG</td>\n",
       "      <td>C10AA01</td>\n",
       "      <td>0</td>\n",
       "      <td>0.10</td>\n",
       "      <td>0.04</td>\n",
       "      <td>C10</td>\n",
       "    </tr>\n",
       "    <tr>\n",
       "      <th>41</th>\n",
       "      <td>2020-01-01</td>\n",
       "      <td>00:00</td>\n",
       "      <td>9105972</td>\n",
       "      <td>10</td>\n",
       "      <td>1933</td>\n",
       "      <td>2</td>\n",
       "      <td>791186</td>\n",
       "      <td>PANTOMED NYCOMED COMP 1 X 20MG</td>\n",
       "      <td>A02BC02</td>\n",
       "      <td>0</td>\n",
       "      <td>0.11</td>\n",
       "      <td>0.04</td>\n",
       "      <td>A02</td>\n",
       "    </tr>\n",
       "    <tr>\n",
       "      <th>42</th>\n",
       "      <td>2020-01-01</td>\n",
       "      <td>00:00</td>\n",
       "      <td>9105972</td>\n",
       "      <td>10</td>\n",
       "      <td>1934</td>\n",
       "      <td>2</td>\n",
       "      <td>793372</td>\n",
       "      <td>LOSARTAN TEVA COMP 1 X 100 MG</td>\n",
       "      <td>C09CA01</td>\n",
       "      <td>0</td>\n",
       "      <td>0.16</td>\n",
       "      <td>0.05</td>\n",
       "      <td>C09</td>\n",
       "    </tr>\n",
       "    <tr>\n",
       "      <th>43</th>\n",
       "      <td>2020-01-01</td>\n",
       "      <td>00:00</td>\n",
       "      <td>9105972</td>\n",
       "      <td>10</td>\n",
       "      <td>1935</td>\n",
       "      <td>1</td>\n",
       "      <td>789537</td>\n",
       "      <td>ASAFLOW COMP  1 X  80 MG</td>\n",
       "      <td>B01AC06</td>\n",
       "      <td>0</td>\n",
       "      <td>0.03</td>\n",
       "      <td>0.01</td>\n",
       "      <td>B01</td>\n",
       "    </tr>\n",
       "    <tr>\n",
       "      <th>44</th>\n",
       "      <td>2020-01-01</td>\n",
       "      <td>00:00</td>\n",
       "      <td>9105972</td>\n",
       "      <td>10</td>\n",
       "      <td>1931</td>\n",
       "      <td>1</td>\n",
       "      <td>789537</td>\n",
       "      <td>ASAFLOW COMP  1 X  80 MG</td>\n",
       "      <td>B01AC06</td>\n",
       "      <td>0</td>\n",
       "      <td>0.03</td>\n",
       "      <td>0.01</td>\n",
       "      <td>B01</td>\n",
       "    </tr>\n",
       "    <tr>\n",
       "      <th>45</th>\n",
       "      <td>2020-01-01</td>\n",
       "      <td>00:00</td>\n",
       "      <td>9105972</td>\n",
       "      <td>10</td>\n",
       "      <td>1935</td>\n",
       "      <td>2</td>\n",
       "      <td>700351</td>\n",
       "      <td>ALDACTONE COMP   1 X  25 MG</td>\n",
       "      <td>C03DA01</td>\n",
       "      <td>0</td>\n",
       "      <td>0.06</td>\n",
       "      <td>0.01</td>\n",
       "      <td>C03</td>\n",
       "    </tr>\n",
       "    <tr>\n",
       "      <th>46</th>\n",
       "      <td>2020-01-01</td>\n",
       "      <td>00:00</td>\n",
       "      <td>9105972</td>\n",
       "      <td>10</td>\n",
       "      <td>1934</td>\n",
       "      <td>1</td>\n",
       "      <td>7701188</td>\n",
       "      <td>DONEPEZIL TEVA COMP 1 X 10 MG</td>\n",
       "      <td>N06DA02</td>\n",
       "      <td>0</td>\n",
       "      <td>0.22</td>\n",
       "      <td>0.04</td>\n",
       "      <td>N06</td>\n",
       "    </tr>\n",
       "    <tr>\n",
       "      <th>47</th>\n",
       "      <td>2020-01-01</td>\n",
       "      <td>00:00</td>\n",
       "      <td>9105972</td>\n",
       "      <td>10</td>\n",
       "      <td>1932</td>\n",
       "      <td>2</td>\n",
       "      <td>716282</td>\n",
       "      <td>REDOMEX DRAG  1 X 25 MG</td>\n",
       "      <td>N06AA09</td>\n",
       "      <td>0</td>\n",
       "      <td>0.03</td>\n",
       "      <td>0.00</td>\n",
       "      <td>N06</td>\n",
       "    </tr>\n",
       "    <tr>\n",
       "      <th>48</th>\n",
       "      <td>2020-01-01</td>\n",
       "      <td>00:00</td>\n",
       "      <td>9105972</td>\n",
       "      <td>10</td>\n",
       "      <td>1932</td>\n",
       "      <td>2</td>\n",
       "      <td>716282</td>\n",
       "      <td>REDOMEX DRAG  1 X 25 MG</td>\n",
       "      <td>N06AA09</td>\n",
       "      <td>0</td>\n",
       "      <td>0.03</td>\n",
       "      <td>0.01</td>\n",
       "      <td>N06</td>\n",
       "    </tr>\n",
       "    <tr>\n",
       "      <th>49</th>\n",
       "      <td>2020-01-01</td>\n",
       "      <td>00:00</td>\n",
       "      <td>9105972</td>\n",
       "      <td>10</td>\n",
       "      <td>1935</td>\n",
       "      <td>2</td>\n",
       "      <td>729301</td>\n",
       "      <td>FUROSEMIDE COMP  1 X 40 MG</td>\n",
       "      <td>C03CA01</td>\n",
       "      <td>0</td>\n",
       "      <td>0.04</td>\n",
       "      <td>0.01</td>\n",
       "      <td>C03</td>\n",
       "    </tr>\n",
       "  </tbody>\n",
       "</table>\n",
       "</div>"
      ],
      "text/plain": [
       "   Delivery date Delivery time  Pharmacy number  Pharmacy Postcode (2)  \\\n",
       "0     2020-01-01         00:00          9105972                     10   \n",
       "1     2020-01-01         00:00          9105972                     10   \n",
       "2     2020-01-01         00:00          9105972                     10   \n",
       "3     2020-01-01         00:00          9105972                     10   \n",
       "4     2020-01-01         00:00          9105972                     10   \n",
       "5     2020-01-01         00:00          9105972                     10   \n",
       "6     2020-01-01         00:00          9105972                     10   \n",
       "7     2020-01-01         00:00          9105972                     10   \n",
       "8     2020-01-01         00:00          9105972                     10   \n",
       "9     2020-01-01         00:00          9105972                     10   \n",
       "10    2020-01-01         00:00          9105972                     10   \n",
       "11    2020-01-01         00:00          9105972                     10   \n",
       "12    2020-01-01         00:00          9105972                     10   \n",
       "13    2020-01-01         00:00          9105972                     10   \n",
       "14    2020-01-01         00:00          9105972                     10   \n",
       "15    2020-01-01         00:00          7983030                     41   \n",
       "16    2020-01-01         00:00          7983030                     41   \n",
       "17    2020-01-01         00:00          7983030                     41   \n",
       "18    2020-01-01         00:00          9105972                     10   \n",
       "19    2020-01-01         00:00          9105972                     10   \n",
       "20    2020-01-01         00:00          9105972                     10   \n",
       "21    2020-01-01         00:00          9105972                     10   \n",
       "22    2020-01-01         00:00          9105972                     10   \n",
       "23    2020-01-01         00:00          9105972                     10   \n",
       "24    2020-01-01         00:00          9105972                     10   \n",
       "25    2020-01-01         00:00          9105972                     10   \n",
       "26    2020-01-01         00:00          9105972                     10   \n",
       "27    2020-01-01         00:00          9105972                     10   \n",
       "28    2020-01-01         00:00          9105972                     10   \n",
       "29    2020-01-01         00:00          9105972                     10   \n",
       "30    2020-01-01         00:00          9105972                     10   \n",
       "31    2020-01-01         00:00          9105972                     10   \n",
       "32    2020-01-01         00:00          9105972                     10   \n",
       "33    2020-01-01         00:00          9105972                     10   \n",
       "34    2020-01-01         00:00          9105972                     10   \n",
       "35    2020-01-01         00:00          9105972                     10   \n",
       "36    2020-01-01         00:00          9105972                     10   \n",
       "37    2020-01-01         00:00          9105972                     10   \n",
       "38    2020-01-01         00:00          9105972                     10   \n",
       "39    2020-01-01         00:00          9105972                     10   \n",
       "40    2020-01-01         00:00          9105972                     10   \n",
       "41    2020-01-01         00:00          9105972                     10   \n",
       "42    2020-01-01         00:00          9105972                     10   \n",
       "43    2020-01-01         00:00          9105972                     10   \n",
       "44    2020-01-01         00:00          9105972                     10   \n",
       "45    2020-01-01         00:00          9105972                     10   \n",
       "46    2020-01-01         00:00          9105972                     10   \n",
       "47    2020-01-01         00:00          9105972                     10   \n",
       "48    2020-01-01         00:00          9105972                     10   \n",
       "49    2020-01-01         00:00          9105972                     10   \n",
       "\n",
       "    Year of birth  Gender      CNK  \\\n",
       "0            1925       2  5520465   \n",
       "1            1923       2  5520465   \n",
       "2            1924       2   736165   \n",
       "3            1921       2   750695   \n",
       "4            1924       2   750695   \n",
       "5            1921       2  7706310   \n",
       "6            1921       2  7706310   \n",
       "7            1924       2   743732   \n",
       "8            1923       2   743732   \n",
       "9            1923       2   789537   \n",
       "10           1925       1  5520465   \n",
       "11           1924       1  5520465   \n",
       "12           1926       1   702217   \n",
       "13           1924       1   702217   \n",
       "14           1928       2   708081   \n",
       "15           1927       2  2342269   \n",
       "16           1926       2  2342285   \n",
       "17           1927       2  4004941   \n",
       "18           1926       1   789537   \n",
       "19           1927       1   789537   \n",
       "20           1927       2   700351   \n",
       "21           1928       2   795187   \n",
       "22           1929       2   795187   \n",
       "23           1929       1  5520465   \n",
       "24           1930       1  5520465   \n",
       "25           1931       1   743294   \n",
       "26           1933       1   743294   \n",
       "27           1933       1   785105   \n",
       "28           1930       1   789537   \n",
       "29           1932       1   789537   \n",
       "30           1930       2   747626   \n",
       "31           1930       2   747626   \n",
       "32           1932       1   779975   \n",
       "33           1930       1   789537   \n",
       "34           1930       1   789537   \n",
       "35           1930       2   700351   \n",
       "36           1934       2   700351   \n",
       "37           1934       2   700351   \n",
       "38           1933       2   700351   \n",
       "39           1934       2   784579   \n",
       "40           1932       2   784579   \n",
       "41           1933       2   791186   \n",
       "42           1934       2   793372   \n",
       "43           1935       1   789537   \n",
       "44           1931       1   789537   \n",
       "45           1935       2   700351   \n",
       "46           1934       1  7701188   \n",
       "47           1932       2   716282   \n",
       "48           1932       2   716282   \n",
       "49           1935       2   729301   \n",
       "\n",
       "                                         Product name ATC code  Units  Price  \\\n",
       "0     HONORARIUM PER WEEK PER RUSTOORDBEWONER ROB-RVT               0   3.20   \n",
       "1     HONORARIUM PER WEEK PER RUSTOORDBEWONER ROB-RVT               0   3.20   \n",
       "2                               BURINEX COMP 1 X 5 MG  C03CA02      0   0.38   \n",
       "3                              XARELTO COMP 1 X 15 MG  B01AF01      0   2.38   \n",
       "4                              XARELTO COMP 1 X 15 MG  B01AF01      0   2.38   \n",
       "5                    ESCITALOPRAM TEVA COMP 1 X 10 MG  N06AB10      0   0.17   \n",
       "6                    ESCITALOPRAM TEVA COMP 1 X 10 MG  N06AB10      0   0.17   \n",
       "7             L THYROXINE CHRISTIAENS COMP 1 X 50 MCG  H03AA01      0   0.02   \n",
       "8             L THYROXINE CHRISTIAENS COMP 1 X 50 MCG  H03AA01      0   0.02   \n",
       "9                            ASAFLOW COMP  1 X  80 MG  B01AC06      0   0.03   \n",
       "10    HONORARIUM PER WEEK PER RUSTOORDBEWONER ROB-RVT               0   3.20   \n",
       "11    HONORARIUM PER WEEK PER RUSTOORDBEWONER ROB-RVT               0   3.20   \n",
       "12                              BURINEX COMP 1 X 1 MG  C03CA02      0   0.11   \n",
       "13                              BURINEX COMP 1 X 1 MG  C03CA02      0   0.11   \n",
       "14                       GLUCOPHAGE COMP   1 X 500 MG  A10BA02      0   0.03   \n",
       "15  ZUURSTOFCONC.KROBER HUUR + ONDERHOUD       OXY...               0  92.80   \n",
       "16  ZUURSTOFCONC.KROBER BEVOCHTIGER 1XGEBR     OXY...               0   5.68   \n",
       "17   HONORARIUM APOTHEKER OXYCONCENTRATOR COORDINATIE               0  12.98   \n",
       "18                           ASAFLOW COMP  1 X  80 MG  B01AC06      0   0.03   \n",
       "19                           ASAFLOW COMP  1 X  80 MG  B01AC06      0   0.03   \n",
       "20                        ALDACTONE COMP   1 X  25 MG  C03DA01      0   0.06   \n",
       "21                     OXYNORM INSTANT COMP 1 X  5 MG  N02AA05      0   0.14   \n",
       "22                     OXYNORM INSTANT COMP 1 X  5 MG  N02AA05      0   0.14   \n",
       "23    HONORARIUM PER WEEK PER RUSTOORDBEWONER ROB-RVT               0   3.20   \n",
       "24    HONORARIUM PER WEEK PER RUSTOORDBEWONER ROB-RVT               0   3.20   \n",
       "25           L THYROXINE CHRISTIAENS COMP 1 X 100 MCG  H03AA01      0   0.04   \n",
       "26           L THYROXINE CHRISTIAENS COMP 1 X 100 MCG  H03AA01      0   0.04   \n",
       "27                           OXYCONTIN COMP 1 X  5 MG  N02AA05      0   0.12   \n",
       "28                           ASAFLOW COMP  1 X  80 MG  B01AC06      0   0.03   \n",
       "29                           ASAFLOW COMP  1 X  80 MG  B01AC06      0   0.03   \n",
       "30                             TRITACE COMP  1 X 5 MG  C09AA05      0   0.22   \n",
       "31                             TRITACE COMP  1 X 5 MG  C09AA05      0   0.22   \n",
       "32                       SERTRALINE EG COMP 1 X 50 MG  N06AB06      0   0.22   \n",
       "33                           ASAFLOW COMP  1 X  80 MG  B01AC06      0   0.03   \n",
       "34                           ASAFLOW COMP  1 X  80 MG  B01AC06      0   0.03   \n",
       "35                        ALDACTONE COMP   1 X  25 MG  C03DA01      0   0.06   \n",
       "36                        ALDACTONE COMP   1 X  25 MG  C03DA01      0   0.06   \n",
       "37                        ALDACTONE COMP   1 X  25 MG  C03DA01      0   0.06   \n",
       "38                        ALDACTONE COMP   1 X  25 MG  C03DA01      0   0.06   \n",
       "39                     SIMVASTATINE EG COMP 1 X 20 MG  C10AA01      0   0.10   \n",
       "40                     SIMVASTATINE EG COMP 1 X 20 MG  C10AA01      0   0.10   \n",
       "41                     PANTOMED NYCOMED COMP 1 X 20MG  A02BC02      0   0.11   \n",
       "42                      LOSARTAN TEVA COMP 1 X 100 MG  C09CA01      0   0.16   \n",
       "43                           ASAFLOW COMP  1 X  80 MG  B01AC06      0   0.03   \n",
       "44                           ASAFLOW COMP  1 X  80 MG  B01AC06      0   0.03   \n",
       "45                        ALDACTONE COMP   1 X  25 MG  C03DA01      0   0.06   \n",
       "46                      DONEPEZIL TEVA COMP 1 X 10 MG  N06DA02      0   0.22   \n",
       "47                            REDOMEX DRAG  1 X 25 MG  N06AA09      0   0.03   \n",
       "48                            REDOMEX DRAG  1 X 25 MG  N06AA09      0   0.03   \n",
       "49                         FUROSEMIDE COMP  1 X 40 MG  C03CA01      0   0.04   \n",
       "\n",
       "    Contribution ATCShort  \n",
       "0           0.00           \n",
       "1           0.00           \n",
       "2           0.08      C03  \n",
       "3           0.10      B01  \n",
       "4           0.10      B01  \n",
       "5           0.04      N06  \n",
       "6           0.04      N06  \n",
       "7           0.01      H03  \n",
       "8           0.01      H03  \n",
       "9           0.01      B01  \n",
       "10          0.00           \n",
       "11          0.00           \n",
       "12          0.04      C03  \n",
       "13          0.04      C03  \n",
       "14          0.00      A10  \n",
       "15          0.00           \n",
       "16          0.00           \n",
       "17          0.00           \n",
       "18          0.01      B01  \n",
       "19          0.01      B01  \n",
       "20          0.01      C03  \n",
       "21          0.05      N02  \n",
       "22          0.06      N02  \n",
       "23          0.00           \n",
       "24          0.00           \n",
       "25          0.01      H03  \n",
       "26          0.01      H03  \n",
       "27          0.06      N02  \n",
       "28          0.01      B01  \n",
       "29          0.01      B01  \n",
       "30          0.09      C09  \n",
       "31          0.09      C09  \n",
       "32          0.05      N06  \n",
       "33          0.01      B01  \n",
       "34          0.01      B01  \n",
       "35          0.00      C03  \n",
       "36          0.01      C03  \n",
       "37          0.01      C03  \n",
       "38          0.01      C03  \n",
       "39          0.03      C10  \n",
       "40          0.04      C10  \n",
       "41          0.04      A02  \n",
       "42          0.05      C09  \n",
       "43          0.01      B01  \n",
       "44          0.01      B01  \n",
       "45          0.01      C03  \n",
       "46          0.04      N06  \n",
       "47          0.00      N06  \n",
       "48          0.01      N06  \n",
       "49          0.01      C03  "
      ]
     },
     "execution_count": 112,
     "metadata": {},
     "output_type": "execute_result"
    }
   ],
   "source": [
    "df['ATCShort'] = df['ATC code'].str[:3]\n",
    "df.head(50)"
   ]
  },
  {
   "cell_type": "code",
   "execution_count": 113,
   "metadata": {},
   "outputs": [
    {
     "data": {
      "text/plain": [
       "Timestamp('2020-01-01 00:00:00')"
      ]
     },
     "execution_count": 113,
     "metadata": {},
     "output_type": "execute_result"
    }
   ],
   "source": [
    "df['Delivery date'].min()"
   ]
  },
  {
   "cell_type": "code",
   "execution_count": 114,
   "metadata": {},
   "outputs": [
    {
     "data": {
      "text/plain": [
       "Timestamp('2020-12-06 00:00:00')"
      ]
     },
     "execution_count": 114,
     "metadata": {},
     "output_type": "execute_result"
    }
   ],
   "source": [
    "df['Delivery date'].max()"
   ]
  },
  {
   "cell_type": "markdown",
   "metadata": {},
   "source": [
    "# Sales in 2020"
   ]
  },
  {
   "cell_type": "code",
   "execution_count": 57,
   "metadata": {},
   "outputs": [],
   "source": [
    "df = df.sort_values('Delivery date')"
   ]
  },
  {
   "cell_type": "code",
   "execution_count": 58,
   "metadata": {},
   "outputs": [],
   "source": [
    "df = df.groupby('Delivery date')['Price'].sum().reset_index()"
   ]
  },
  {
   "cell_type": "code",
   "execution_count": 59,
   "metadata": {},
   "outputs": [
    {
     "data": {
      "text/html": [
       "<div>\n",
       "<style scoped>\n",
       "    .dataframe tbody tr th:only-of-type {\n",
       "        vertical-align: middle;\n",
       "    }\n",
       "\n",
       "    .dataframe tbody tr th {\n",
       "        vertical-align: top;\n",
       "    }\n",
       "\n",
       "    .dataframe thead th {\n",
       "        text-align: right;\n",
       "    }\n",
       "</style>\n",
       "<table border=\"1\" class=\"dataframe\">\n",
       "  <thead>\n",
       "    <tr style=\"text-align: right;\">\n",
       "      <th></th>\n",
       "      <th>Delivery date</th>\n",
       "      <th>Price</th>\n",
       "    </tr>\n",
       "  </thead>\n",
       "  <tbody>\n",
       "    <tr>\n",
       "      <th>0</th>\n",
       "      <td>2020-01-01</td>\n",
       "      <td>9940.83</td>\n",
       "    </tr>\n",
       "    <tr>\n",
       "      <th>1</th>\n",
       "      <td>2020-01-02</td>\n",
       "      <td>552784.38</td>\n",
       "    </tr>\n",
       "    <tr>\n",
       "      <th>2</th>\n",
       "      <td>2020-01-03</td>\n",
       "      <td>608643.46</td>\n",
       "    </tr>\n",
       "    <tr>\n",
       "      <th>3</th>\n",
       "      <td>2020-01-04</td>\n",
       "      <td>304993.12</td>\n",
       "    </tr>\n",
       "    <tr>\n",
       "      <th>4</th>\n",
       "      <td>2020-01-05</td>\n",
       "      <td>14375.33</td>\n",
       "    </tr>\n",
       "    <tr>\n",
       "      <th>...</th>\n",
       "      <td>...</td>\n",
       "      <td>...</td>\n",
       "    </tr>\n",
       "    <tr>\n",
       "      <th>237</th>\n",
       "      <td>2020-11-07</td>\n",
       "      <td>475.05</td>\n",
       "    </tr>\n",
       "    <tr>\n",
       "      <th>238</th>\n",
       "      <td>2020-12-02</td>\n",
       "      <td>3504.75</td>\n",
       "    </tr>\n",
       "    <tr>\n",
       "      <th>239</th>\n",
       "      <td>2020-12-03</td>\n",
       "      <td>3081.04</td>\n",
       "    </tr>\n",
       "    <tr>\n",
       "      <th>240</th>\n",
       "      <td>2020-12-05</td>\n",
       "      <td>4787.53</td>\n",
       "    </tr>\n",
       "    <tr>\n",
       "      <th>241</th>\n",
       "      <td>2020-12-06</td>\n",
       "      <td>908.60</td>\n",
       "    </tr>\n",
       "  </tbody>\n",
       "</table>\n",
       "<p>242 rows × 2 columns</p>\n",
       "</div>"
      ],
      "text/plain": [
       "    Delivery date      Price\n",
       "0      2020-01-01    9940.83\n",
       "1      2020-01-02  552784.38\n",
       "2      2020-01-03  608643.46\n",
       "3      2020-01-04  304993.12\n",
       "4      2020-01-05   14375.33\n",
       "..            ...        ...\n",
       "237    2020-11-07     475.05\n",
       "238    2020-12-02    3504.75\n",
       "239    2020-12-03    3081.04\n",
       "240    2020-12-05    4787.53\n",
       "241    2020-12-06     908.60\n",
       "\n",
       "[242 rows x 2 columns]"
      ]
     },
     "execution_count": 59,
     "metadata": {},
     "output_type": "execute_result"
    }
   ],
   "source": [
    "df"
   ]
  },
  {
   "cell_type": "code",
   "execution_count": 60,
   "metadata": {},
   "outputs": [],
   "source": [
    "df['month'] = df['Delivery date'].dt.month"
   ]
  },
  {
   "cell_type": "code",
   "execution_count": 61,
   "metadata": {},
   "outputs": [
    {
     "data": {
      "text/plain": [
       "0       1\n",
       "1       1\n",
       "2       1\n",
       "3       1\n",
       "4       1\n",
       "       ..\n",
       "237    11\n",
       "238    12\n",
       "239    12\n",
       "240    12\n",
       "241    12\n",
       "Name: month, Length: 242, dtype: int64"
      ]
     },
     "execution_count": 61,
     "metadata": {},
     "output_type": "execute_result"
    }
   ],
   "source": [
    "df['month']"
   ]
  },
  {
   "cell_type": "code",
   "execution_count": 62,
   "metadata": {},
   "outputs": [],
   "source": [
    "import calendar\n",
    "df['monthName'] = df['month'].apply(lambda x: calendar.month_name[x])"
   ]
  },
  {
   "cell_type": "code",
   "execution_count": 63,
   "metadata": {},
   "outputs": [
    {
     "data": {
      "text/plain": [
       "0       January\n",
       "1       January\n",
       "2       January\n",
       "3       January\n",
       "4       January\n",
       "         ...   \n",
       "237    November\n",
       "238    December\n",
       "239    December\n",
       "240    December\n",
       "241    December\n",
       "Name: monthName, Length: 242, dtype: object"
      ]
     },
     "execution_count": 63,
     "metadata": {},
     "output_type": "execute_result"
    }
   ],
   "source": [
    "df['monthName']"
   ]
  },
  {
   "cell_type": "markdown",
   "metadata": {},
   "source": [
    "ordered_months = [\"January\", \"February\", \"March\", \"April\", \"May\", \"June\", \n",
    "          \"July\", \"August\", \"September\", \"October\", \"November\", \"December\"]\n",
    "df['monthName'].apply(lambda x:ordered_months.index(x))"
   ]
  },
  {
   "cell_type": "code",
   "execution_count": 64,
   "metadata": {},
   "outputs": [
    {
     "data": {
      "text/html": [
       "<div>\n",
       "<style scoped>\n",
       "    .dataframe tbody tr th:only-of-type {\n",
       "        vertical-align: middle;\n",
       "    }\n",
       "\n",
       "    .dataframe tbody tr th {\n",
       "        vertical-align: top;\n",
       "    }\n",
       "\n",
       "    .dataframe thead th {\n",
       "        text-align: right;\n",
       "    }\n",
       "</style>\n",
       "<table border=\"1\" class=\"dataframe\">\n",
       "  <thead>\n",
       "    <tr style=\"text-align: right;\">\n",
       "      <th></th>\n",
       "      <th>Delivery date</th>\n",
       "      <th>Price</th>\n",
       "      <th>month</th>\n",
       "      <th>monthName</th>\n",
       "    </tr>\n",
       "  </thead>\n",
       "  <tbody>\n",
       "    <tr>\n",
       "      <th>0</th>\n",
       "      <td>2020-01-01</td>\n",
       "      <td>9940.83</td>\n",
       "      <td>1</td>\n",
       "      <td>January</td>\n",
       "    </tr>\n",
       "    <tr>\n",
       "      <th>1</th>\n",
       "      <td>2020-01-02</td>\n",
       "      <td>552784.38</td>\n",
       "      <td>1</td>\n",
       "      <td>January</td>\n",
       "    </tr>\n",
       "    <tr>\n",
       "      <th>2</th>\n",
       "      <td>2020-01-03</td>\n",
       "      <td>608643.46</td>\n",
       "      <td>1</td>\n",
       "      <td>January</td>\n",
       "    </tr>\n",
       "    <tr>\n",
       "      <th>3</th>\n",
       "      <td>2020-01-04</td>\n",
       "      <td>304993.12</td>\n",
       "      <td>1</td>\n",
       "      <td>January</td>\n",
       "    </tr>\n",
       "    <tr>\n",
       "      <th>4</th>\n",
       "      <td>2020-01-05</td>\n",
       "      <td>14375.33</td>\n",
       "      <td>1</td>\n",
       "      <td>January</td>\n",
       "    </tr>\n",
       "    <tr>\n",
       "      <th>...</th>\n",
       "      <td>...</td>\n",
       "      <td>...</td>\n",
       "      <td>...</td>\n",
       "      <td>...</td>\n",
       "    </tr>\n",
       "    <tr>\n",
       "      <th>237</th>\n",
       "      <td>2020-11-07</td>\n",
       "      <td>475.05</td>\n",
       "      <td>11</td>\n",
       "      <td>November</td>\n",
       "    </tr>\n",
       "    <tr>\n",
       "      <th>238</th>\n",
       "      <td>2020-12-02</td>\n",
       "      <td>3504.75</td>\n",
       "      <td>12</td>\n",
       "      <td>December</td>\n",
       "    </tr>\n",
       "    <tr>\n",
       "      <th>239</th>\n",
       "      <td>2020-12-03</td>\n",
       "      <td>3081.04</td>\n",
       "      <td>12</td>\n",
       "      <td>December</td>\n",
       "    </tr>\n",
       "    <tr>\n",
       "      <th>240</th>\n",
       "      <td>2020-12-05</td>\n",
       "      <td>4787.53</td>\n",
       "      <td>12</td>\n",
       "      <td>December</td>\n",
       "    </tr>\n",
       "    <tr>\n",
       "      <th>241</th>\n",
       "      <td>2020-12-06</td>\n",
       "      <td>908.60</td>\n",
       "      <td>12</td>\n",
       "      <td>December</td>\n",
       "    </tr>\n",
       "  </tbody>\n",
       "</table>\n",
       "<p>242 rows × 4 columns</p>\n",
       "</div>"
      ],
      "text/plain": [
       "    Delivery date      Price  month monthName\n",
       "0      2020-01-01    9940.83      1   January\n",
       "1      2020-01-02  552784.38      1   January\n",
       "2      2020-01-03  608643.46      1   January\n",
       "3      2020-01-04  304993.12      1   January\n",
       "4      2020-01-05   14375.33      1   January\n",
       "..            ...        ...    ...       ...\n",
       "237    2020-11-07     475.05     11  November\n",
       "238    2020-12-02    3504.75     12  December\n",
       "239    2020-12-03    3081.04     12  December\n",
       "240    2020-12-05    4787.53     12  December\n",
       "241    2020-12-06     908.60     12  December\n",
       "\n",
       "[242 rows x 4 columns]"
      ]
     },
     "execution_count": 64,
     "metadata": {},
     "output_type": "execute_result"
    }
   ],
   "source": [
    "df"
   ]
  },
  {
   "cell_type": "code",
   "execution_count": 65,
   "metadata": {
    "collapsed": true
   },
   "outputs": [
    {
     "data": {
      "application/vnd.plotly.v1+json": {
       "config": {
        "plotlyServerURL": "https://plot.ly"
       },
       "data": [
        {
         "hovertemplate": "monthName=%{x}<br>Price=%{y}<extra></extra>",
         "legendgroup": "",
         "line": {
          "color": "#636efa",
          "dash": "solid"
         },
         "mode": "lines",
         "name": "",
         "orientation": "v",
         "showlegend": false,
         "type": "scatter",
         "x": [
          "January",
          "January",
          "January",
          "January",
          "January",
          "January",
          "January",
          "January",
          "January",
          "January",
          "January",
          "January",
          "January",
          "January",
          "January",
          "January",
          "January",
          "January",
          "January",
          "January",
          "January",
          "January",
          "January",
          "January",
          "January",
          "January",
          "January",
          "January",
          "January",
          "January",
          "January",
          "February",
          "February",
          "February",
          "February",
          "February",
          "February",
          "February",
          "February",
          "February",
          "February",
          "February",
          "February",
          "February",
          "February",
          "February",
          "February",
          "February",
          "February",
          "February",
          "February",
          "February",
          "February",
          "February",
          "February",
          "February",
          "February",
          "February",
          "February",
          "February",
          "March",
          "March",
          "March",
          "March",
          "March",
          "March",
          "March",
          "March",
          "March",
          "March",
          "March",
          "March",
          "March",
          "March",
          "March",
          "March",
          "March",
          "March",
          "March",
          "March",
          "March",
          "March",
          "March",
          "March",
          "March",
          "March",
          "March",
          "March",
          "March",
          "March",
          "March",
          "April",
          "April",
          "April",
          "April",
          "April",
          "April",
          "April",
          "April",
          "April",
          "April",
          "April",
          "April",
          "April",
          "April",
          "April",
          "April",
          "April",
          "April",
          "April",
          "April",
          "April",
          "April",
          "April",
          "April",
          "April",
          "April",
          "April",
          "April",
          "April",
          "April",
          "May",
          "May",
          "May",
          "May",
          "May",
          "May",
          "May",
          "May",
          "May",
          "May",
          "May",
          "May",
          "May",
          "May",
          "May",
          "May",
          "May",
          "May",
          "May",
          "May",
          "May",
          "May",
          "May",
          "May",
          "May",
          "May",
          "May",
          "May",
          "May",
          "May",
          "May",
          "June",
          "June",
          "June",
          "June",
          "June",
          "June",
          "June",
          "June",
          "June",
          "June",
          "June",
          "June",
          "June",
          "June",
          "June",
          "June",
          "June",
          "June",
          "June",
          "June",
          "June",
          "June",
          "June",
          "June",
          "June",
          "June",
          "June",
          "June",
          "June",
          "June",
          "July",
          "July",
          "July",
          "July",
          "July",
          "July",
          "July",
          "July",
          "July",
          "July",
          "July",
          "July",
          "July",
          "July",
          "July",
          "July",
          "July",
          "July",
          "July",
          "July",
          "July",
          "July",
          "July",
          "July",
          "July",
          "July",
          "July",
          "July",
          "July",
          "July",
          "July",
          "August",
          "August",
          "August",
          "August",
          "August",
          "August",
          "September",
          "September",
          "September",
          "September",
          "September",
          "September",
          "October",
          "October",
          "October",
          "October",
          "October",
          "October",
          "November",
          "November",
          "November",
          "November",
          "November",
          "November",
          "November",
          "December",
          "December",
          "December",
          "December"
         ],
         "xaxis": "x",
         "y": [
          9940.82999999995,
          552784.3800000104,
          608643.4600000142,
          304993.1199999983,
          14375.329999999944,
          761272.5700000317,
          798306.6100000192,
          1175003.340000039,
          1329769.2900000387,
          1465736.2400000591,
          529669.6700000085,
          17659.209999999926,
          1305834.6900000044,
          1256955.150000015,
          1397287.320000027,
          1317059.3000000266,
          1338391.0900000357,
          522051.8700000058,
          19454.759999999886,
          1219459.629999998,
          1220286.030000013,
          1068584.5100000077,
          1173998.5000000275,
          1470963.970000018,
          545074.0800000159,
          14106.709999999915,
          1099013.9800000014,
          1068197.9100000167,
          1239246.2700000086,
          1216295.1500000008,
          1509046.3100000229,
          273721.85999999865,
          9512.999999999956,
          661578.2600000108,
          654358.1800000106,
          657598.1400000096,
          727869.3500000108,
          766036.9200000148,
          295363.1699999996,
          4945.409999999998,
          803781.0600000145,
          970192.0500000212,
          811912.1300000176,
          801659.1300000243,
          925591.8800000228,
          342790.53000000323,
          10560.149999999932,
          948351.3500000158,
          728425.0700000138,
          726584.9900000127,
          709799.0600000069,
          774642.57000001,
          315169.8600000003,
          9149.389999999928,
          687691.1100000099,
          679781.9500000157,
          666602.2700000136,
          645294.6900000018,
          827791.9900000287,
          473986.7900000017,
          14516.30999999993,
          746662.490000015,
          766343.4700000165,
          713496.7000000092,
          657762.5500000106,
          756406.5000000164,
          311022.8699999994,
          20382.390000000163,
          698650.0000000142,
          717352.8400000066,
          691677.600000001,
          755327.7500000097,
          1054293.380000031,
          336868.05000000127,
          6806.779999999984,
          869057.7900000033,
          1145078.150000055,
          952172.870000021,
          768047.4600000081,
          848136.290000018,
          328150.9499999991,
          10209.629999999954,
          737207.7500000036,
          738906.1300000063,
          631572.3300000138,
          611560.470000007,
          727849.4400000119,
          259770.06999999826,
          10666.669999999971,
          737594.4200000181,
          1131752.5000000275,
          583987.4599999984,
          645516.4900000113,
          755184.8600000242,
          219727.41999999926,
          14935.059999999958,
          628888.1300000078,
          703896.5300000224,
          628184.4500000009,
          589225.7100000097,
          679135.2700000122,
          230850.83999999985,
          11405.609999999922,
          22085.200000000354,
          701869.5800000074,
          666924.2700000087,
          810815.0500000064,
          681034.1400000117,
          221141.8599999992,
          8036.719999999998,
          657216.3100000134,
          706310.450000008,
          557036.0000000035,
          628575.9800000063,
          677123.9000000039,
          268839.7299999984,
          3343.1100000000056,
          657866.4300000081,
          794292.9800000122,
          651711.7400000057,
          1633312.7500000298,
          13694.369999999892,
          243357.29999999798,
          6407.76,
          1394235.7300000275,
          1283917.9700000081,
          1127098.9000000393,
          1172890.2200000524,
          1409656.30000006,
          459941.8500000025,
          13890.799999999972,
          1133463.500000011,
          1365565.4000000574,
          1163835.3000000052,
          1152776.6100000273,
          1196632.6400000148,
          467165.4700000025,
          11112.84999999995,
          1206258.4700000093,
          1300832.9300000428,
          1747943.4600000207,
          13891.73000000014,
          1395574.0800000166,
          683641.130000009,
          24229.109999999975,
          1982083.2800000685,
          1471634.2300000302,
          1338423.550000048,
          1421236.1800000544,
          1806172.7800000273,
          620498.7900000082,
          61336.280000000545,
          17215.91000000074,
          839956.1300000207,
          793232.0100000221,
          836631.4100000118,
          849399.2500000254,
          304855.8399999983,
          5837.60999999998,
          783704.2000000072,
          827754.2100000131,
          751299.8700000148,
          709061.479999996,
          838828.0900000206,
          295159.2599999977,
          5835.88999999999,
          754607.8800000086,
          913463.0000000276,
          680862.1100000091,
          742191.8600000134,
          832090.1500000259,
          340575.499999995,
          6760.859999999985,
          885927.7300000017,
          838414.6900000189,
          690978.7500000146,
          762547.7700000167,
          826825.1800000168,
          339720.6799999988,
          9150.979999999976,
          891364.7300000166,
          978890.4000000282,
          719269.5100000042,
          1357353.7900000748,
          1356226.03000008,
          534482.0399999989,
          19195.350000000082,
          762941.7100000038,
          776915.030000008,
          684085.9199999964,
          684624.9600000003,
          1047197.3900000063,
          297507.77999999706,
          6413.809999999981,
          653344.9500000007,
          711932.5900000102,
          706048.5400000089,
          888427.4399999925,
          749156.7400000114,
          281797.43999999727,
          13739.349999999957,
          731466.0300000076,
          10804.310000000078,
          767607.7900000038,
          987624.6600000121,
          747580.030000008,
          379337.0500000029,
          9352.910000000002,
          711567.0300000048,
          713659.8400000066,
          773697.2200000036,
          661521.710000005,
          760179.4800000077,
          5074.479999999999,
          729.5600000000001,
          1524.2199999999993,
          5297.670000000002,
          3118.230000000001,
          2449.100000000001,
          3781.869999999998,
          2043.1300000000003,
          1670.6499999999996,
          1233.6899999999998,
          3665.2000000000003,
          3176.8899999999994,
          5677.720000000005,
          5893.000000000004,
          2492.17,
          3447.5800000000027,
          1241.85,
          590.9500000000002,
          4356.369999999999,
          3272.6800000000007,
          2835.74,
          485.98,
          2793.1099999999983,
          1396.7999999999997,
          475.05,
          3504.750000000001,
          3081.040000000001,
          4787.530000000003,
          908.5999999999999
         ],
         "yaxis": "y"
        }
       ],
       "layout": {
        "legend": {
         "tracegroupgap": 0
        },
        "template": {
         "data": {
          "bar": [
           {
            "error_x": {
             "color": "#2a3f5f"
            },
            "error_y": {
             "color": "#2a3f5f"
            },
            "marker": {
             "line": {
              "color": "#E5ECF6",
              "width": 0.5
             }
            },
            "type": "bar"
           }
          ],
          "barpolar": [
           {
            "marker": {
             "line": {
              "color": "#E5ECF6",
              "width": 0.5
             }
            },
            "type": "barpolar"
           }
          ],
          "carpet": [
           {
            "aaxis": {
             "endlinecolor": "#2a3f5f",
             "gridcolor": "white",
             "linecolor": "white",
             "minorgridcolor": "white",
             "startlinecolor": "#2a3f5f"
            },
            "baxis": {
             "endlinecolor": "#2a3f5f",
             "gridcolor": "white",
             "linecolor": "white",
             "minorgridcolor": "white",
             "startlinecolor": "#2a3f5f"
            },
            "type": "carpet"
           }
          ],
          "choropleth": [
           {
            "colorbar": {
             "outlinewidth": 0,
             "ticks": ""
            },
            "type": "choropleth"
           }
          ],
          "contour": [
           {
            "colorbar": {
             "outlinewidth": 0,
             "ticks": ""
            },
            "colorscale": [
             [
              0,
              "#0d0887"
             ],
             [
              0.1111111111111111,
              "#46039f"
             ],
             [
              0.2222222222222222,
              "#7201a8"
             ],
             [
              0.3333333333333333,
              "#9c179e"
             ],
             [
              0.4444444444444444,
              "#bd3786"
             ],
             [
              0.5555555555555556,
              "#d8576b"
             ],
             [
              0.6666666666666666,
              "#ed7953"
             ],
             [
              0.7777777777777778,
              "#fb9f3a"
             ],
             [
              0.8888888888888888,
              "#fdca26"
             ],
             [
              1,
              "#f0f921"
             ]
            ],
            "type": "contour"
           }
          ],
          "contourcarpet": [
           {
            "colorbar": {
             "outlinewidth": 0,
             "ticks": ""
            },
            "type": "contourcarpet"
           }
          ],
          "heatmap": [
           {
            "colorbar": {
             "outlinewidth": 0,
             "ticks": ""
            },
            "colorscale": [
             [
              0,
              "#0d0887"
             ],
             [
              0.1111111111111111,
              "#46039f"
             ],
             [
              0.2222222222222222,
              "#7201a8"
             ],
             [
              0.3333333333333333,
              "#9c179e"
             ],
             [
              0.4444444444444444,
              "#bd3786"
             ],
             [
              0.5555555555555556,
              "#d8576b"
             ],
             [
              0.6666666666666666,
              "#ed7953"
             ],
             [
              0.7777777777777778,
              "#fb9f3a"
             ],
             [
              0.8888888888888888,
              "#fdca26"
             ],
             [
              1,
              "#f0f921"
             ]
            ],
            "type": "heatmap"
           }
          ],
          "heatmapgl": [
           {
            "colorbar": {
             "outlinewidth": 0,
             "ticks": ""
            },
            "colorscale": [
             [
              0,
              "#0d0887"
             ],
             [
              0.1111111111111111,
              "#46039f"
             ],
             [
              0.2222222222222222,
              "#7201a8"
             ],
             [
              0.3333333333333333,
              "#9c179e"
             ],
             [
              0.4444444444444444,
              "#bd3786"
             ],
             [
              0.5555555555555556,
              "#d8576b"
             ],
             [
              0.6666666666666666,
              "#ed7953"
             ],
             [
              0.7777777777777778,
              "#fb9f3a"
             ],
             [
              0.8888888888888888,
              "#fdca26"
             ],
             [
              1,
              "#f0f921"
             ]
            ],
            "type": "heatmapgl"
           }
          ],
          "histogram": [
           {
            "marker": {
             "colorbar": {
              "outlinewidth": 0,
              "ticks": ""
             }
            },
            "type": "histogram"
           }
          ],
          "histogram2d": [
           {
            "colorbar": {
             "outlinewidth": 0,
             "ticks": ""
            },
            "colorscale": [
             [
              0,
              "#0d0887"
             ],
             [
              0.1111111111111111,
              "#46039f"
             ],
             [
              0.2222222222222222,
              "#7201a8"
             ],
             [
              0.3333333333333333,
              "#9c179e"
             ],
             [
              0.4444444444444444,
              "#bd3786"
             ],
             [
              0.5555555555555556,
              "#d8576b"
             ],
             [
              0.6666666666666666,
              "#ed7953"
             ],
             [
              0.7777777777777778,
              "#fb9f3a"
             ],
             [
              0.8888888888888888,
              "#fdca26"
             ],
             [
              1,
              "#f0f921"
             ]
            ],
            "type": "histogram2d"
           }
          ],
          "histogram2dcontour": [
           {
            "colorbar": {
             "outlinewidth": 0,
             "ticks": ""
            },
            "colorscale": [
             [
              0,
              "#0d0887"
             ],
             [
              0.1111111111111111,
              "#46039f"
             ],
             [
              0.2222222222222222,
              "#7201a8"
             ],
             [
              0.3333333333333333,
              "#9c179e"
             ],
             [
              0.4444444444444444,
              "#bd3786"
             ],
             [
              0.5555555555555556,
              "#d8576b"
             ],
             [
              0.6666666666666666,
              "#ed7953"
             ],
             [
              0.7777777777777778,
              "#fb9f3a"
             ],
             [
              0.8888888888888888,
              "#fdca26"
             ],
             [
              1,
              "#f0f921"
             ]
            ],
            "type": "histogram2dcontour"
           }
          ],
          "mesh3d": [
           {
            "colorbar": {
             "outlinewidth": 0,
             "ticks": ""
            },
            "type": "mesh3d"
           }
          ],
          "parcoords": [
           {
            "line": {
             "colorbar": {
              "outlinewidth": 0,
              "ticks": ""
             }
            },
            "type": "parcoords"
           }
          ],
          "pie": [
           {
            "automargin": true,
            "type": "pie"
           }
          ],
          "scatter": [
           {
            "marker": {
             "colorbar": {
              "outlinewidth": 0,
              "ticks": ""
             }
            },
            "type": "scatter"
           }
          ],
          "scatter3d": [
           {
            "line": {
             "colorbar": {
              "outlinewidth": 0,
              "ticks": ""
             }
            },
            "marker": {
             "colorbar": {
              "outlinewidth": 0,
              "ticks": ""
             }
            },
            "type": "scatter3d"
           }
          ],
          "scattercarpet": [
           {
            "marker": {
             "colorbar": {
              "outlinewidth": 0,
              "ticks": ""
             }
            },
            "type": "scattercarpet"
           }
          ],
          "scattergeo": [
           {
            "marker": {
             "colorbar": {
              "outlinewidth": 0,
              "ticks": ""
             }
            },
            "type": "scattergeo"
           }
          ],
          "scattergl": [
           {
            "marker": {
             "colorbar": {
              "outlinewidth": 0,
              "ticks": ""
             }
            },
            "type": "scattergl"
           }
          ],
          "scattermapbox": [
           {
            "marker": {
             "colorbar": {
              "outlinewidth": 0,
              "ticks": ""
             }
            },
            "type": "scattermapbox"
           }
          ],
          "scatterpolar": [
           {
            "marker": {
             "colorbar": {
              "outlinewidth": 0,
              "ticks": ""
             }
            },
            "type": "scatterpolar"
           }
          ],
          "scatterpolargl": [
           {
            "marker": {
             "colorbar": {
              "outlinewidth": 0,
              "ticks": ""
             }
            },
            "type": "scatterpolargl"
           }
          ],
          "scatterternary": [
           {
            "marker": {
             "colorbar": {
              "outlinewidth": 0,
              "ticks": ""
             }
            },
            "type": "scatterternary"
           }
          ],
          "surface": [
           {
            "colorbar": {
             "outlinewidth": 0,
             "ticks": ""
            },
            "colorscale": [
             [
              0,
              "#0d0887"
             ],
             [
              0.1111111111111111,
              "#46039f"
             ],
             [
              0.2222222222222222,
              "#7201a8"
             ],
             [
              0.3333333333333333,
              "#9c179e"
             ],
             [
              0.4444444444444444,
              "#bd3786"
             ],
             [
              0.5555555555555556,
              "#d8576b"
             ],
             [
              0.6666666666666666,
              "#ed7953"
             ],
             [
              0.7777777777777778,
              "#fb9f3a"
             ],
             [
              0.8888888888888888,
              "#fdca26"
             ],
             [
              1,
              "#f0f921"
             ]
            ],
            "type": "surface"
           }
          ],
          "table": [
           {
            "cells": {
             "fill": {
              "color": "#EBF0F8"
             },
             "line": {
              "color": "white"
             }
            },
            "header": {
             "fill": {
              "color": "#C8D4E3"
             },
             "line": {
              "color": "white"
             }
            },
            "type": "table"
           }
          ]
         },
         "layout": {
          "annotationdefaults": {
           "arrowcolor": "#2a3f5f",
           "arrowhead": 0,
           "arrowwidth": 1
          },
          "coloraxis": {
           "colorbar": {
            "outlinewidth": 0,
            "ticks": ""
           }
          },
          "colorscale": {
           "diverging": [
            [
             0,
             "#8e0152"
            ],
            [
             0.1,
             "#c51b7d"
            ],
            [
             0.2,
             "#de77ae"
            ],
            [
             0.3,
             "#f1b6da"
            ],
            [
             0.4,
             "#fde0ef"
            ],
            [
             0.5,
             "#f7f7f7"
            ],
            [
             0.6,
             "#e6f5d0"
            ],
            [
             0.7,
             "#b8e186"
            ],
            [
             0.8,
             "#7fbc41"
            ],
            [
             0.9,
             "#4d9221"
            ],
            [
             1,
             "#276419"
            ]
           ],
           "sequential": [
            [
             0,
             "#0d0887"
            ],
            [
             0.1111111111111111,
             "#46039f"
            ],
            [
             0.2222222222222222,
             "#7201a8"
            ],
            [
             0.3333333333333333,
             "#9c179e"
            ],
            [
             0.4444444444444444,
             "#bd3786"
            ],
            [
             0.5555555555555556,
             "#d8576b"
            ],
            [
             0.6666666666666666,
             "#ed7953"
            ],
            [
             0.7777777777777778,
             "#fb9f3a"
            ],
            [
             0.8888888888888888,
             "#fdca26"
            ],
            [
             1,
             "#f0f921"
            ]
           ],
           "sequentialminus": [
            [
             0,
             "#0d0887"
            ],
            [
             0.1111111111111111,
             "#46039f"
            ],
            [
             0.2222222222222222,
             "#7201a8"
            ],
            [
             0.3333333333333333,
             "#9c179e"
            ],
            [
             0.4444444444444444,
             "#bd3786"
            ],
            [
             0.5555555555555556,
             "#d8576b"
            ],
            [
             0.6666666666666666,
             "#ed7953"
            ],
            [
             0.7777777777777778,
             "#fb9f3a"
            ],
            [
             0.8888888888888888,
             "#fdca26"
            ],
            [
             1,
             "#f0f921"
            ]
           ]
          },
          "colorway": [
           "#636efa",
           "#EF553B",
           "#00cc96",
           "#ab63fa",
           "#FFA15A",
           "#19d3f3",
           "#FF6692",
           "#B6E880",
           "#FF97FF",
           "#FECB52"
          ],
          "font": {
           "color": "#2a3f5f"
          },
          "geo": {
           "bgcolor": "white",
           "lakecolor": "white",
           "landcolor": "#E5ECF6",
           "showlakes": true,
           "showland": true,
           "subunitcolor": "white"
          },
          "hoverlabel": {
           "align": "left"
          },
          "hovermode": "closest",
          "mapbox": {
           "style": "light"
          },
          "paper_bgcolor": "white",
          "plot_bgcolor": "#E5ECF6",
          "polar": {
           "angularaxis": {
            "gridcolor": "white",
            "linecolor": "white",
            "ticks": ""
           },
           "bgcolor": "#E5ECF6",
           "radialaxis": {
            "gridcolor": "white",
            "linecolor": "white",
            "ticks": ""
           }
          },
          "scene": {
           "xaxis": {
            "backgroundcolor": "#E5ECF6",
            "gridcolor": "white",
            "gridwidth": 2,
            "linecolor": "white",
            "showbackground": true,
            "ticks": "",
            "zerolinecolor": "white"
           },
           "yaxis": {
            "backgroundcolor": "#E5ECF6",
            "gridcolor": "white",
            "gridwidth": 2,
            "linecolor": "white",
            "showbackground": true,
            "ticks": "",
            "zerolinecolor": "white"
           },
           "zaxis": {
            "backgroundcolor": "#E5ECF6",
            "gridcolor": "white",
            "gridwidth": 2,
            "linecolor": "white",
            "showbackground": true,
            "ticks": "",
            "zerolinecolor": "white"
           }
          },
          "shapedefaults": {
           "line": {
            "color": "#2a3f5f"
           }
          },
          "ternary": {
           "aaxis": {
            "gridcolor": "white",
            "linecolor": "white",
            "ticks": ""
           },
           "baxis": {
            "gridcolor": "white",
            "linecolor": "white",
            "ticks": ""
           },
           "bgcolor": "#E5ECF6",
           "caxis": {
            "gridcolor": "white",
            "linecolor": "white",
            "ticks": ""
           }
          },
          "title": {
           "x": 0.05
          },
          "xaxis": {
           "automargin": true,
           "gridcolor": "white",
           "linecolor": "white",
           "ticks": "",
           "title": {
            "standoff": 15
           },
           "zerolinecolor": "white",
           "zerolinewidth": 2
          },
          "yaxis": {
           "automargin": true,
           "gridcolor": "white",
           "linecolor": "white",
           "ticks": "",
           "title": {
            "standoff": 15
           },
           "zerolinecolor": "white",
           "zerolinewidth": 2
          }
         }
        },
        "title": {
         "text": "Sales in 2020"
        },
        "xaxis": {
         "anchor": "y",
         "domain": [
          0,
          1
         ],
         "title": {
          "text": "monthName"
         }
        },
        "yaxis": {
         "anchor": "x",
         "domain": [
          0,
          1
         ],
         "title": {
          "text": "Price"
         }
        }
       }
      },
      "text/html": [
       "<div>                            <div id=\"681bdb5d-7f54-4d5a-8a0c-a5ca0f2d3b65\" class=\"plotly-graph-div\" style=\"height:525px; width:100%;\"></div>            <script type=\"text/javascript\">                require([\"plotly\"], function(Plotly) {                    window.PLOTLYENV=window.PLOTLYENV || {};                                    if (document.getElementById(\"681bdb5d-7f54-4d5a-8a0c-a5ca0f2d3b65\")) {                    Plotly.newPlot(                        \"681bdb5d-7f54-4d5a-8a0c-a5ca0f2d3b65\",                        [{\"hovertemplate\": \"monthName=%{x}<br>Price=%{y}<extra></extra>\", \"legendgroup\": \"\", \"line\": {\"color\": \"#636efa\", \"dash\": \"solid\"}, \"mode\": \"lines\", \"name\": \"\", \"orientation\": \"v\", \"showlegend\": false, \"type\": \"scatter\", \"x\": [\"January\", \"January\", \"January\", \"January\", \"January\", \"January\", \"January\", \"January\", \"January\", \"January\", \"January\", \"January\", \"January\", \"January\", \"January\", \"January\", \"January\", \"January\", \"January\", \"January\", \"January\", \"January\", \"January\", \"January\", \"January\", \"January\", \"January\", \"January\", \"January\", \"January\", \"January\", \"February\", \"February\", \"February\", \"February\", \"February\", \"February\", \"February\", \"February\", \"February\", \"February\", \"February\", \"February\", \"February\", \"February\", \"February\", \"February\", \"February\", \"February\", \"February\", \"February\", \"February\", \"February\", \"February\", \"February\", \"February\", \"February\", \"February\", \"February\", \"February\", \"March\", \"March\", \"March\", \"March\", \"March\", \"March\", \"March\", \"March\", \"March\", \"March\", \"March\", \"March\", \"March\", \"March\", \"March\", \"March\", \"March\", \"March\", \"March\", \"March\", \"March\", \"March\", \"March\", \"March\", \"March\", \"March\", \"March\", \"March\", \"March\", \"March\", \"March\", \"April\", \"April\", \"April\", \"April\", \"April\", \"April\", \"April\", \"April\", \"April\", \"April\", \"April\", \"April\", \"April\", \"April\", \"April\", \"April\", \"April\", \"April\", \"April\", \"April\", \"April\", \"April\", \"April\", \"April\", \"April\", \"April\", \"April\", \"April\", \"April\", \"April\", \"May\", \"May\", \"May\", \"May\", \"May\", \"May\", \"May\", \"May\", \"May\", \"May\", \"May\", \"May\", \"May\", \"May\", \"May\", \"May\", \"May\", \"May\", \"May\", \"May\", \"May\", \"May\", \"May\", \"May\", \"May\", \"May\", \"May\", \"May\", \"May\", \"May\", \"May\", \"June\", \"June\", \"June\", \"June\", \"June\", \"June\", \"June\", \"June\", \"June\", \"June\", \"June\", \"June\", \"June\", \"June\", \"June\", \"June\", \"June\", \"June\", \"June\", \"June\", \"June\", \"June\", \"June\", \"June\", \"June\", \"June\", \"June\", \"June\", \"June\", \"June\", \"July\", \"July\", \"July\", \"July\", \"July\", \"July\", \"July\", \"July\", \"July\", \"July\", \"July\", \"July\", \"July\", \"July\", \"July\", \"July\", \"July\", \"July\", \"July\", \"July\", \"July\", \"July\", \"July\", \"July\", \"July\", \"July\", \"July\", \"July\", \"July\", \"July\", \"July\", \"August\", \"August\", \"August\", \"August\", \"August\", \"August\", \"September\", \"September\", \"September\", \"September\", \"September\", \"September\", \"October\", \"October\", \"October\", \"October\", \"October\", \"October\", \"November\", \"November\", \"November\", \"November\", \"November\", \"November\", \"November\", \"December\", \"December\", \"December\", \"December\"], \"xaxis\": \"x\", \"y\": [9940.82999999995, 552784.3800000104, 608643.4600000142, 304993.1199999983, 14375.329999999944, 761272.5700000317, 798306.6100000192, 1175003.340000039, 1329769.2900000387, 1465736.2400000591, 529669.6700000085, 17659.209999999926, 1305834.6900000044, 1256955.150000015, 1397287.320000027, 1317059.3000000266, 1338391.0900000357, 522051.8700000058, 19454.759999999886, 1219459.629999998, 1220286.030000013, 1068584.5100000077, 1173998.5000000275, 1470963.970000018, 545074.0800000159, 14106.709999999915, 1099013.9800000014, 1068197.9100000167, 1239246.2700000086, 1216295.1500000008, 1509046.3100000229, 273721.85999999865, 9512.999999999956, 661578.2600000108, 654358.1800000106, 657598.1400000096, 727869.3500000108, 766036.9200000148, 295363.1699999996, 4945.409999999998, 803781.0600000145, 970192.0500000212, 811912.1300000176, 801659.1300000243, 925591.8800000228, 342790.53000000323, 10560.149999999932, 948351.3500000158, 728425.0700000138, 726584.9900000127, 709799.0600000069, 774642.57000001, 315169.8600000003, 9149.389999999928, 687691.1100000099, 679781.9500000157, 666602.2700000136, 645294.6900000018, 827791.9900000287, 473986.7900000017, 14516.30999999993, 746662.490000015, 766343.4700000165, 713496.7000000092, 657762.5500000106, 756406.5000000164, 311022.8699999994, 20382.390000000163, 698650.0000000142, 717352.8400000066, 691677.600000001, 755327.7500000097, 1054293.380000031, 336868.05000000127, 6806.779999999984, 869057.7900000033, 1145078.150000055, 952172.870000021, 768047.4600000081, 848136.290000018, 328150.9499999991, 10209.629999999954, 737207.7500000036, 738906.1300000063, 631572.3300000138, 611560.470000007, 727849.4400000119, 259770.06999999826, 10666.669999999971, 737594.4200000181, 1131752.5000000275, 583987.4599999984, 645516.4900000113, 755184.8600000242, 219727.41999999926, 14935.059999999958, 628888.1300000078, 703896.5300000224, 628184.4500000009, 589225.7100000097, 679135.2700000122, 230850.83999999985, 11405.609999999922, 22085.200000000354, 701869.5800000074, 666924.2700000087, 810815.0500000064, 681034.1400000117, 221141.8599999992, 8036.719999999998, 657216.3100000134, 706310.450000008, 557036.0000000035, 628575.9800000063, 677123.9000000039, 268839.7299999984, 3343.1100000000056, 657866.4300000081, 794292.9800000122, 651711.7400000057, 1633312.7500000298, 13694.369999999892, 243357.29999999798, 6407.76, 1394235.7300000275, 1283917.9700000081, 1127098.9000000393, 1172890.2200000524, 1409656.30000006, 459941.8500000025, 13890.799999999972, 1133463.500000011, 1365565.4000000574, 1163835.3000000052, 1152776.6100000273, 1196632.6400000148, 467165.4700000025, 11112.84999999995, 1206258.4700000093, 1300832.9300000428, 1747943.4600000207, 13891.73000000014, 1395574.0800000166, 683641.130000009, 24229.109999999975, 1982083.2800000685, 1471634.2300000302, 1338423.550000048, 1421236.1800000544, 1806172.7800000273, 620498.7900000082, 61336.280000000545, 17215.91000000074, 839956.1300000207, 793232.0100000221, 836631.4100000118, 849399.2500000254, 304855.8399999983, 5837.60999999998, 783704.2000000072, 827754.2100000131, 751299.8700000148, 709061.479999996, 838828.0900000206, 295159.2599999977, 5835.88999999999, 754607.8800000086, 913463.0000000276, 680862.1100000091, 742191.8600000134, 832090.1500000259, 340575.499999995, 6760.859999999985, 885927.7300000017, 838414.6900000189, 690978.7500000146, 762547.7700000167, 826825.1800000168, 339720.6799999988, 9150.979999999976, 891364.7300000166, 978890.4000000282, 719269.5100000042, 1357353.7900000748, 1356226.03000008, 534482.0399999989, 19195.350000000082, 762941.7100000038, 776915.030000008, 684085.9199999964, 684624.9600000003, 1047197.3900000063, 297507.77999999706, 6413.809999999981, 653344.9500000007, 711932.5900000102, 706048.5400000089, 888427.4399999925, 749156.7400000114, 281797.43999999727, 13739.349999999957, 731466.0300000076, 10804.310000000078, 767607.7900000038, 987624.6600000121, 747580.030000008, 379337.0500000029, 9352.910000000002, 711567.0300000048, 713659.8400000066, 773697.2200000036, 661521.710000005, 760179.4800000077, 5074.479999999999, 729.5600000000001, 1524.2199999999993, 5297.670000000002, 3118.230000000001, 2449.100000000001, 3781.869999999998, 2043.1300000000003, 1670.6499999999996, 1233.6899999999998, 3665.2000000000003, 3176.8899999999994, 5677.720000000005, 5893.000000000004, 2492.17, 3447.5800000000027, 1241.85, 590.9500000000002, 4356.369999999999, 3272.6800000000007, 2835.74, 485.98, 2793.1099999999983, 1396.7999999999997, 475.05, 3504.750000000001, 3081.040000000001, 4787.530000000003, 908.5999999999999], \"yaxis\": \"y\"}],                        {\"legend\": {\"tracegroupgap\": 0}, \"template\": {\"data\": {\"bar\": [{\"error_x\": {\"color\": \"#2a3f5f\"}, \"error_y\": {\"color\": \"#2a3f5f\"}, \"marker\": {\"line\": {\"color\": \"#E5ECF6\", \"width\": 0.5}}, \"type\": \"bar\"}], \"barpolar\": [{\"marker\": {\"line\": {\"color\": \"#E5ECF6\", \"width\": 0.5}}, \"type\": \"barpolar\"}], \"carpet\": [{\"aaxis\": {\"endlinecolor\": \"#2a3f5f\", \"gridcolor\": \"white\", \"linecolor\": \"white\", \"minorgridcolor\": \"white\", \"startlinecolor\": \"#2a3f5f\"}, \"baxis\": {\"endlinecolor\": \"#2a3f5f\", \"gridcolor\": \"white\", \"linecolor\": \"white\", \"minorgridcolor\": \"white\", \"startlinecolor\": \"#2a3f5f\"}, \"type\": \"carpet\"}], \"choropleth\": [{\"colorbar\": {\"outlinewidth\": 0, \"ticks\": \"\"}, \"type\": \"choropleth\"}], \"contour\": [{\"colorbar\": {\"outlinewidth\": 0, \"ticks\": \"\"}, \"colorscale\": [[0.0, \"#0d0887\"], [0.1111111111111111, \"#46039f\"], [0.2222222222222222, \"#7201a8\"], [0.3333333333333333, \"#9c179e\"], [0.4444444444444444, \"#bd3786\"], [0.5555555555555556, \"#d8576b\"], [0.6666666666666666, \"#ed7953\"], [0.7777777777777778, \"#fb9f3a\"], [0.8888888888888888, \"#fdca26\"], [1.0, \"#f0f921\"]], \"type\": \"contour\"}], \"contourcarpet\": [{\"colorbar\": {\"outlinewidth\": 0, \"ticks\": \"\"}, \"type\": \"contourcarpet\"}], \"heatmap\": [{\"colorbar\": {\"outlinewidth\": 0, \"ticks\": \"\"}, \"colorscale\": [[0.0, \"#0d0887\"], [0.1111111111111111, \"#46039f\"], [0.2222222222222222, \"#7201a8\"], [0.3333333333333333, \"#9c179e\"], [0.4444444444444444, \"#bd3786\"], [0.5555555555555556, \"#d8576b\"], [0.6666666666666666, \"#ed7953\"], [0.7777777777777778, \"#fb9f3a\"], [0.8888888888888888, \"#fdca26\"], [1.0, \"#f0f921\"]], \"type\": \"heatmap\"}], \"heatmapgl\": [{\"colorbar\": {\"outlinewidth\": 0, \"ticks\": \"\"}, \"colorscale\": [[0.0, \"#0d0887\"], [0.1111111111111111, \"#46039f\"], [0.2222222222222222, \"#7201a8\"], [0.3333333333333333, \"#9c179e\"], [0.4444444444444444, \"#bd3786\"], [0.5555555555555556, \"#d8576b\"], [0.6666666666666666, \"#ed7953\"], [0.7777777777777778, \"#fb9f3a\"], [0.8888888888888888, \"#fdca26\"], [1.0, \"#f0f921\"]], \"type\": \"heatmapgl\"}], \"histogram\": [{\"marker\": {\"colorbar\": {\"outlinewidth\": 0, \"ticks\": \"\"}}, \"type\": \"histogram\"}], \"histogram2d\": [{\"colorbar\": {\"outlinewidth\": 0, \"ticks\": \"\"}, \"colorscale\": [[0.0, \"#0d0887\"], [0.1111111111111111, \"#46039f\"], [0.2222222222222222, \"#7201a8\"], [0.3333333333333333, \"#9c179e\"], [0.4444444444444444, \"#bd3786\"], [0.5555555555555556, \"#d8576b\"], [0.6666666666666666, \"#ed7953\"], [0.7777777777777778, \"#fb9f3a\"], [0.8888888888888888, \"#fdca26\"], [1.0, \"#f0f921\"]], \"type\": \"histogram2d\"}], \"histogram2dcontour\": [{\"colorbar\": {\"outlinewidth\": 0, \"ticks\": \"\"}, \"colorscale\": [[0.0, \"#0d0887\"], [0.1111111111111111, \"#46039f\"], [0.2222222222222222, \"#7201a8\"], [0.3333333333333333, \"#9c179e\"], [0.4444444444444444, \"#bd3786\"], [0.5555555555555556, \"#d8576b\"], [0.6666666666666666, \"#ed7953\"], [0.7777777777777778, \"#fb9f3a\"], [0.8888888888888888, \"#fdca26\"], [1.0, \"#f0f921\"]], \"type\": \"histogram2dcontour\"}], \"mesh3d\": [{\"colorbar\": {\"outlinewidth\": 0, \"ticks\": \"\"}, \"type\": \"mesh3d\"}], \"parcoords\": [{\"line\": {\"colorbar\": {\"outlinewidth\": 0, \"ticks\": \"\"}}, \"type\": \"parcoords\"}], \"pie\": [{\"automargin\": true, \"type\": \"pie\"}], \"scatter\": [{\"marker\": {\"colorbar\": {\"outlinewidth\": 0, \"ticks\": \"\"}}, \"type\": \"scatter\"}], \"scatter3d\": [{\"line\": {\"colorbar\": {\"outlinewidth\": 0, \"ticks\": \"\"}}, \"marker\": {\"colorbar\": {\"outlinewidth\": 0, \"ticks\": \"\"}}, \"type\": \"scatter3d\"}], \"scattercarpet\": [{\"marker\": {\"colorbar\": {\"outlinewidth\": 0, \"ticks\": \"\"}}, \"type\": \"scattercarpet\"}], \"scattergeo\": [{\"marker\": {\"colorbar\": {\"outlinewidth\": 0, \"ticks\": \"\"}}, \"type\": \"scattergeo\"}], \"scattergl\": [{\"marker\": {\"colorbar\": {\"outlinewidth\": 0, \"ticks\": \"\"}}, \"type\": \"scattergl\"}], \"scattermapbox\": [{\"marker\": {\"colorbar\": {\"outlinewidth\": 0, \"ticks\": \"\"}}, \"type\": \"scattermapbox\"}], \"scatterpolar\": [{\"marker\": {\"colorbar\": {\"outlinewidth\": 0, \"ticks\": \"\"}}, \"type\": \"scatterpolar\"}], \"scatterpolargl\": [{\"marker\": {\"colorbar\": {\"outlinewidth\": 0, \"ticks\": \"\"}}, \"type\": \"scatterpolargl\"}], \"scatterternary\": [{\"marker\": {\"colorbar\": {\"outlinewidth\": 0, \"ticks\": \"\"}}, \"type\": \"scatterternary\"}], \"surface\": [{\"colorbar\": {\"outlinewidth\": 0, \"ticks\": \"\"}, \"colorscale\": [[0.0, \"#0d0887\"], [0.1111111111111111, \"#46039f\"], [0.2222222222222222, \"#7201a8\"], [0.3333333333333333, \"#9c179e\"], [0.4444444444444444, \"#bd3786\"], [0.5555555555555556, \"#d8576b\"], [0.6666666666666666, \"#ed7953\"], [0.7777777777777778, \"#fb9f3a\"], [0.8888888888888888, \"#fdca26\"], [1.0, \"#f0f921\"]], \"type\": \"surface\"}], \"table\": [{\"cells\": {\"fill\": {\"color\": \"#EBF0F8\"}, \"line\": {\"color\": \"white\"}}, \"header\": {\"fill\": {\"color\": \"#C8D4E3\"}, \"line\": {\"color\": \"white\"}}, \"type\": \"table\"}]}, \"layout\": {\"annotationdefaults\": {\"arrowcolor\": \"#2a3f5f\", \"arrowhead\": 0, \"arrowwidth\": 1}, \"coloraxis\": {\"colorbar\": {\"outlinewidth\": 0, \"ticks\": \"\"}}, \"colorscale\": {\"diverging\": [[0, \"#8e0152\"], [0.1, \"#c51b7d\"], [0.2, \"#de77ae\"], [0.3, \"#f1b6da\"], [0.4, \"#fde0ef\"], [0.5, \"#f7f7f7\"], [0.6, \"#e6f5d0\"], [0.7, \"#b8e186\"], [0.8, \"#7fbc41\"], [0.9, \"#4d9221\"], [1, \"#276419\"]], \"sequential\": [[0.0, \"#0d0887\"], [0.1111111111111111, \"#46039f\"], [0.2222222222222222, \"#7201a8\"], [0.3333333333333333, \"#9c179e\"], [0.4444444444444444, \"#bd3786\"], [0.5555555555555556, \"#d8576b\"], [0.6666666666666666, \"#ed7953\"], [0.7777777777777778, \"#fb9f3a\"], [0.8888888888888888, \"#fdca26\"], [1.0, \"#f0f921\"]], \"sequentialminus\": [[0.0, \"#0d0887\"], [0.1111111111111111, \"#46039f\"], [0.2222222222222222, \"#7201a8\"], [0.3333333333333333, \"#9c179e\"], [0.4444444444444444, \"#bd3786\"], [0.5555555555555556, \"#d8576b\"], [0.6666666666666666, \"#ed7953\"], [0.7777777777777778, \"#fb9f3a\"], [0.8888888888888888, \"#fdca26\"], [1.0, \"#f0f921\"]]}, \"colorway\": [\"#636efa\", \"#EF553B\", \"#00cc96\", \"#ab63fa\", \"#FFA15A\", \"#19d3f3\", \"#FF6692\", \"#B6E880\", \"#FF97FF\", \"#FECB52\"], \"font\": {\"color\": \"#2a3f5f\"}, \"geo\": {\"bgcolor\": \"white\", \"lakecolor\": \"white\", \"landcolor\": \"#E5ECF6\", \"showlakes\": true, \"showland\": true, \"subunitcolor\": \"white\"}, \"hoverlabel\": {\"align\": \"left\"}, \"hovermode\": \"closest\", \"mapbox\": {\"style\": \"light\"}, \"paper_bgcolor\": \"white\", \"plot_bgcolor\": \"#E5ECF6\", \"polar\": {\"angularaxis\": {\"gridcolor\": \"white\", \"linecolor\": \"white\", \"ticks\": \"\"}, \"bgcolor\": \"#E5ECF6\", \"radialaxis\": {\"gridcolor\": \"white\", \"linecolor\": \"white\", \"ticks\": \"\"}}, \"scene\": {\"xaxis\": {\"backgroundcolor\": \"#E5ECF6\", \"gridcolor\": \"white\", \"gridwidth\": 2, \"linecolor\": \"white\", \"showbackground\": true, \"ticks\": \"\", \"zerolinecolor\": \"white\"}, \"yaxis\": {\"backgroundcolor\": \"#E5ECF6\", \"gridcolor\": \"white\", \"gridwidth\": 2, \"linecolor\": \"white\", \"showbackground\": true, \"ticks\": \"\", \"zerolinecolor\": \"white\"}, \"zaxis\": {\"backgroundcolor\": \"#E5ECF6\", \"gridcolor\": \"white\", \"gridwidth\": 2, \"linecolor\": \"white\", \"showbackground\": true, \"ticks\": \"\", \"zerolinecolor\": \"white\"}}, \"shapedefaults\": {\"line\": {\"color\": \"#2a3f5f\"}}, \"ternary\": {\"aaxis\": {\"gridcolor\": \"white\", \"linecolor\": \"white\", \"ticks\": \"\"}, \"baxis\": {\"gridcolor\": \"white\", \"linecolor\": \"white\", \"ticks\": \"\"}, \"bgcolor\": \"#E5ECF6\", \"caxis\": {\"gridcolor\": \"white\", \"linecolor\": \"white\", \"ticks\": \"\"}}, \"title\": {\"x\": 0.05}, \"xaxis\": {\"automargin\": true, \"gridcolor\": \"white\", \"linecolor\": \"white\", \"ticks\": \"\", \"title\": {\"standoff\": 15}, \"zerolinecolor\": \"white\", \"zerolinewidth\": 2}, \"yaxis\": {\"automargin\": true, \"gridcolor\": \"white\", \"linecolor\": \"white\", \"ticks\": \"\", \"title\": {\"standoff\": 15}, \"zerolinecolor\": \"white\", \"zerolinewidth\": 2}}}, \"title\": {\"text\": \"Sales in 2020\"}, \"xaxis\": {\"anchor\": \"y\", \"domain\": [0.0, 1.0], \"title\": {\"text\": \"monthName\"}}, \"yaxis\": {\"anchor\": \"x\", \"domain\": [0.0, 1.0], \"title\": {\"text\": \"Price\"}}},                        {\"responsive\": true}                    ).then(function(){\n",
       "                            \n",
       "var gd = document.getElementById('681bdb5d-7f54-4d5a-8a0c-a5ca0f2d3b65');\n",
       "var x = new MutationObserver(function (mutations, observer) {{\n",
       "        var display = window.getComputedStyle(gd).display;\n",
       "        if (!display || display === 'none') {{\n",
       "            console.log([gd, 'removed!']);\n",
       "            Plotly.purge(gd);\n",
       "            observer.disconnect();\n",
       "        }}\n",
       "}});\n",
       "\n",
       "// Listen for the removal of the full notebook cells\n",
       "var notebookContainer = gd.closest('#notebook-container');\n",
       "if (notebookContainer) {{\n",
       "    x.observe(notebookContainer, {childList: true});\n",
       "}}\n",
       "\n",
       "// Listen for the clearing of the current output cell\n",
       "var outputEl = gd.closest('.output');\n",
       "if (outputEl) {{\n",
       "    x.observe(outputEl, {childList: true});\n",
       "}}\n",
       "\n",
       "                        })                };                });            </script>        </div>"
      ]
     },
     "metadata": {},
     "output_type": "display_data"
    }
   ],
   "source": [
    "import plotly.express as px\n",
    "fig = px.line(df, x=\"monthName\" , y=\"Price\",title=\"Sales in 2020\")\n",
    "fig.show()"
   ]
  },
  {
   "cell_type": "code",
   "execution_count": 67,
   "metadata": {},
   "outputs": [
    {
     "data": {
      "image/png": "[encoded data removed]",
      "text/plain": [
       "<Figure size 864x576 with 1 Axes>"
      ]
     },
     "metadata": {
      "needs_background": "light"
     },
     "output_type": "display_data"
    }
   ],
   "source": [
    "plt.figure(figsize=(12, 8))\n",
    "sns.lineplot(data=df,y=\"Price\",x=\"monthName\",markers=True,dashes=False)\n",
    "plt.title(\"An amount of Sales\", fontsize=16)\n",
    "plt.xlabel(\"Month\", fontsize=16)\n",
    "plt.xticks(rotation=45)\n",
    "plt.ylabel(\"Sales [EUR]\", fontsize=16)\n",
    "plt.show()\n"
   ]
  },
  {
   "cell_type": "code",
   "execution_count": 76,
   "metadata": {},
   "outputs": [
    {
     "data": {
      "application/vnd.plotly.v1+json": {
       "config": {
        "plotlyServerURL": "https://plot.ly"
       },
       "data": [
        {
         "alignmentgroup": "True",
         "hovertemplate": "Month=%{x}<br>Sales[EUR]=%{y}<extra></extra>",
         "legendgroup": "",
         "marker": {
          "color": "#636efa"
         },
         "name": "",
         "offsetgroup": "",
         "orientation": "v",
         "showlegend": false,
         "textposition": "auto",
         "type": "bar",
         "x": [
          "January",
          "January",
          "January",
          "January",
          "January",
          "January",
          "January",
          "January",
          "January",
          "January",
          "January",
          "January",
          "January",
          "January",
          "January",
          "January",
          "January",
          "January",
          "January",
          "January",
          "January",
          "January",
          "January",
          "January",
          "January",
          "January",
          "January",
          "January",
          "January",
          "January",
          "January",
          "February",
          "February",
          "February",
          "February",
          "February",
          "February",
          "February",
          "February",
          "February",
          "February",
          "February",
          "February",
          "February",
          "February",
          "February",
          "February",
          "February",
          "February",
          "February",
          "February",
          "February",
          "February",
          "February",
          "February",
          "February",
          "February",
          "February",
          "February",
          "February",
          "March",
          "March",
          "March",
          "March",
          "March",
          "March",
          "March",
          "March",
          "March",
          "March",
          "March",
          "March",
          "March",
          "March",
          "March",
          "March",
          "March",
          "March",
          "March",
          "March",
          "March",
          "March",
          "March",
          "March",
          "March",
          "March",
          "March",
          "March",
          "March",
          "March",
          "March",
          "April",
          "April",
          "April",
          "April",
          "April",
          "April",
          "April",
          "April",
          "April",
          "April",
          "April",
          "April",
          "April",
          "April",
          "April",
          "April",
          "April",
          "April",
          "April",
          "April",
          "April",
          "April",
          "April",
          "April",
          "April",
          "April",
          "April",
          "April",
          "April",
          "April",
          "May",
          "May",
          "May",
          "May",
          "May",
          "May",
          "May",
          "May",
          "May",
          "May",
          "May",
          "May",
          "May",
          "May",
          "May",
          "May",
          "May",
          "May",
          "May",
          "May",
          "May",
          "May",
          "May",
          "May",
          "May",
          "May",
          "May",
          "May",
          "May",
          "May",
          "May",
          "June",
          "June",
          "June",
          "June",
          "June",
          "June",
          "June",
          "June",
          "June",
          "June",
          "June",
          "June",
          "June",
          "June",
          "June",
          "June",
          "June",
          "June",
          "June",
          "June",
          "June",
          "June",
          "June",
          "June",
          "June",
          "June",
          "June",
          "June",
          "June",
          "June",
          "July",
          "July",
          "July",
          "July",
          "July",
          "July",
          "July",
          "July",
          "July",
          "July",
          "July",
          "July",
          "July",
          "July",
          "July",
          "July",
          "July",
          "July",
          "July",
          "July",
          "July",
          "July",
          "July",
          "July",
          "July",
          "July",
          "July",
          "July",
          "July",
          "July",
          "July",
          "August",
          "August",
          "August",
          "August",
          "August",
          "August",
          "September",
          "September",
          "September",
          "September",
          "September",
          "September",
          "October",
          "October",
          "October",
          "October",
          "October",
          "October",
          "November",
          "November",
          "November",
          "November",
          "November",
          "November",
          "November",
          "December",
          "December",
          "December",
          "December"
         ],
         "xaxis": "x",
         "y": [
          9940.82999999995,
          552784.3800000104,
          608643.4600000142,
          304993.1199999983,
          14375.329999999944,
          761272.5700000317,
          798306.6100000192,
          1175003.340000039,
          1329769.2900000387,
          1465736.2400000591,
          529669.6700000085,
          17659.209999999926,
          1305834.6900000044,
          1256955.150000015,
          1397287.320000027,
          1317059.3000000266,
          1338391.0900000357,
          522051.8700000058,
          19454.759999999886,
          1219459.629999998,
          1220286.030000013,
          1068584.5100000077,
          1173998.5000000275,
          1470963.970000018,
          545074.0800000159,
          14106.709999999915,
          1099013.9800000014,
          1068197.9100000167,
          1239246.2700000086,
          1216295.1500000008,
          1509046.3100000229,
          273721.85999999865,
          9512.999999999956,
          661578.2600000108,
          654358.1800000106,
          657598.1400000096,
          727869.3500000108,
          766036.9200000148,
          295363.1699999996,
          4945.409999999998,
          803781.0600000145,
          970192.0500000212,
          811912.1300000176,
          801659.1300000243,
          925591.8800000228,
          342790.53000000323,
          10560.149999999932,
          948351.3500000158,
          728425.0700000138,
          726584.9900000127,
          709799.0600000069,
          774642.57000001,
          315169.8600000003,
          9149.389999999928,
          687691.1100000099,
          679781.9500000157,
          666602.2700000136,
          645294.6900000018,
          827791.9900000287,
          473986.7900000017,
          14516.30999999993,
          746662.490000015,
          766343.4700000165,
          713496.7000000092,
          657762.5500000106,
          756406.5000000164,
          311022.8699999994,
          20382.390000000163,
          698650.0000000142,
          717352.8400000066,
          691677.600000001,
          755327.7500000097,
          1054293.380000031,
          336868.05000000127,
          6806.779999999984,
          869057.7900000033,
          1145078.150000055,
          952172.870000021,
          768047.4600000081,
          848136.290000018,
          328150.9499999991,
          10209.629999999954,
          737207.7500000036,
          738906.1300000063,
          631572.3300000138,
          611560.470000007,
          727849.4400000119,
          259770.06999999826,
          10666.669999999971,
          737594.4200000181,
          1131752.5000000275,
          583987.4599999984,
          645516.4900000113,
          755184.8600000242,
          219727.41999999926,
          14935.059999999958,
          628888.1300000078,
          703896.5300000224,
          628184.4500000009,
          589225.7100000097,
          679135.2700000122,
          230850.83999999985,
          11405.609999999922,
          22085.200000000354,
          701869.5800000074,
          666924.2700000087,
          810815.0500000064,
          681034.1400000117,
          221141.8599999992,
          8036.719999999998,
          657216.3100000134,
          706310.450000008,
          557036.0000000035,
          628575.9800000063,
          677123.9000000039,
          268839.7299999984,
          3343.1100000000056,
          657866.4300000081,
          794292.9800000122,
          651711.7400000057,
          1633312.7500000298,
          13694.369999999892,
          243357.29999999798,
          6407.76,
          1394235.7300000275,
          1283917.9700000081,
          1127098.9000000393,
          1172890.2200000524,
          1409656.30000006,
          459941.8500000025,
          13890.799999999972,
          1133463.500000011,
          1365565.4000000574,
          1163835.3000000052,
          1152776.6100000273,
          1196632.6400000148,
          467165.4700000025,
          11112.84999999995,
          1206258.4700000093,
          1300832.9300000428,
          1747943.4600000207,
          13891.73000000014,
          1395574.0800000166,
          683641.130000009,
          24229.109999999975,
          1982083.2800000685,
          1471634.2300000302,
          1338423.550000048,
          1421236.1800000544,
          1806172.7800000273,
          620498.7900000082,
          61336.280000000545,
          17215.91000000074,
          839956.1300000207,
          793232.0100000221,
          836631.4100000118,
          849399.2500000254,
          304855.8399999983,
          5837.60999999998,
          783704.2000000072,
          827754.2100000131,
          751299.8700000148,
          709061.479999996,
          838828.0900000206,
          295159.2599999977,
          5835.88999999999,
          754607.8800000086,
          913463.0000000276,
          680862.1100000091,
          742191.8600000134,
          832090.1500000259,
          340575.499999995,
          6760.859999999985,
          885927.7300000017,
          838414.6900000189,
          690978.7500000146,
          762547.7700000167,
          826825.1800000168,
          339720.6799999988,
          9150.979999999976,
          891364.7300000166,
          978890.4000000282,
          719269.5100000042,
          1357353.7900000748,
          1356226.03000008,
          534482.0399999989,
          19195.350000000082,
          762941.7100000038,
          776915.030000008,
          684085.9199999964,
          684624.9600000003,
          1047197.3900000063,
          297507.77999999706,
          6413.809999999981,
          653344.9500000007,
          711932.5900000102,
          706048.5400000089,
          888427.4399999925,
          749156.7400000114,
          281797.43999999727,
          13739.349999999957,
          731466.0300000076,
          10804.310000000078,
          767607.7900000038,
          987624.6600000121,
          747580.030000008,
          379337.0500000029,
          9352.910000000002,
          711567.0300000048,
          713659.8400000066,
          773697.2200000036,
          661521.710000005,
          760179.4800000077,
          5074.479999999999,
          729.5600000000001,
          1524.2199999999993,
          5297.670000000002,
          3118.230000000001,
          2449.100000000001,
          3781.869999999998,
          2043.1300000000003,
          1670.6499999999996,
          1233.6899999999998,
          3665.2000000000003,
          3176.8899999999994,
          5677.720000000005,
          5893.000000000004,
          2492.17,
          3447.5800000000027,
          1241.85,
          590.9500000000002,
          4356.369999999999,
          3272.6800000000007,
          2835.74,
          485.98,
          2793.1099999999983,
          1396.7999999999997,
          475.05,
          3504.750000000001,
          3081.040000000001,
          4787.530000000003,
          908.5999999999999
         ],
         "yaxis": "y"
        }
       ],
       "layout": {
        "barmode": "relative",
        "legend": {
         "tracegroupgap": 0
        },
        "template": {
         "data": {
          "bar": [
           {
            "error_x": {
             "color": "#2a3f5f"
            },
            "error_y": {
             "color": "#2a3f5f"
            },
            "marker": {
             "line": {
              "color": "#E5ECF6",
              "width": 0.5
             }
            },
            "type": "bar"
           }
          ],
          "barpolar": [
           {
            "marker": {
             "line": {
              "color": "#E5ECF6",
              "width": 0.5
             }
            },
            "type": "barpolar"
           }
          ],
          "carpet": [
           {
            "aaxis": {
             "endlinecolor": "#2a3f5f",
             "gridcolor": "white",
             "linecolor": "white",
             "minorgridcolor": "white",
             "startlinecolor": "#2a3f5f"
            },
            "baxis": {
             "endlinecolor": "#2a3f5f",
             "gridcolor": "white",
             "linecolor": "white",
             "minorgridcolor": "white",
             "startlinecolor": "#2a3f5f"
            },
            "type": "carpet"
           }
          ],
          "choropleth": [
           {
            "colorbar": {
             "outlinewidth": 0,
             "ticks": ""
            },
            "type": "choropleth"
           }
          ],
          "contour": [
           {
            "colorbar": {
             "outlinewidth": 0,
             "ticks": ""
            },
            "colorscale": [
             [
              0,
              "#0d0887"
             ],
             [
              0.1111111111111111,
              "#46039f"
             ],
             [
              0.2222222222222222,
              "#7201a8"
             ],
             [
              0.3333333333333333,
              "#9c179e"
             ],
             [
              0.4444444444444444,
              "#bd3786"
             ],
             [
              0.5555555555555556,
              "#d8576b"
             ],
             [
              0.6666666666666666,
              "#ed7953"
             ],
             [
              0.7777777777777778,
              "#fb9f3a"
             ],
             [
              0.8888888888888888,
              "#fdca26"
             ],
             [
              1,
              "#f0f921"
             ]
            ],
            "type": "contour"
           }
          ],
          "contourcarpet": [
           {
            "colorbar": {
             "outlinewidth": 0,
             "ticks": ""
            },
            "type": "contourcarpet"
           }
          ],
          "heatmap": [
           {
            "colorbar": {
             "outlinewidth": 0,
             "ticks": ""
            },
            "colorscale": [
             [
              0,
              "#0d0887"
             ],
             [
              0.1111111111111111,
              "#46039f"
             ],
             [
              0.2222222222222222,
              "#7201a8"
             ],
             [
              0.3333333333333333,
              "#9c179e"
             ],
             [
              0.4444444444444444,
              "#bd3786"
             ],
             [
              0.5555555555555556,
              "#d8576b"
             ],
             [
              0.6666666666666666,
              "#ed7953"
             ],
             [
              0.7777777777777778,
              "#fb9f3a"
             ],
             [
              0.8888888888888888,
              "#fdca26"
             ],
             [
              1,
              "#f0f921"
             ]
            ],
            "type": "heatmap"
           }
          ],
          "heatmapgl": [
           {
            "colorbar": {
             "outlinewidth": 0,
             "ticks": ""
            },
            "colorscale": [
             [
              0,
              "#0d0887"
             ],
             [
              0.1111111111111111,
              "#46039f"
             ],
             [
              0.2222222222222222,
              "#7201a8"
             ],
             [
              0.3333333333333333,
              "#9c179e"
             ],
             [
              0.4444444444444444,
              "#bd3786"
             ],
             [
              0.5555555555555556,
              "#d8576b"
             ],
             [
              0.6666666666666666,
              "#ed7953"
             ],
             [
              0.7777777777777778,
              "#fb9f3a"
             ],
             [
              0.8888888888888888,
              "#fdca26"
             ],
             [
              1,
              "#f0f921"
             ]
            ],
            "type": "heatmapgl"
           }
          ],
          "histogram": [
           {
            "marker": {
             "colorbar": {
              "outlinewidth": 0,
              "ticks": ""
             }
            },
            "type": "histogram"
           }
          ],
          "histogram2d": [
           {
            "colorbar": {
             "outlinewidth": 0,
             "ticks": ""
            },
            "colorscale": [
             [
              0,
              "#0d0887"
             ],
             [
              0.1111111111111111,
              "#46039f"
             ],
             [
              0.2222222222222222,
              "#7201a8"
             ],
             [
              0.3333333333333333,
              "#9c179e"
             ],
             [
              0.4444444444444444,
              "#bd3786"
             ],
             [
              0.5555555555555556,
              "#d8576b"
             ],
             [
              0.6666666666666666,
              "#ed7953"
             ],
             [
              0.7777777777777778,
              "#fb9f3a"
             ],
             [
              0.8888888888888888,
              "#fdca26"
             ],
             [
              1,
              "#f0f921"
             ]
            ],
            "type": "histogram2d"
           }
          ],
          "histogram2dcontour": [
           {
            "colorbar": {
             "outlinewidth": 0,
             "ticks": ""
            },
            "colorscale": [
             [
              0,
              "#0d0887"
             ],
             [
              0.1111111111111111,
              "#46039f"
             ],
             [
              0.2222222222222222,
              "#7201a8"
             ],
             [
              0.3333333333333333,
              "#9c179e"
             ],
             [
              0.4444444444444444,
              "#bd3786"
             ],
             [
              0.5555555555555556,
              "#d8576b"
             ],
             [
              0.6666666666666666,
              "#ed7953"
             ],
             [
              0.7777777777777778,
              "#fb9f3a"
             ],
             [
              0.8888888888888888,
              "#fdca26"
             ],
             [
              1,
              "#f0f921"
             ]
            ],
            "type": "histogram2dcontour"
           }
          ],
          "mesh3d": [
           {
            "colorbar": {
             "outlinewidth": 0,
             "ticks": ""
            },
            "type": "mesh3d"
           }
          ],
          "parcoords": [
           {
            "line": {
             "colorbar": {
              "outlinewidth": 0,
              "ticks": ""
             }
            },
            "type": "parcoords"
           }
          ],
          "pie": [
           {
            "automargin": true,
            "type": "pie"
           }
          ],
          "scatter": [
           {
            "marker": {
             "colorbar": {
              "outlinewidth": 0,
              "ticks": ""
             }
            },
            "type": "scatter"
           }
          ],
          "scatter3d": [
           {
            "line": {
             "colorbar": {
              "outlinewidth": 0,
              "ticks": ""
             }
            },
            "marker": {
             "colorbar": {
              "outlinewidth": 0,
              "ticks": ""
             }
            },
            "type": "scatter3d"
           }
          ],
          "scattercarpet": [
           {
            "marker": {
             "colorbar": {
              "outlinewidth": 0,
              "ticks": ""
             }
            },
            "type": "scattercarpet"
           }
          ],
          "scattergeo": [
           {
            "marker": {
             "colorbar": {
              "outlinewidth": 0,
              "ticks": ""
             }
            },
            "type": "scattergeo"
           }
          ],
          "scattergl": [
           {
            "marker": {
             "colorbar": {
              "outlinewidth": 0,
              "ticks": ""
             }
            },
            "type": "scattergl"
           }
          ],
          "scattermapbox": [
           {
            "marker": {
             "colorbar": {
              "outlinewidth": 0,
              "ticks": ""
             }
            },
            "type": "scattermapbox"
           }
          ],
          "scatterpolar": [
           {
            "marker": {
             "colorbar": {
              "outlinewidth": 0,
              "ticks": ""
             }
            },
            "type": "scatterpolar"
           }
          ],
          "scatterpolargl": [
           {
            "marker": {
             "colorbar": {
              "outlinewidth": 0,
              "ticks": ""
             }
            },
            "type": "scatterpolargl"
           }
          ],
          "scatterternary": [
           {
            "marker": {
             "colorbar": {
              "outlinewidth": 0,
              "ticks": ""
             }
            },
            "type": "scatterternary"
           }
          ],
          "surface": [
           {
            "colorbar": {
             "outlinewidth": 0,
             "ticks": ""
            },
            "colorscale": [
             [
              0,
              "#0d0887"
             ],
             [
              0.1111111111111111,
              "#46039f"
             ],
             [
              0.2222222222222222,
              "#7201a8"
             ],
             [
              0.3333333333333333,
              "#9c179e"
             ],
             [
              0.4444444444444444,
              "#bd3786"
             ],
             [
              0.5555555555555556,
              "#d8576b"
             ],
             [
              0.6666666666666666,
              "#ed7953"
             ],
             [
              0.7777777777777778,
              "#fb9f3a"
             ],
             [
              0.8888888888888888,
              "#fdca26"
             ],
             [
              1,
              "#f0f921"
             ]
            ],
            "type": "surface"
           }
          ],
          "table": [
           {
            "cells": {
             "fill": {
              "color": "#EBF0F8"
             },
             "line": {
              "color": "white"
             }
            },
            "header": {
             "fill": {
              "color": "#C8D4E3"
             },
             "line": {
              "color": "white"
             }
            },
            "type": "table"
           }
          ]
         },
         "layout": {
          "annotationdefaults": {
           "arrowcolor": "#2a3f5f",
           "arrowhead": 0,
           "arrowwidth": 1
          },
          "coloraxis": {
           "colorbar": {
            "outlinewidth": 0,
            "ticks": ""
           }
          },
          "colorscale": {
           "diverging": [
            [
             0,
             "#8e0152"
            ],
            [
             0.1,
             "#c51b7d"
            ],
            [
             0.2,
             "#de77ae"
            ],
            [
             0.3,
             "#f1b6da"
            ],
            [
             0.4,
             "#fde0ef"
            ],
            [
             0.5,
             "#f7f7f7"
            ],
            [
             0.6,
             "#e6f5d0"
            ],
            [
             0.7,
             "#b8e186"
            ],
            [
             0.8,
             "#7fbc41"
            ],
            [
             0.9,
             "#4d9221"
            ],
            [
             1,
             "#276419"
            ]
           ],
           "sequential": [
            [
             0,
             "#0d0887"
            ],
            [
             0.1111111111111111,
             "#46039f"
            ],
            [
             0.2222222222222222,
             "#7201a8"
            ],
            [
             0.3333333333333333,
             "#9c179e"
            ],
            [
             0.4444444444444444,
             "#bd3786"
            ],
            [
             0.5555555555555556,
             "#d8576b"
            ],
            [
             0.6666666666666666,
             "#ed7953"
            ],
            [
             0.7777777777777778,
             "#fb9f3a"
            ],
            [
             0.8888888888888888,
             "#fdca26"
            ],
            [
             1,
             "#f0f921"
            ]
           ],
           "sequentialminus": [
            [
             0,
             "#0d0887"
            ],
            [
             0.1111111111111111,
             "#46039f"
            ],
            [
             0.2222222222222222,
             "#7201a8"
            ],
            [
             0.3333333333333333,
             "#9c179e"
            ],
            [
             0.4444444444444444,
             "#bd3786"
            ],
            [
             0.5555555555555556,
             "#d8576b"
            ],
            [
             0.6666666666666666,
             "#ed7953"
            ],
            [
             0.7777777777777778,
             "#fb9f3a"
            ],
            [
             0.8888888888888888,
             "#fdca26"
            ],
            [
             1,
             "#f0f921"
            ]
           ]
          },
          "colorway": [
           "#636efa",
           "#EF553B",
           "#00cc96",
           "#ab63fa",
           "#FFA15A",
           "#19d3f3",
           "#FF6692",
           "#B6E880",
           "#FF97FF",
           "#FECB52"
          ],
          "font": {
           "color": "#2a3f5f"
          },
          "geo": {
           "bgcolor": "white",
           "lakecolor": "white",
           "landcolor": "#E5ECF6",
           "showlakes": true,
           "showland": true,
           "subunitcolor": "white"
          },
          "hoverlabel": {
           "align": "left"
          },
          "hovermode": "closest",
          "mapbox": {
           "style": "light"
          },
          "paper_bgcolor": "white",
          "plot_bgcolor": "#E5ECF6",
          "polar": {
           "angularaxis": {
            "gridcolor": "white",
            "linecolor": "white",
            "ticks": ""
           },
           "bgcolor": "#E5ECF6",
           "radialaxis": {
            "gridcolor": "white",
            "linecolor": "white",
            "ticks": ""
           }
          },
          "scene": {
           "xaxis": {
            "backgroundcolor": "#E5ECF6",
            "gridcolor": "white",
            "gridwidth": 2,
            "linecolor": "white",
            "showbackground": true,
            "ticks": "",
            "zerolinecolor": "white"
           },
           "yaxis": {
            "backgroundcolor": "#E5ECF6",
            "gridcolor": "white",
            "gridwidth": 2,
            "linecolor": "white",
            "showbackground": true,
            "ticks": "",
            "zerolinecolor": "white"
           },
           "zaxis": {
            "backgroundcolor": "#E5ECF6",
            "gridcolor": "white",
            "gridwidth": 2,
            "linecolor": "white",
            "showbackground": true,
            "ticks": "",
            "zerolinecolor": "white"
           }
          },
          "shapedefaults": {
           "line": {
            "color": "#2a3f5f"
           }
          },
          "ternary": {
           "aaxis": {
            "gridcolor": "white",
            "linecolor": "white",
            "ticks": ""
           },
           "baxis": {
            "gridcolor": "white",
            "linecolor": "white",
            "ticks": ""
           },
           "bgcolor": "#E5ECF6",
           "caxis": {
            "gridcolor": "white",
            "linecolor": "white",
            "ticks": ""
           }
          },
          "title": {
           "x": 0.05
          },
          "xaxis": {
           "automargin": true,
           "gridcolor": "white",
           "linecolor": "white",
           "ticks": "",
           "title": {
            "standoff": 15
           },
           "zerolinecolor": "white",
           "zerolinewidth": 2
          },
          "yaxis": {
           "automargin": true,
           "gridcolor": "white",
           "linecolor": "white",
           "ticks": "",
           "title": {
            "standoff": 15
           },
           "zerolinecolor": "white",
           "zerolinewidth": 2
          }
         }
        },
        "title": {
         "text": "Sales in 2020"
        },
        "xaxis": {
         "anchor": "y",
         "domain": [
          0,
          1
         ],
         "title": {
          "text": "Month"
         }
        },
        "yaxis": {
         "anchor": "x",
         "domain": [
          0,
          1
         ],
         "title": {
          "text": "Sales[EUR]"
         }
        }
       }
      },
      "text/html": [
       "<div>                            <div id=\"f976b63d-26d5-43cb-9acd-18db03186f1e\" class=\"plotly-graph-div\" style=\"height:525px; width:100%;\"></div>            <script type=\"text/javascript\">                require([\"plotly\"], function(Plotly) {                    window.PLOTLYENV=window.PLOTLYENV || {};                                    if (document.getElementById(\"f976b63d-26d5-43cb-9acd-18db03186f1e\")) {                    Plotly.newPlot(                        \"f976b63d-26d5-43cb-9acd-18db03186f1e\",                        [{\"alignmentgroup\": \"True\", \"hovertemplate\": \"Month=%{x}<br>Sales[EUR]=%{y}<extra></extra>\", \"legendgroup\": \"\", \"marker\": {\"color\": \"#636efa\"}, \"name\": \"\", \"offsetgroup\": \"\", \"orientation\": \"v\", \"showlegend\": false, \"textposition\": \"auto\", \"type\": \"bar\", \"x\": [\"January\", \"January\", \"January\", \"January\", \"January\", \"January\", \"January\", \"January\", \"January\", \"January\", \"January\", \"January\", \"January\", \"January\", \"January\", \"January\", \"January\", \"January\", \"January\", \"January\", \"January\", \"January\", \"January\", \"January\", \"January\", \"January\", \"January\", \"January\", \"January\", \"January\", \"January\", \"February\", \"February\", \"February\", \"February\", \"February\", \"February\", \"February\", \"February\", \"February\", \"February\", \"February\", \"February\", \"February\", \"February\", \"February\", \"February\", \"February\", \"February\", \"February\", \"February\", \"February\", \"February\", \"February\", \"February\", \"February\", \"February\", \"February\", \"February\", \"February\", \"March\", \"March\", \"March\", \"March\", \"March\", \"March\", \"March\", \"March\", \"March\", \"March\", \"March\", \"March\", \"March\", \"March\", \"March\", \"March\", \"March\", \"March\", \"March\", \"March\", \"March\", \"March\", \"March\", \"March\", \"March\", \"March\", \"March\", \"March\", \"March\", \"March\", \"March\", \"April\", \"April\", \"April\", \"April\", \"April\", \"April\", \"April\", \"April\", \"April\", \"April\", \"April\", \"April\", \"April\", \"April\", \"April\", \"April\", \"April\", \"April\", \"April\", \"April\", \"April\", \"April\", \"April\", \"April\", \"April\", \"April\", \"April\", \"April\", \"April\", \"April\", \"May\", \"May\", \"May\", \"May\", \"May\", \"May\", \"May\", \"May\", \"May\", \"May\", \"May\", \"May\", \"May\", \"May\", \"May\", \"May\", \"May\", \"May\", \"May\", \"May\", \"May\", \"May\", \"May\", \"May\", \"May\", \"May\", \"May\", \"May\", \"May\", \"May\", \"May\", \"June\", \"June\", \"June\", \"June\", \"June\", \"June\", \"June\", \"June\", \"June\", \"June\", \"June\", \"June\", \"June\", \"June\", \"June\", \"June\", \"June\", \"June\", \"June\", \"June\", \"June\", \"June\", \"June\", \"June\", \"June\", \"June\", \"June\", \"June\", \"June\", \"June\", \"July\", \"July\", \"July\", \"July\", \"July\", \"July\", \"July\", \"July\", \"July\", \"July\", \"July\", \"July\", \"July\", \"July\", \"July\", \"July\", \"July\", \"July\", \"July\", \"July\", \"July\", \"July\", \"July\", \"July\", \"July\", \"July\", \"July\", \"July\", \"July\", \"July\", \"July\", \"August\", \"August\", \"August\", \"August\", \"August\", \"August\", \"September\", \"September\", \"September\", \"September\", \"September\", \"September\", \"October\", \"October\", \"October\", \"October\", \"October\", \"October\", \"November\", \"November\", \"November\", \"November\", \"November\", \"November\", \"November\", \"December\", \"December\", \"December\", \"December\"], \"xaxis\": \"x\", \"y\": [9940.82999999995, 552784.3800000104, 608643.4600000142, 304993.1199999983, 14375.329999999944, 761272.5700000317, 798306.6100000192, 1175003.340000039, 1329769.2900000387, 1465736.2400000591, 529669.6700000085, 17659.209999999926, 1305834.6900000044, 1256955.150000015, 1397287.320000027, 1317059.3000000266, 1338391.0900000357, 522051.8700000058, 19454.759999999886, 1219459.629999998, 1220286.030000013, 1068584.5100000077, 1173998.5000000275, 1470963.970000018, 545074.0800000159, 14106.709999999915, 1099013.9800000014, 1068197.9100000167, 1239246.2700000086, 1216295.1500000008, 1509046.3100000229, 273721.85999999865, 9512.999999999956, 661578.2600000108, 654358.1800000106, 657598.1400000096, 727869.3500000108, 766036.9200000148, 295363.1699999996, 4945.409999999998, 803781.0600000145, 970192.0500000212, 811912.1300000176, 801659.1300000243, 925591.8800000228, 342790.53000000323, 10560.149999999932, 948351.3500000158, 728425.0700000138, 726584.9900000127, 709799.0600000069, 774642.57000001, 315169.8600000003, 9149.389999999928, 687691.1100000099, 679781.9500000157, 666602.2700000136, 645294.6900000018, 827791.9900000287, 473986.7900000017, 14516.30999999993, 746662.490000015, 766343.4700000165, 713496.7000000092, 657762.5500000106, 756406.5000000164, 311022.8699999994, 20382.390000000163, 698650.0000000142, 717352.8400000066, 691677.600000001, 755327.7500000097, 1054293.380000031, 336868.05000000127, 6806.779999999984, 869057.7900000033, 1145078.150000055, 952172.870000021, 768047.4600000081, 848136.290000018, 328150.9499999991, 10209.629999999954, 737207.7500000036, 738906.1300000063, 631572.3300000138, 611560.470000007, 727849.4400000119, 259770.06999999826, 10666.669999999971, 737594.4200000181, 1131752.5000000275, 583987.4599999984, 645516.4900000113, 755184.8600000242, 219727.41999999926, 14935.059999999958, 628888.1300000078, 703896.5300000224, 628184.4500000009, 589225.7100000097, 679135.2700000122, 230850.83999999985, 11405.609999999922, 22085.200000000354, 701869.5800000074, 666924.2700000087, 810815.0500000064, 681034.1400000117, 221141.8599999992, 8036.719999999998, 657216.3100000134, 706310.450000008, 557036.0000000035, 628575.9800000063, 677123.9000000039, 268839.7299999984, 3343.1100000000056, 657866.4300000081, 794292.9800000122, 651711.7400000057, 1633312.7500000298, 13694.369999999892, 243357.29999999798, 6407.76, 1394235.7300000275, 1283917.9700000081, 1127098.9000000393, 1172890.2200000524, 1409656.30000006, 459941.8500000025, 13890.799999999972, 1133463.500000011, 1365565.4000000574, 1163835.3000000052, 1152776.6100000273, 1196632.6400000148, 467165.4700000025, 11112.84999999995, 1206258.4700000093, 1300832.9300000428, 1747943.4600000207, 13891.73000000014, 1395574.0800000166, 683641.130000009, 24229.109999999975, 1982083.2800000685, 1471634.2300000302, 1338423.550000048, 1421236.1800000544, 1806172.7800000273, 620498.7900000082, 61336.280000000545, 17215.91000000074, 839956.1300000207, 793232.0100000221, 836631.4100000118, 849399.2500000254, 304855.8399999983, 5837.60999999998, 783704.2000000072, 827754.2100000131, 751299.8700000148, 709061.479999996, 838828.0900000206, 295159.2599999977, 5835.88999999999, 754607.8800000086, 913463.0000000276, 680862.1100000091, 742191.8600000134, 832090.1500000259, 340575.499999995, 6760.859999999985, 885927.7300000017, 838414.6900000189, 690978.7500000146, 762547.7700000167, 826825.1800000168, 339720.6799999988, 9150.979999999976, 891364.7300000166, 978890.4000000282, 719269.5100000042, 1357353.7900000748, 1356226.03000008, 534482.0399999989, 19195.350000000082, 762941.7100000038, 776915.030000008, 684085.9199999964, 684624.9600000003, 1047197.3900000063, 297507.77999999706, 6413.809999999981, 653344.9500000007, 711932.5900000102, 706048.5400000089, 888427.4399999925, 749156.7400000114, 281797.43999999727, 13739.349999999957, 731466.0300000076, 10804.310000000078, 767607.7900000038, 987624.6600000121, 747580.030000008, 379337.0500000029, 9352.910000000002, 711567.0300000048, 713659.8400000066, 773697.2200000036, 661521.710000005, 760179.4800000077, 5074.479999999999, 729.5600000000001, 1524.2199999999993, 5297.670000000002, 3118.230000000001, 2449.100000000001, 3781.869999999998, 2043.1300000000003, 1670.6499999999996, 1233.6899999999998, 3665.2000000000003, 3176.8899999999994, 5677.720000000005, 5893.000000000004, 2492.17, 3447.5800000000027, 1241.85, 590.9500000000002, 4356.369999999999, 3272.6800000000007, 2835.74, 485.98, 2793.1099999999983, 1396.7999999999997, 475.05, 3504.750000000001, 3081.040000000001, 4787.530000000003, 908.5999999999999], \"yaxis\": \"y\"}],                        {\"barmode\": \"relative\", \"legend\": {\"tracegroupgap\": 0}, \"template\": {\"data\": {\"bar\": [{\"error_x\": {\"color\": \"#2a3f5f\"}, \"error_y\": {\"color\": \"#2a3f5f\"}, \"marker\": {\"line\": {\"color\": \"#E5ECF6\", \"width\": 0.5}}, \"type\": \"bar\"}], \"barpolar\": [{\"marker\": {\"line\": {\"color\": \"#E5ECF6\", \"width\": 0.5}}, \"type\": \"barpolar\"}], \"carpet\": [{\"aaxis\": {\"endlinecolor\": \"#2a3f5f\", \"gridcolor\": \"white\", \"linecolor\": \"white\", \"minorgridcolor\": \"white\", \"startlinecolor\": \"#2a3f5f\"}, \"baxis\": {\"endlinecolor\": \"#2a3f5f\", \"gridcolor\": \"white\", \"linecolor\": \"white\", \"minorgridcolor\": \"white\", \"startlinecolor\": \"#2a3f5f\"}, \"type\": \"carpet\"}], \"choropleth\": [{\"colorbar\": {\"outlinewidth\": 0, \"ticks\": \"\"}, \"type\": \"choropleth\"}], \"contour\": [{\"colorbar\": {\"outlinewidth\": 0, \"ticks\": \"\"}, \"colorscale\": [[0.0, \"#0d0887\"], [0.1111111111111111, \"#46039f\"], [0.2222222222222222, \"#7201a8\"], [0.3333333333333333, \"#9c179e\"], [0.4444444444444444, \"#bd3786\"], [0.5555555555555556, \"#d8576b\"], [0.6666666666666666, \"#ed7953\"], [0.7777777777777778, \"#fb9f3a\"], [0.8888888888888888, \"#fdca26\"], [1.0, \"#f0f921\"]], \"type\": \"contour\"}], \"contourcarpet\": [{\"colorbar\": {\"outlinewidth\": 0, \"ticks\": \"\"}, \"type\": \"contourcarpet\"}], \"heatmap\": [{\"colorbar\": {\"outlinewidth\": 0, \"ticks\": \"\"}, \"colorscale\": [[0.0, \"#0d0887\"], [0.1111111111111111, \"#46039f\"], [0.2222222222222222, \"#7201a8\"], [0.3333333333333333, \"#9c179e\"], [0.4444444444444444, \"#bd3786\"], [0.5555555555555556, \"#d8576b\"], [0.6666666666666666, \"#ed7953\"], [0.7777777777777778, \"#fb9f3a\"], [0.8888888888888888, \"#fdca26\"], [1.0, \"#f0f921\"]], \"type\": \"heatmap\"}], \"heatmapgl\": [{\"colorbar\": {\"outlinewidth\": 0, \"ticks\": \"\"}, \"colorscale\": [[0.0, \"#0d0887\"], [0.1111111111111111, \"#46039f\"], [0.2222222222222222, \"#7201a8\"], [0.3333333333333333, \"#9c179e\"], [0.4444444444444444, \"#bd3786\"], [0.5555555555555556, \"#d8576b\"], [0.6666666666666666, \"#ed7953\"], [0.7777777777777778, \"#fb9f3a\"], [0.8888888888888888, \"#fdca26\"], [1.0, \"#f0f921\"]], \"type\": \"heatmapgl\"}], \"histogram\": [{\"marker\": {\"colorbar\": {\"outlinewidth\": 0, \"ticks\": \"\"}}, \"type\": \"histogram\"}], \"histogram2d\": [{\"colorbar\": {\"outlinewidth\": 0, \"ticks\": \"\"}, \"colorscale\": [[0.0, \"#0d0887\"], [0.1111111111111111, \"#46039f\"], [0.2222222222222222, \"#7201a8\"], [0.3333333333333333, \"#9c179e\"], [0.4444444444444444, \"#bd3786\"], [0.5555555555555556, \"#d8576b\"], [0.6666666666666666, \"#ed7953\"], [0.7777777777777778, \"#fb9f3a\"], [0.8888888888888888, \"#fdca26\"], [1.0, \"#f0f921\"]], \"type\": \"histogram2d\"}], \"histogram2dcontour\": [{\"colorbar\": {\"outlinewidth\": 0, \"ticks\": \"\"}, \"colorscale\": [[0.0, \"#0d0887\"], [0.1111111111111111, \"#46039f\"], [0.2222222222222222, \"#7201a8\"], [0.3333333333333333, \"#9c179e\"], [0.4444444444444444, \"#bd3786\"], [0.5555555555555556, \"#d8576b\"], [0.6666666666666666, \"#ed7953\"], [0.7777777777777778, \"#fb9f3a\"], [0.8888888888888888, \"#fdca26\"], [1.0, \"#f0f921\"]], \"type\": \"histogram2dcontour\"}], \"mesh3d\": [{\"colorbar\": {\"outlinewidth\": 0, \"ticks\": \"\"}, \"type\": \"mesh3d\"}], \"parcoords\": [{\"line\": {\"colorbar\": {\"outlinewidth\": 0, \"ticks\": \"\"}}, \"type\": \"parcoords\"}], \"pie\": [{\"automargin\": true, \"type\": \"pie\"}], \"scatter\": [{\"marker\": {\"colorbar\": {\"outlinewidth\": 0, \"ticks\": \"\"}}, \"type\": \"scatter\"}], \"scatter3d\": [{\"line\": {\"colorbar\": {\"outlinewidth\": 0, \"ticks\": \"\"}}, \"marker\": {\"colorbar\": {\"outlinewidth\": 0, \"ticks\": \"\"}}, \"type\": \"scatter3d\"}], \"scattercarpet\": [{\"marker\": {\"colorbar\": {\"outlinewidth\": 0, \"ticks\": \"\"}}, \"type\": \"scattercarpet\"}], \"scattergeo\": [{\"marker\": {\"colorbar\": {\"outlinewidth\": 0, \"ticks\": \"\"}}, \"type\": \"scattergeo\"}], \"scattergl\": [{\"marker\": {\"colorbar\": {\"outlinewidth\": 0, \"ticks\": \"\"}}, \"type\": \"scattergl\"}], \"scattermapbox\": [{\"marker\": {\"colorbar\": {\"outlinewidth\": 0, \"ticks\": \"\"}}, \"type\": \"scattermapbox\"}], \"scatterpolar\": [{\"marker\": {\"colorbar\": {\"outlinewidth\": 0, \"ticks\": \"\"}}, \"type\": \"scatterpolar\"}], \"scatterpolargl\": [{\"marker\": {\"colorbar\": {\"outlinewidth\": 0, \"ticks\": \"\"}}, \"type\": \"scatterpolargl\"}], \"scatterternary\": [{\"marker\": {\"colorbar\": {\"outlinewidth\": 0, \"ticks\": \"\"}}, \"type\": \"scatterternary\"}], \"surface\": [{\"colorbar\": {\"outlinewidth\": 0, \"ticks\": \"\"}, \"colorscale\": [[0.0, \"#0d0887\"], [0.1111111111111111, \"#46039f\"], [0.2222222222222222, \"#7201a8\"], [0.3333333333333333, \"#9c179e\"], [0.4444444444444444, \"#bd3786\"], [0.5555555555555556, \"#d8576b\"], [0.6666666666666666, \"#ed7953\"], [0.7777777777777778, \"#fb9f3a\"], [0.8888888888888888, \"#fdca26\"], [1.0, \"#f0f921\"]], \"type\": \"surface\"}], \"table\": [{\"cells\": {\"fill\": {\"color\": \"#EBF0F8\"}, \"line\": {\"color\": \"white\"}}, \"header\": {\"fill\": {\"color\": \"#C8D4E3\"}, \"line\": {\"color\": \"white\"}}, \"type\": \"table\"}]}, \"layout\": {\"annotationdefaults\": {\"arrowcolor\": \"#2a3f5f\", \"arrowhead\": 0, \"arrowwidth\": 1}, \"coloraxis\": {\"colorbar\": {\"outlinewidth\": 0, \"ticks\": \"\"}}, \"colorscale\": {\"diverging\": [[0, \"#8e0152\"], [0.1, \"#c51b7d\"], [0.2, \"#de77ae\"], [0.3, \"#f1b6da\"], [0.4, \"#fde0ef\"], [0.5, \"#f7f7f7\"], [0.6, \"#e6f5d0\"], [0.7, \"#b8e186\"], [0.8, \"#7fbc41\"], [0.9, \"#4d9221\"], [1, \"#276419\"]], \"sequential\": [[0.0, \"#0d0887\"], [0.1111111111111111, \"#46039f\"], [0.2222222222222222, \"#7201a8\"], [0.3333333333333333, \"#9c179e\"], [0.4444444444444444, \"#bd3786\"], [0.5555555555555556, \"#d8576b\"], [0.6666666666666666, \"#ed7953\"], [0.7777777777777778, \"#fb9f3a\"], [0.8888888888888888, \"#fdca26\"], [1.0, \"#f0f921\"]], \"sequentialminus\": [[0.0, \"#0d0887\"], [0.1111111111111111, \"#46039f\"], [0.2222222222222222, \"#7201a8\"], [0.3333333333333333, \"#9c179e\"], [0.4444444444444444, \"#bd3786\"], [0.5555555555555556, \"#d8576b\"], [0.6666666666666666, \"#ed7953\"], [0.7777777777777778, \"#fb9f3a\"], [0.8888888888888888, \"#fdca26\"], [1.0, \"#f0f921\"]]}, \"colorway\": [\"#636efa\", \"#EF553B\", \"#00cc96\", \"#ab63fa\", \"#FFA15A\", \"#19d3f3\", \"#FF6692\", \"#B6E880\", \"#FF97FF\", \"#FECB52\"], \"font\": {\"color\": \"#2a3f5f\"}, \"geo\": {\"bgcolor\": \"white\", \"lakecolor\": \"white\", \"landcolor\": \"#E5ECF6\", \"showlakes\": true, \"showland\": true, \"subunitcolor\": \"white\"}, \"hoverlabel\": {\"align\": \"left\"}, \"hovermode\": \"closest\", \"mapbox\": {\"style\": \"light\"}, \"paper_bgcolor\": \"white\", \"plot_bgcolor\": \"#E5ECF6\", \"polar\": {\"angularaxis\": {\"gridcolor\": \"white\", \"linecolor\": \"white\", \"ticks\": \"\"}, \"bgcolor\": \"#E5ECF6\", \"radialaxis\": {\"gridcolor\": \"white\", \"linecolor\": \"white\", \"ticks\": \"\"}}, \"scene\": {\"xaxis\": {\"backgroundcolor\": \"#E5ECF6\", \"gridcolor\": \"white\", \"gridwidth\": 2, \"linecolor\": \"white\", \"showbackground\": true, \"ticks\": \"\", \"zerolinecolor\": \"white\"}, \"yaxis\": {\"backgroundcolor\": \"#E5ECF6\", \"gridcolor\": \"white\", \"gridwidth\": 2, \"linecolor\": \"white\", \"showbackground\": true, \"ticks\": \"\", \"zerolinecolor\": \"white\"}, \"zaxis\": {\"backgroundcolor\": \"#E5ECF6\", \"gridcolor\": \"white\", \"gridwidth\": 2, \"linecolor\": \"white\", \"showbackground\": true, \"ticks\": \"\", \"zerolinecolor\": \"white\"}}, \"shapedefaults\": {\"line\": {\"color\": \"#2a3f5f\"}}, \"ternary\": {\"aaxis\": {\"gridcolor\": \"white\", \"linecolor\": \"white\", \"ticks\": \"\"}, \"baxis\": {\"gridcolor\": \"white\", \"linecolor\": \"white\", \"ticks\": \"\"}, \"bgcolor\": \"#E5ECF6\", \"caxis\": {\"gridcolor\": \"white\", \"linecolor\": \"white\", \"ticks\": \"\"}}, \"title\": {\"x\": 0.05}, \"xaxis\": {\"automargin\": true, \"gridcolor\": \"white\", \"linecolor\": \"white\", \"ticks\": \"\", \"title\": {\"standoff\": 15}, \"zerolinecolor\": \"white\", \"zerolinewidth\": 2}, \"yaxis\": {\"automargin\": true, \"gridcolor\": \"white\", \"linecolor\": \"white\", \"ticks\": \"\", \"title\": {\"standoff\": 15}, \"zerolinecolor\": \"white\", \"zerolinewidth\": 2}}}, \"title\": {\"text\": \"Sales in 2020\"}, \"xaxis\": {\"anchor\": \"y\", \"domain\": [0.0, 1.0], \"title\": {\"text\": \"Month\"}}, \"yaxis\": {\"anchor\": \"x\", \"domain\": [0.0, 1.0], \"title\": {\"text\": \"Sales[EUR]\"}}},                        {\"responsive\": true}                    ).then(function(){\n",
       "                            \n",
       "var gd = document.getElementById('f976b63d-26d5-43cb-9acd-18db03186f1e');\n",
       "var x = new MutationObserver(function (mutations, observer) {{\n",
       "        var display = window.getComputedStyle(gd).display;\n",
       "        if (!display || display === 'none') {{\n",
       "            console.log([gd, 'removed!']);\n",
       "            Plotly.purge(gd);\n",
       "            observer.disconnect();\n",
       "        }}\n",
       "}});\n",
       "\n",
       "// Listen for the removal of the full notebook cells\n",
       "var notebookContainer = gd.closest('#notebook-container');\n",
       "if (notebookContainer) {{\n",
       "    x.observe(notebookContainer, {childList: true});\n",
       "}}\n",
       "\n",
       "// Listen for the clearing of the current output cell\n",
       "var outputEl = gd.closest('.output');\n",
       "if (outputEl) {{\n",
       "    x.observe(outputEl, {childList: true});\n",
       "}}\n",
       "\n",
       "                        })                };                });            </script>        </div>"
      ]
     },
     "metadata": {},
     "output_type": "display_data"
    }
   ],
   "source": [
    "fig = px.bar(df, x=\"monthName\" , y=\"Price\",\n",
    "            title=\"Sales in 2020\",labels={\n",
    "                     \"monthName\": \"Month\",\n",
    "                     \"Price\": \"Sales[EUR]\"})\n",
    "fig.show()"
   ]
  },
  {
   "cell_type": "markdown",
   "metadata": {},
   "source": [
    "# Number of Deliveries in 2020"
   ]
  },
  {
   "cell_type": "code",
   "execution_count": 88,
   "metadata": {},
   "outputs": [],
   "source": [
    "df = df.sort_values('Delivery date')"
   ]
  },
  {
   "cell_type": "code",
   "execution_count": 89,
   "metadata": {},
   "outputs": [],
   "source": [
    "df = df.groupby('Delivery date')['ATC code'].count().reset_index()"
   ]
  },
  {
   "cell_type": "code",
   "execution_count": 90,
   "metadata": {},
   "outputs": [],
   "source": [
    "df['month'] = df['Delivery date'].dt.month"
   ]
  },
  {
   "cell_type": "code",
   "execution_count": 91,
   "metadata": {},
   "outputs": [],
   "source": [
    "import calendar\n",
    "df['monthName'] = df['month'].apply(lambda x: calendar.month_name[x])"
   ]
  },
  {
   "cell_type": "code",
   "execution_count": 92,
   "metadata": {},
   "outputs": [
    {
     "data": {
      "text/plain": [
       "0       0\n",
       "1       0\n",
       "2       0\n",
       "3       0\n",
       "4       0\n",
       "       ..\n",
       "237    10\n",
       "238    11\n",
       "239    11\n",
       "240    11\n",
       "241    11\n",
       "Name: monthName, Length: 242, dtype: int64"
      ]
     },
     "execution_count": 92,
     "metadata": {},
     "output_type": "execute_result"
    }
   ],
   "source": [
    "ordered_months = [\"January\", \"February\", \"March\", \"April\", \"May\", \"June\", \n",
    "          \"July\", \"August\", \"September\", \"October\", \"November\", \"December\"]\n",
    "df['monthName'].apply(lambda x:ordered_months.index(x))"
   ]
  },
  {
   "cell_type": "code",
   "execution_count": 93,
   "metadata": {},
   "outputs": [
    {
     "data": {
      "text/html": [
       "<div>\n",
       "<style scoped>\n",
       "    .dataframe tbody tr th:only-of-type {\n",
       "        vertical-align: middle;\n",
       "    }\n",
       "\n",
       "    .dataframe tbody tr th {\n",
       "        vertical-align: top;\n",
       "    }\n",
       "\n",
       "    .dataframe thead th {\n",
       "        text-align: right;\n",
       "    }\n",
       "</style>\n",
       "<table border=\"1\" class=\"dataframe\">\n",
       "  <thead>\n",
       "    <tr style=\"text-align: right;\">\n",
       "      <th></th>\n",
       "      <th>Delivery date</th>\n",
       "      <th>ATC code</th>\n",
       "      <th>month</th>\n",
       "      <th>monthName</th>\n",
       "    </tr>\n",
       "  </thead>\n",
       "  <tbody>\n",
       "    <tr>\n",
       "      <th>0</th>\n",
       "      <td>2020-01-01</td>\n",
       "      <td>788</td>\n",
       "      <td>1</td>\n",
       "      <td>January</td>\n",
       "    </tr>\n",
       "    <tr>\n",
       "      <th>1</th>\n",
       "      <td>2020-01-02</td>\n",
       "      <td>19607</td>\n",
       "      <td>1</td>\n",
       "      <td>January</td>\n",
       "    </tr>\n",
       "    <tr>\n",
       "      <th>2</th>\n",
       "      <td>2020-01-03</td>\n",
       "      <td>24267</td>\n",
       "      <td>1</td>\n",
       "      <td>January</td>\n",
       "    </tr>\n",
       "    <tr>\n",
       "      <th>3</th>\n",
       "      <td>2020-01-04</td>\n",
       "      <td>9404</td>\n",
       "      <td>1</td>\n",
       "      <td>January</td>\n",
       "    </tr>\n",
       "    <tr>\n",
       "      <th>4</th>\n",
       "      <td>2020-01-05</td>\n",
       "      <td>901</td>\n",
       "      <td>1</td>\n",
       "      <td>January</td>\n",
       "    </tr>\n",
       "    <tr>\n",
       "      <th>...</th>\n",
       "      <td>...</td>\n",
       "      <td>...</td>\n",
       "      <td>...</td>\n",
       "      <td>...</td>\n",
       "    </tr>\n",
       "    <tr>\n",
       "      <th>237</th>\n",
       "      <td>2020-11-07</td>\n",
       "      <td>13</td>\n",
       "      <td>11</td>\n",
       "      <td>November</td>\n",
       "    </tr>\n",
       "    <tr>\n",
       "      <th>238</th>\n",
       "      <td>2020-12-02</td>\n",
       "      <td>137</td>\n",
       "      <td>12</td>\n",
       "      <td>December</td>\n",
       "    </tr>\n",
       "    <tr>\n",
       "      <th>239</th>\n",
       "      <td>2020-12-03</td>\n",
       "      <td>98</td>\n",
       "      <td>12</td>\n",
       "      <td>December</td>\n",
       "    </tr>\n",
       "    <tr>\n",
       "      <th>240</th>\n",
       "      <td>2020-12-05</td>\n",
       "      <td>125</td>\n",
       "      <td>12</td>\n",
       "      <td>December</td>\n",
       "    </tr>\n",
       "    <tr>\n",
       "      <th>241</th>\n",
       "      <td>2020-12-06</td>\n",
       "      <td>47</td>\n",
       "      <td>12</td>\n",
       "      <td>December</td>\n",
       "    </tr>\n",
       "  </tbody>\n",
       "</table>\n",
       "<p>242 rows × 4 columns</p>\n",
       "</div>"
      ],
      "text/plain": [
       "    Delivery date  ATC code  month monthName\n",
       "0      2020-01-01       788      1   January\n",
       "1      2020-01-02     19607      1   January\n",
       "2      2020-01-03     24267      1   January\n",
       "3      2020-01-04      9404      1   January\n",
       "4      2020-01-05       901      1   January\n",
       "..            ...       ...    ...       ...\n",
       "237    2020-11-07        13     11  November\n",
       "238    2020-12-02       137     12  December\n",
       "239    2020-12-03        98     12  December\n",
       "240    2020-12-05       125     12  December\n",
       "241    2020-12-06        47     12  December\n",
       "\n",
       "[242 rows x 4 columns]"
      ]
     },
     "execution_count": 93,
     "metadata": {},
     "output_type": "execute_result"
    }
   ],
   "source": [
    "df"
   ]
  },
  {
   "cell_type": "code",
   "execution_count": 94,
   "metadata": {
    "scrolled": false
   },
   "outputs": [
    {
     "data": {
      "application/vnd.plotly.v1+json": {
       "config": {
        "plotlyServerURL": "https://plot.ly"
       },
       "data": [
        {
         "hovertemplate": "monthName=%{x}<br>ATC code=%{y}<extra></extra>",
         "legendgroup": "",
         "line": {
          "color": "#636efa",
          "dash": "solid"
         },
         "mode": "lines",
         "name": "",
         "orientation": "v",
         "showlegend": false,
         "type": "scatter",
         "x": [
          "January",
          "January",
          "January",
          "January",
          "January",
          "January",
          "January",
          "January",
          "January",
          "January",
          "January",
          "January",
          "January",
          "January",
          "January",
          "January",
          "January",
          "January",
          "January",
          "January",
          "January",
          "January",
          "January",
          "January",
          "January",
          "January",
          "January",
          "January",
          "January",
          "January",
          "January",
          "February",
          "February",
          "February",
          "February",
          "February",
          "February",
          "February",
          "February",
          "February",
          "February",
          "February",
          "February",
          "February",
          "February",
          "February",
          "February",
          "February",
          "February",
          "February",
          "February",
          "February",
          "February",
          "February",
          "February",
          "February",
          "February",
          "February",
          "February",
          "February",
          "March",
          "March",
          "March",
          "March",
          "March",
          "March",
          "March",
          "March",
          "March",
          "March",
          "March",
          "March",
          "March",
          "March",
          "March",
          "March",
          "March",
          "March",
          "March",
          "March",
          "March",
          "March",
          "March",
          "March",
          "March",
          "March",
          "March",
          "March",
          "March",
          "March",
          "March",
          "April",
          "April",
          "April",
          "April",
          "April",
          "April",
          "April",
          "April",
          "April",
          "April",
          "April",
          "April",
          "April",
          "April",
          "April",
          "April",
          "April",
          "April",
          "April",
          "April",
          "April",
          "April",
          "April",
          "April",
          "April",
          "April",
          "April",
          "April",
          "April",
          "April",
          "May",
          "May",
          "May",
          "May",
          "May",
          "May",
          "May",
          "May",
          "May",
          "May",
          "May",
          "May",
          "May",
          "May",
          "May",
          "May",
          "May",
          "May",
          "May",
          "May",
          "May",
          "May",
          "May",
          "May",
          "May",
          "May",
          "May",
          "May",
          "May",
          "May",
          "May",
          "June",
          "June",
          "June",
          "June",
          "June",
          "June",
          "June",
          "June",
          "June",
          "June",
          "June",
          "June",
          "June",
          "June",
          "June",
          "June",
          "June",
          "June",
          "June",
          "June",
          "June",
          "June",
          "June",
          "June",
          "June",
          "June",
          "June",
          "June",
          "June",
          "June",
          "July",
          "July",
          "July",
          "July",
          "July",
          "July",
          "July",
          "July",
          "July",
          "July",
          "July",
          "July",
          "July",
          "July",
          "July",
          "July",
          "July",
          "July",
          "July",
          "July",
          "July",
          "July",
          "July",
          "July",
          "July",
          "July",
          "July",
          "July",
          "July",
          "July",
          "July",
          "August",
          "August",
          "August",
          "August",
          "August",
          "August",
          "September",
          "September",
          "September",
          "September",
          "September",
          "September",
          "October",
          "October",
          "October",
          "October",
          "October",
          "October",
          "November",
          "November",
          "November",
          "November",
          "November",
          "November",
          "November",
          "December",
          "December",
          "December",
          "December"
         ],
         "xaxis": "x",
         "y": [
          788,
          19607,
          24267,
          9404,
          901,
          35886,
          33727,
          39877,
          42345,
          47972,
          17302,
          1387,
          52493,
          47896,
          40271,
          41088,
          46993,
          17701,
          1365,
          50399,
          46653,
          38157,
          39656,
          48743,
          17450,
          1279,
          43203,
          41683,
          40904,
          41779,
          50602,
          9680,
          735,
          32095,
          27931,
          21981,
          22964,
          26145,
          10180,
          431,
          37283,
          37210,
          29245,
          28144,
          34881,
          13092,
          975,
          39737,
          30471,
          22189,
          23218,
          27621,
          10150,
          921,
          31578,
          28261,
          19946,
          21560,
          28405,
          13703,
          1066,
          34021,
          32486,
          24341,
          23316,
          27768,
          10458,
          943,
          32871,
          29094,
          23393,
          27449,
          37071,
          11023,
          431,
          37496,
          43588,
          28994,
          24620,
          27107,
          7735,
          686,
          31502,
          28317,
          19101,
          20090,
          23697,
          7557,
          477,
          30068,
          34981,
          19084,
          19662,
          23853,
          6684,
          569,
          28631,
          26793,
          18390,
          19704,
          22701,
          7457,
          992,
          9247,
          29114,
          20126,
          20678,
          23093,
          6971,
          462,
          28936,
          26022,
          18602,
          19850,
          23751,
          7489,
          256,
          29752,
          26189,
          22027,
          45481,
          2583,
          7770,
          476,
          50457,
          45697,
          34866,
          36631,
          42345,
          14246,
          783,
          44244,
          44233,
          36129,
          38778,
          41190,
          15228,
          910,
          45989,
          44668,
          42174,
          2160,
          36068,
          13260,
          778,
          50362,
          49215,
          39881,
          43482,
          55953,
          19706,
          2050,
          8553,
          33944,
          26154,
          27174,
          29928,
          10888,
          471,
          32761,
          31447,
          22999,
          24528,
          27297,
          10034,
          447,
          32904,
          35701,
          23335,
          24932,
          29043,
          10310,
          557,
          31608,
          30108,
          22547,
          24645,
          27682,
          11157,
          584,
          34685,
          33842,
          26069,
          42498,
          47503,
          17664,
          906,
          31590,
          29592,
          21526,
          24615,
          25818,
          9529,
          596,
          29740,
          28083,
          22413,
          24210,
          26796,
          9302,
          787,
          23390,
          5662,
          24346,
          24027,
          25808,
          9995,
          512,
          22971,
          24339,
          22957,
          21955,
          22564,
          174,
          27,
          65,
          242,
          84,
          91,
          143,
          81,
          45,
          43,
          110,
          53,
          230,
          136,
          74,
          56,
          57,
          31,
          136,
          117,
          120,
          26,
          122,
          48,
          13,
          137,
          98,
          125,
          47
         ],
         "yaxis": "y"
        }
       ],
       "layout": {
        "legend": {
         "tracegroupgap": 0
        },
        "template": {
         "data": {
          "bar": [
           {
            "error_x": {
             "color": "#2a3f5f"
            },
            "error_y": {
             "color": "#2a3f5f"
            },
            "marker": {
             "line": {
              "color": "#E5ECF6",
              "width": 0.5
             }
            },
            "type": "bar"
           }
          ],
          "barpolar": [
           {
            "marker": {
             "line": {
              "color": "#E5ECF6",
              "width": 0.5
             }
            },
            "type": "barpolar"
           }
          ],
          "carpet": [
           {
            "aaxis": {
             "endlinecolor": "#2a3f5f",
             "gridcolor": "white",
             "linecolor": "white",
             "minorgridcolor": "white",
             "startlinecolor": "#2a3f5f"
            },
            "baxis": {
             "endlinecolor": "#2a3f5f",
             "gridcolor": "white",
             "linecolor": "white",
             "minorgridcolor": "white",
             "startlinecolor": "#2a3f5f"
            },
            "type": "carpet"
           }
          ],
          "choropleth": [
           {
            "colorbar": {
             "outlinewidth": 0,
             "ticks": ""
            },
            "type": "choropleth"
           }
          ],
          "contour": [
           {
            "colorbar": {
             "outlinewidth": 0,
             "ticks": ""
            },
            "colorscale": [
             [
              0,
              "#0d0887"
             ],
             [
              0.1111111111111111,
              "#46039f"
             ],
             [
              0.2222222222222222,
              "#7201a8"
             ],
             [
              0.3333333333333333,
              "#9c179e"
             ],
             [
              0.4444444444444444,
              "#bd3786"
             ],
             [
              0.5555555555555556,
              "#d8576b"
             ],
             [
              0.6666666666666666,
              "#ed7953"
             ],
             [
              0.7777777777777778,
              "#fb9f3a"
             ],
             [
              0.8888888888888888,
              "#fdca26"
             ],
             [
              1,
              "#f0f921"
             ]
            ],
            "type": "contour"
           }
          ],
          "contourcarpet": [
           {
            "colorbar": {
             "outlinewidth": 0,
             "ticks": ""
            },
            "type": "contourcarpet"
           }
          ],
          "heatmap": [
           {
            "colorbar": {
             "outlinewidth": 0,
             "ticks": ""
            },
            "colorscale": [
             [
              0,
              "#0d0887"
             ],
             [
              0.1111111111111111,
              "#46039f"
             ],
             [
              0.2222222222222222,
              "#7201a8"
             ],
             [
              0.3333333333333333,
              "#9c179e"
             ],
             [
              0.4444444444444444,
              "#bd3786"
             ],
             [
              0.5555555555555556,
              "#d8576b"
             ],
             [
              0.6666666666666666,
              "#ed7953"
             ],
             [
              0.7777777777777778,
              "#fb9f3a"
             ],
             [
              0.8888888888888888,
              "#fdca26"
             ],
             [
              1,
              "#f0f921"
             ]
            ],
            "type": "heatmap"
           }
          ],
          "heatmapgl": [
           {
            "colorbar": {
             "outlinewidth": 0,
             "ticks": ""
            },
            "colorscale": [
             [
              0,
              "#0d0887"
             ],
             [
              0.1111111111111111,
              "#46039f"
             ],
             [
              0.2222222222222222,
              "#7201a8"
             ],
             [
              0.3333333333333333,
              "#9c179e"
             ],
             [
              0.4444444444444444,
              "#bd3786"
             ],
             [
              0.5555555555555556,
              "#d8576b"
             ],
             [
              0.6666666666666666,
              "#ed7953"
             ],
             [
              0.7777777777777778,
              "#fb9f3a"
             ],
             [
              0.8888888888888888,
              "#fdca26"
             ],
             [
              1,
              "#f0f921"
             ]
            ],
            "type": "heatmapgl"
           }
          ],
          "histogram": [
           {
            "marker": {
             "colorbar": {
              "outlinewidth": 0,
              "ticks": ""
             }
            },
            "type": "histogram"
           }
          ],
          "histogram2d": [
           {
            "colorbar": {
             "outlinewidth": 0,
             "ticks": ""
            },
            "colorscale": [
             [
              0,
              "#0d0887"
             ],
             [
              0.1111111111111111,
              "#46039f"
             ],
             [
              0.2222222222222222,
              "#7201a8"
             ],
             [
              0.3333333333333333,
              "#9c179e"
             ],
             [
              0.4444444444444444,
              "#bd3786"
             ],
             [
              0.5555555555555556,
              "#d8576b"
             ],
             [
              0.6666666666666666,
              "#ed7953"
             ],
             [
              0.7777777777777778,
              "#fb9f3a"
             ],
             [
              0.8888888888888888,
              "#fdca26"
             ],
             [
              1,
              "#f0f921"
             ]
            ],
            "type": "histogram2d"
           }
          ],
          "histogram2dcontour": [
           {
            "colorbar": {
             "outlinewidth": 0,
             "ticks": ""
            },
            "colorscale": [
             [
              0,
              "#0d0887"
             ],
             [
              0.1111111111111111,
              "#46039f"
             ],
             [
              0.2222222222222222,
              "#7201a8"
             ],
             [
              0.3333333333333333,
              "#9c179e"
             ],
             [
              0.4444444444444444,
              "#bd3786"
             ],
             [
              0.5555555555555556,
              "#d8576b"
             ],
             [
              0.6666666666666666,
              "#ed7953"
             ],
             [
              0.7777777777777778,
              "#fb9f3a"
             ],
             [
              0.8888888888888888,
              "#fdca26"
             ],
             [
              1,
              "#f0f921"
             ]
            ],
            "type": "histogram2dcontour"
           }
          ],
          "mesh3d": [
           {
            "colorbar": {
             "outlinewidth": 0,
             "ticks": ""
            },
            "type": "mesh3d"
           }
          ],
          "parcoords": [
           {
            "line": {
             "colorbar": {
              "outlinewidth": 0,
              "ticks": ""
             }
            },
            "type": "parcoords"
           }
          ],
          "pie": [
           {
            "automargin": true,
            "type": "pie"
           }
          ],
          "scatter": [
           {
            "marker": {
             "colorbar": {
              "outlinewidth": 0,
              "ticks": ""
             }
            },
            "type": "scatter"
           }
          ],
          "scatter3d": [
           {
            "line": {
             "colorbar": {
              "outlinewidth": 0,
              "ticks": ""
             }
            },
            "marker": {
             "colorbar": {
              "outlinewidth": 0,
              "ticks": ""
             }
            },
            "type": "scatter3d"
           }
          ],
          "scattercarpet": [
           {
            "marker": {
             "colorbar": {
              "outlinewidth": 0,
              "ticks": ""
             }
            },
            "type": "scattercarpet"
           }
          ],
          "scattergeo": [
           {
            "marker": {
             "colorbar": {
              "outlinewidth": 0,
              "ticks": ""
             }
            },
            "type": "scattergeo"
           }
          ],
          "scattergl": [
           {
            "marker": {
             "colorbar": {
              "outlinewidth": 0,
              "ticks": ""
             }
            },
            "type": "scattergl"
           }
          ],
          "scattermapbox": [
           {
            "marker": {
             "colorbar": {
              "outlinewidth": 0,
              "ticks": ""
             }
            },
            "type": "scattermapbox"
           }
          ],
          "scatterpolar": [
           {
            "marker": {
             "colorbar": {
              "outlinewidth": 0,
              "ticks": ""
             }
            },
            "type": "scatterpolar"
           }
          ],
          "scatterpolargl": [
           {
            "marker": {
             "colorbar": {
              "outlinewidth": 0,
              "ticks": ""
             }
            },
            "type": "scatterpolargl"
           }
          ],
          "scatterternary": [
           {
            "marker": {
             "colorbar": {
              "outlinewidth": 0,
              "ticks": ""
             }
            },
            "type": "scatterternary"
           }
          ],
          "surface": [
           {
            "colorbar": {
             "outlinewidth": 0,
             "ticks": ""
            },
            "colorscale": [
             [
              0,
              "#0d0887"
             ],
             [
              0.1111111111111111,
              "#46039f"
             ],
             [
              0.2222222222222222,
              "#7201a8"
             ],
             [
              0.3333333333333333,
              "#9c179e"
             ],
             [
              0.4444444444444444,
              "#bd3786"
             ],
             [
              0.5555555555555556,
              "#d8576b"
             ],
             [
              0.6666666666666666,
              "#ed7953"
             ],
             [
              0.7777777777777778,
              "#fb9f3a"
             ],
             [
              0.8888888888888888,
              "#fdca26"
             ],
             [
              1,
              "#f0f921"
             ]
            ],
            "type": "surface"
           }
          ],
          "table": [
           {
            "cells": {
             "fill": {
              "color": "#EBF0F8"
             },
             "line": {
              "color": "white"
             }
            },
            "header": {
             "fill": {
              "color": "#C8D4E3"
             },
             "line": {
              "color": "white"
             }
            },
            "type": "table"
           }
          ]
         },
         "layout": {
          "annotationdefaults": {
           "arrowcolor": "#2a3f5f",
           "arrowhead": 0,
           "arrowwidth": 1
          },
          "coloraxis": {
           "colorbar": {
            "outlinewidth": 0,
            "ticks": ""
           }
          },
          "colorscale": {
           "diverging": [
            [
             0,
             "#8e0152"
            ],
            [
             0.1,
             "#c51b7d"
            ],
            [
             0.2,
             "#de77ae"
            ],
            [
             0.3,
             "#f1b6da"
            ],
            [
             0.4,
             "#fde0ef"
            ],
            [
             0.5,
             "#f7f7f7"
            ],
            [
             0.6,
             "#e6f5d0"
            ],
            [
             0.7,
             "#b8e186"
            ],
            [
             0.8,
             "#7fbc41"
            ],
            [
             0.9,
             "#4d9221"
            ],
            [
             1,
             "#276419"
            ]
           ],
           "sequential": [
            [
             0,
             "#0d0887"
            ],
            [
             0.1111111111111111,
             "#46039f"
            ],
            [
             0.2222222222222222,
             "#7201a8"
            ],
            [
             0.3333333333333333,
             "#9c179e"
            ],
            [
             0.4444444444444444,
             "#bd3786"
            ],
            [
             0.5555555555555556,
             "#d8576b"
            ],
            [
             0.6666666666666666,
             "#ed7953"
            ],
            [
             0.7777777777777778,
             "#fb9f3a"
            ],
            [
             0.8888888888888888,
             "#fdca26"
            ],
            [
             1,
             "#f0f921"
            ]
           ],
           "sequentialminus": [
            [
             0,
             "#0d0887"
            ],
            [
             0.1111111111111111,
             "#46039f"
            ],
            [
             0.2222222222222222,
             "#7201a8"
            ],
            [
             0.3333333333333333,
             "#9c179e"
            ],
            [
             0.4444444444444444,
             "#bd3786"
            ],
            [
             0.5555555555555556,
             "#d8576b"
            ],
            [
             0.6666666666666666,
             "#ed7953"
            ],
            [
             0.7777777777777778,
             "#fb9f3a"
            ],
            [
             0.8888888888888888,
             "#fdca26"
            ],
            [
             1,
             "#f0f921"
            ]
           ]
          },
          "colorway": [
           "#636efa",
           "#EF553B",
           "#00cc96",
           "#ab63fa",
           "#FFA15A",
           "#19d3f3",
           "#FF6692",
           "#B6E880",
           "#FF97FF",
           "#FECB52"
          ],
          "font": {
           "color": "#2a3f5f"
          },
          "geo": {
           "bgcolor": "white",
           "lakecolor": "white",
           "landcolor": "#E5ECF6",
           "showlakes": true,
           "showland": true,
           "subunitcolor": "white"
          },
          "hoverlabel": {
           "align": "left"
          },
          "hovermode": "closest",
          "mapbox": {
           "style": "light"
          },
          "paper_bgcolor": "white",
          "plot_bgcolor": "#E5ECF6",
          "polar": {
           "angularaxis": {
            "gridcolor": "white",
            "linecolor": "white",
            "ticks": ""
           },
           "bgcolor": "#E5ECF6",
           "radialaxis": {
            "gridcolor": "white",
            "linecolor": "white",
            "ticks": ""
           }
          },
          "scene": {
           "xaxis": {
            "backgroundcolor": "#E5ECF6",
            "gridcolor": "white",
            "gridwidth": 2,
            "linecolor": "white",
            "showbackground": true,
            "ticks": "",
            "zerolinecolor": "white"
           },
           "yaxis": {
            "backgroundcolor": "#E5ECF6",
            "gridcolor": "white",
            "gridwidth": 2,
            "linecolor": "white",
            "showbackground": true,
            "ticks": "",
            "zerolinecolor": "white"
           },
           "zaxis": {
            "backgroundcolor": "#E5ECF6",
            "gridcolor": "white",
            "gridwidth": 2,
            "linecolor": "white",
            "showbackground": true,
            "ticks": "",
            "zerolinecolor": "white"
           }
          },
          "shapedefaults": {
           "line": {
            "color": "#2a3f5f"
           }
          },
          "ternary": {
           "aaxis": {
            "gridcolor": "white",
            "linecolor": "white",
            "ticks": ""
           },
           "baxis": {
            "gridcolor": "white",
            "linecolor": "white",
            "ticks": ""
           },
           "bgcolor": "#E5ECF6",
           "caxis": {
            "gridcolor": "white",
            "linecolor": "white",
            "ticks": ""
           }
          },
          "title": {
           "x": 0.05
          },
          "xaxis": {
           "automargin": true,
           "gridcolor": "white",
           "linecolor": "white",
           "ticks": "",
           "title": {
            "standoff": 15
           },
           "zerolinecolor": "white",
           "zerolinewidth": 2
          },
          "yaxis": {
           "automargin": true,
           "gridcolor": "white",
           "linecolor": "white",
           "ticks": "",
           "title": {
            "standoff": 15
           },
           "zerolinecolor": "white",
           "zerolinewidth": 2
          }
         }
        },
        "title": {
         "text": "Number of deliveries in 2020"
        },
        "xaxis": {
         "anchor": "y",
         "domain": [
          0,
          1
         ],
         "title": {
          "text": "monthName"
         }
        },
        "yaxis": {
         "anchor": "x",
         "domain": [
          0,
          1
         ],
         "title": {
          "text": "ATC code"
         }
        }
       }
      },
      "text/html": [
       "<div>                            <div id=\"f8b3048f-cf71-490b-911b-0b1453f77f97\" class=\"plotly-graph-div\" style=\"height:525px; width:100%;\"></div>            <script type=\"text/javascript\">                require([\"plotly\"], function(Plotly) {                    window.PLOTLYENV=window.PLOTLYENV || {};                                    if (document.getElementById(\"f8b3048f-cf71-490b-911b-0b1453f77f97\")) {                    Plotly.newPlot(                        \"f8b3048f-cf71-490b-911b-0b1453f77f97\",                        [{\"hovertemplate\": \"monthName=%{x}<br>ATC code=%{y}<extra></extra>\", \"legendgroup\": \"\", \"line\": {\"color\": \"#636efa\", \"dash\": \"solid\"}, \"mode\": \"lines\", \"name\": \"\", \"orientation\": \"v\", \"showlegend\": false, \"type\": \"scatter\", \"x\": [\"January\", \"January\", \"January\", \"January\", \"January\", \"January\", \"January\", \"January\", \"January\", \"January\", \"January\", \"January\", \"January\", \"January\", \"January\", \"January\", \"January\", \"January\", \"January\", \"January\", \"January\", \"January\", \"January\", \"January\", \"January\", \"January\", \"January\", \"January\", \"January\", \"January\", \"January\", \"February\", \"February\", \"February\", \"February\", \"February\", \"February\", \"February\", \"February\", \"February\", \"February\", \"February\", \"February\", \"February\", \"February\", \"February\", \"February\", \"February\", \"February\", \"February\", \"February\", \"February\", \"February\", \"February\", \"February\", \"February\", \"February\", \"February\", \"February\", \"February\", \"March\", \"March\", \"March\", \"March\", \"March\", \"March\", \"March\", \"March\", \"March\", \"March\", \"March\", \"March\", \"March\", \"March\", \"March\", \"March\", \"March\", \"March\", \"March\", \"March\", \"March\", \"March\", \"March\", \"March\", \"March\", \"March\", \"March\", \"March\", \"March\", \"March\", \"March\", \"April\", \"April\", \"April\", \"April\", \"April\", \"April\", \"April\", \"April\", \"April\", \"April\", \"April\", \"April\", \"April\", \"April\", \"April\", \"April\", \"April\", \"April\", \"April\", \"April\", \"April\", \"April\", \"April\", \"April\", \"April\", \"April\", \"April\", \"April\", \"April\", \"April\", \"May\", \"May\", \"May\", \"May\", \"May\", \"May\", \"May\", \"May\", \"May\", \"May\", \"May\", \"May\", \"May\", \"May\", \"May\", \"May\", \"May\", \"May\", \"May\", \"May\", \"May\", \"May\", \"May\", \"May\", \"May\", \"May\", \"May\", \"May\", \"May\", \"May\", \"May\", \"June\", \"June\", \"June\", \"June\", \"June\", \"June\", \"June\", \"June\", \"June\", \"June\", \"June\", \"June\", \"June\", \"June\", \"June\", \"June\", \"June\", \"June\", \"June\", \"June\", \"June\", \"June\", \"June\", \"June\", \"June\", \"June\", \"June\", \"June\", \"June\", \"June\", \"July\", \"July\", \"July\", \"July\", \"July\", \"July\", \"July\", \"July\", \"July\", \"July\", \"July\", \"July\", \"July\", \"July\", \"July\", \"July\", \"July\", \"July\", \"July\", \"July\", \"July\", \"July\", \"July\", \"July\", \"July\", \"July\", \"July\", \"July\", \"July\", \"July\", \"July\", \"August\", \"August\", \"August\", \"August\", \"August\", \"August\", \"September\", \"September\", \"September\", \"September\", \"September\", \"September\", \"October\", \"October\", \"October\", \"October\", \"October\", \"October\", \"November\", \"November\", \"November\", \"November\", \"November\", \"November\", \"November\", \"December\", \"December\", \"December\", \"December\"], \"xaxis\": \"x\", \"y\": [788, 19607, 24267, 9404, 901, 35886, 33727, 39877, 42345, 47972, 17302, 1387, 52493, 47896, 40271, 41088, 46993, 17701, 1365, 50399, 46653, 38157, 39656, 48743, 17450, 1279, 43203, 41683, 40904, 41779, 50602, 9680, 735, 32095, 27931, 21981, 22964, 26145, 10180, 431, 37283, 37210, 29245, 28144, 34881, 13092, 975, 39737, 30471, 22189, 23218, 27621, 10150, 921, 31578, 28261, 19946, 21560, 28405, 13703, 1066, 34021, 32486, 24341, 23316, 27768, 10458, 943, 32871, 29094, 23393, 27449, 37071, 11023, 431, 37496, 43588, 28994, 24620, 27107, 7735, 686, 31502, 28317, 19101, 20090, 23697, 7557, 477, 30068, 34981, 19084, 19662, 23853, 6684, 569, 28631, 26793, 18390, 19704, 22701, 7457, 992, 9247, 29114, 20126, 20678, 23093, 6971, 462, 28936, 26022, 18602, 19850, 23751, 7489, 256, 29752, 26189, 22027, 45481, 2583, 7770, 476, 50457, 45697, 34866, 36631, 42345, 14246, 783, 44244, 44233, 36129, 38778, 41190, 15228, 910, 45989, 44668, 42174, 2160, 36068, 13260, 778, 50362, 49215, 39881, 43482, 55953, 19706, 2050, 8553, 33944, 26154, 27174, 29928, 10888, 471, 32761, 31447, 22999, 24528, 27297, 10034, 447, 32904, 35701, 23335, 24932, 29043, 10310, 557, 31608, 30108, 22547, 24645, 27682, 11157, 584, 34685, 33842, 26069, 42498, 47503, 17664, 906, 31590, 29592, 21526, 24615, 25818, 9529, 596, 29740, 28083, 22413, 24210, 26796, 9302, 787, 23390, 5662, 24346, 24027, 25808, 9995, 512, 22971, 24339, 22957, 21955, 22564, 174, 27, 65, 242, 84, 91, 143, 81, 45, 43, 110, 53, 230, 136, 74, 56, 57, 31, 136, 117, 120, 26, 122, 48, 13, 137, 98, 125, 47], \"yaxis\": \"y\"}],                        {\"legend\": {\"tracegroupgap\": 0}, \"template\": {\"data\": {\"bar\": [{\"error_x\": {\"color\": \"#2a3f5f\"}, \"error_y\": {\"color\": \"#2a3f5f\"}, \"marker\": {\"line\": {\"color\": \"#E5ECF6\", \"width\": 0.5}}, \"type\": \"bar\"}], \"barpolar\": [{\"marker\": {\"line\": {\"color\": \"#E5ECF6\", \"width\": 0.5}}, \"type\": \"barpolar\"}], \"carpet\": [{\"aaxis\": {\"endlinecolor\": \"#2a3f5f\", \"gridcolor\": \"white\", \"linecolor\": \"white\", \"minorgridcolor\": \"white\", \"startlinecolor\": \"#2a3f5f\"}, \"baxis\": {\"endlinecolor\": \"#2a3f5f\", \"gridcolor\": \"white\", \"linecolor\": \"white\", \"minorgridcolor\": \"white\", \"startlinecolor\": \"#2a3f5f\"}, \"type\": \"carpet\"}], \"choropleth\": [{\"colorbar\": {\"outlinewidth\": 0, \"ticks\": \"\"}, \"type\": \"choropleth\"}], \"contour\": [{\"colorbar\": {\"outlinewidth\": 0, \"ticks\": \"\"}, \"colorscale\": [[0.0, \"#0d0887\"], [0.1111111111111111, \"#46039f\"], [0.2222222222222222, \"#7201a8\"], [0.3333333333333333, \"#9c179e\"], [0.4444444444444444, \"#bd3786\"], [0.5555555555555556, \"#d8576b\"], [0.6666666666666666, \"#ed7953\"], [0.7777777777777778, \"#fb9f3a\"], [0.8888888888888888, \"#fdca26\"], [1.0, \"#f0f921\"]], \"type\": \"contour\"}], \"contourcarpet\": [{\"colorbar\": {\"outlinewidth\": 0, \"ticks\": \"\"}, \"type\": \"contourcarpet\"}], \"heatmap\": [{\"colorbar\": {\"outlinewidth\": 0, \"ticks\": \"\"}, \"colorscale\": [[0.0, \"#0d0887\"], [0.1111111111111111, \"#46039f\"], [0.2222222222222222, \"#7201a8\"], [0.3333333333333333, \"#9c179e\"], [0.4444444444444444, \"#bd3786\"], [0.5555555555555556, \"#d8576b\"], [0.6666666666666666, \"#ed7953\"], [0.7777777777777778, \"#fb9f3a\"], [0.8888888888888888, \"#fdca26\"], [1.0, \"#f0f921\"]], \"type\": \"heatmap\"}], \"heatmapgl\": [{\"colorbar\": {\"outlinewidth\": 0, \"ticks\": \"\"}, \"colorscale\": [[0.0, \"#0d0887\"], [0.1111111111111111, \"#46039f\"], [0.2222222222222222, \"#7201a8\"], [0.3333333333333333, \"#9c179e\"], [0.4444444444444444, \"#bd3786\"], [0.5555555555555556, \"#d8576b\"], [0.6666666666666666, \"#ed7953\"], [0.7777777777777778, \"#fb9f3a\"], [0.8888888888888888, \"#fdca26\"], [1.0, \"#f0f921\"]], \"type\": \"heatmapgl\"}], \"histogram\": [{\"marker\": {\"colorbar\": {\"outlinewidth\": 0, \"ticks\": \"\"}}, \"type\": \"histogram\"}], \"histogram2d\": [{\"colorbar\": {\"outlinewidth\": 0, \"ticks\": \"\"}, \"colorscale\": [[0.0, \"#0d0887\"], [0.1111111111111111, \"#46039f\"], [0.2222222222222222, \"#7201a8\"], [0.3333333333333333, \"#9c179e\"], [0.4444444444444444, \"#bd3786\"], [0.5555555555555556, \"#d8576b\"], [0.6666666666666666, \"#ed7953\"], [0.7777777777777778, \"#fb9f3a\"], [0.8888888888888888, \"#fdca26\"], [1.0, \"#f0f921\"]], \"type\": \"histogram2d\"}], \"histogram2dcontour\": [{\"colorbar\": {\"outlinewidth\": 0, \"ticks\": \"\"}, \"colorscale\": [[0.0, \"#0d0887\"], [0.1111111111111111, \"#46039f\"], [0.2222222222222222, \"#7201a8\"], [0.3333333333333333, \"#9c179e\"], [0.4444444444444444, \"#bd3786\"], [0.5555555555555556, \"#d8576b\"], [0.6666666666666666, \"#ed7953\"], [0.7777777777777778, \"#fb9f3a\"], [0.8888888888888888, \"#fdca26\"], [1.0, \"#f0f921\"]], \"type\": \"histogram2dcontour\"}], \"mesh3d\": [{\"colorbar\": {\"outlinewidth\": 0, \"ticks\": \"\"}, \"type\": \"mesh3d\"}], \"parcoords\": [{\"line\": {\"colorbar\": {\"outlinewidth\": 0, \"ticks\": \"\"}}, \"type\": \"parcoords\"}], \"pie\": [{\"automargin\": true, \"type\": \"pie\"}], \"scatter\": [{\"marker\": {\"colorbar\": {\"outlinewidth\": 0, \"ticks\": \"\"}}, \"type\": \"scatter\"}], \"scatter3d\": [{\"line\": {\"colorbar\": {\"outlinewidth\": 0, \"ticks\": \"\"}}, \"marker\": {\"colorbar\": {\"outlinewidth\": 0, \"ticks\": \"\"}}, \"type\": \"scatter3d\"}], \"scattercarpet\": [{\"marker\": {\"colorbar\": {\"outlinewidth\": 0, \"ticks\": \"\"}}, \"type\": \"scattercarpet\"}], \"scattergeo\": [{\"marker\": {\"colorbar\": {\"outlinewidth\": 0, \"ticks\": \"\"}}, \"type\": \"scattergeo\"}], \"scattergl\": [{\"marker\": {\"colorbar\": {\"outlinewidth\": 0, \"ticks\": \"\"}}, \"type\": \"scattergl\"}], \"scattermapbox\": [{\"marker\": {\"colorbar\": {\"outlinewidth\": 0, \"ticks\": \"\"}}, \"type\": \"scattermapbox\"}], \"scatterpolar\": [{\"marker\": {\"colorbar\": {\"outlinewidth\": 0, \"ticks\": \"\"}}, \"type\": \"scatterpolar\"}], \"scatterpolargl\": [{\"marker\": {\"colorbar\": {\"outlinewidth\": 0, \"ticks\": \"\"}}, \"type\": \"scatterpolargl\"}], \"scatterternary\": [{\"marker\": {\"colorbar\": {\"outlinewidth\": 0, \"ticks\": \"\"}}, \"type\": \"scatterternary\"}], \"surface\": [{\"colorbar\": {\"outlinewidth\": 0, \"ticks\": \"\"}, \"colorscale\": [[0.0, \"#0d0887\"], [0.1111111111111111, \"#46039f\"], [0.2222222222222222, \"#7201a8\"], [0.3333333333333333, \"#9c179e\"], [0.4444444444444444, \"#bd3786\"], [0.5555555555555556, \"#d8576b\"], [0.6666666666666666, \"#ed7953\"], [0.7777777777777778, \"#fb9f3a\"], [0.8888888888888888, \"#fdca26\"], [1.0, \"#f0f921\"]], \"type\": \"surface\"}], \"table\": [{\"cells\": {\"fill\": {\"color\": \"#EBF0F8\"}, \"line\": {\"color\": \"white\"}}, \"header\": {\"fill\": {\"color\": \"#C8D4E3\"}, \"line\": {\"color\": \"white\"}}, \"type\": \"table\"}]}, \"layout\": {\"annotationdefaults\": {\"arrowcolor\": \"#2a3f5f\", \"arrowhead\": 0, \"arrowwidth\": 1}, \"coloraxis\": {\"colorbar\": {\"outlinewidth\": 0, \"ticks\": \"\"}}, \"colorscale\": {\"diverging\": [[0, \"#8e0152\"], [0.1, \"#c51b7d\"], [0.2, \"#de77ae\"], [0.3, \"#f1b6da\"], [0.4, \"#fde0ef\"], [0.5, \"#f7f7f7\"], [0.6, \"#e6f5d0\"], [0.7, \"#b8e186\"], [0.8, \"#7fbc41\"], [0.9, \"#4d9221\"], [1, \"#276419\"]], \"sequential\": [[0.0, \"#0d0887\"], [0.1111111111111111, \"#46039f\"], [0.2222222222222222, \"#7201a8\"], [0.3333333333333333, \"#9c179e\"], [0.4444444444444444, \"#bd3786\"], [0.5555555555555556, \"#d8576b\"], [0.6666666666666666, \"#ed7953\"], [0.7777777777777778, \"#fb9f3a\"], [0.8888888888888888, \"#fdca26\"], [1.0, \"#f0f921\"]], \"sequentialminus\": [[0.0, \"#0d0887\"], [0.1111111111111111, \"#46039f\"], [0.2222222222222222, \"#7201a8\"], [0.3333333333333333, \"#9c179e\"], [0.4444444444444444, \"#bd3786\"], [0.5555555555555556, \"#d8576b\"], [0.6666666666666666, \"#ed7953\"], [0.7777777777777778, \"#fb9f3a\"], [0.8888888888888888, \"#fdca26\"], [1.0, \"#f0f921\"]]}, \"colorway\": [\"#636efa\", \"#EF553B\", \"#00cc96\", \"#ab63fa\", \"#FFA15A\", \"#19d3f3\", \"#FF6692\", \"#B6E880\", \"#FF97FF\", \"#FECB52\"], \"font\": {\"color\": \"#2a3f5f\"}, \"geo\": {\"bgcolor\": \"white\", \"lakecolor\": \"white\", \"landcolor\": \"#E5ECF6\", \"showlakes\": true, \"showland\": true, \"subunitcolor\": \"white\"}, \"hoverlabel\": {\"align\": \"left\"}, \"hovermode\": \"closest\", \"mapbox\": {\"style\": \"light\"}, \"paper_bgcolor\": \"white\", \"plot_bgcolor\": \"#E5ECF6\", \"polar\": {\"angularaxis\": {\"gridcolor\": \"white\", \"linecolor\": \"white\", \"ticks\": \"\"}, \"bgcolor\": \"#E5ECF6\", \"radialaxis\": {\"gridcolor\": \"white\", \"linecolor\": \"white\", \"ticks\": \"\"}}, \"scene\": {\"xaxis\": {\"backgroundcolor\": \"#E5ECF6\", \"gridcolor\": \"white\", \"gridwidth\": 2, \"linecolor\": \"white\", \"showbackground\": true, \"ticks\": \"\", \"zerolinecolor\": \"white\"}, \"yaxis\": {\"backgroundcolor\": \"#E5ECF6\", \"gridcolor\": \"white\", \"gridwidth\": 2, \"linecolor\": \"white\", \"showbackground\": true, \"ticks\": \"\", \"zerolinecolor\": \"white\"}, \"zaxis\": {\"backgroundcolor\": \"#E5ECF6\", \"gridcolor\": \"white\", \"gridwidth\": 2, \"linecolor\": \"white\", \"showbackground\": true, \"ticks\": \"\", \"zerolinecolor\": \"white\"}}, \"shapedefaults\": {\"line\": {\"color\": \"#2a3f5f\"}}, \"ternary\": {\"aaxis\": {\"gridcolor\": \"white\", \"linecolor\": \"white\", \"ticks\": \"\"}, \"baxis\": {\"gridcolor\": \"white\", \"linecolor\": \"white\", \"ticks\": \"\"}, \"bgcolor\": \"#E5ECF6\", \"caxis\": {\"gridcolor\": \"white\", \"linecolor\": \"white\", \"ticks\": \"\"}}, \"title\": {\"x\": 0.05}, \"xaxis\": {\"automargin\": true, \"gridcolor\": \"white\", \"linecolor\": \"white\", \"ticks\": \"\", \"title\": {\"standoff\": 15}, \"zerolinecolor\": \"white\", \"zerolinewidth\": 2}, \"yaxis\": {\"automargin\": true, \"gridcolor\": \"white\", \"linecolor\": \"white\", \"ticks\": \"\", \"title\": {\"standoff\": 15}, \"zerolinecolor\": \"white\", \"zerolinewidth\": 2}}}, \"title\": {\"text\": \"Number of deliveries in 2020\"}, \"xaxis\": {\"anchor\": \"y\", \"domain\": [0.0, 1.0], \"title\": {\"text\": \"monthName\"}}, \"yaxis\": {\"anchor\": \"x\", \"domain\": [0.0, 1.0], \"title\": {\"text\": \"ATC code\"}}},                        {\"responsive\": true}                    ).then(function(){\n",
       "                            \n",
       "var gd = document.getElementById('f8b3048f-cf71-490b-911b-0b1453f77f97');\n",
       "var x = new MutationObserver(function (mutations, observer) {{\n",
       "        var display = window.getComputedStyle(gd).display;\n",
       "        if (!display || display === 'none') {{\n",
       "            console.log([gd, 'removed!']);\n",
       "            Plotly.purge(gd);\n",
       "            observer.disconnect();\n",
       "        }}\n",
       "}});\n",
       "\n",
       "// Listen for the removal of the full notebook cells\n",
       "var notebookContainer = gd.closest('#notebook-container');\n",
       "if (notebookContainer) {{\n",
       "    x.observe(notebookContainer, {childList: true});\n",
       "}}\n",
       "\n",
       "// Listen for the clearing of the current output cell\n",
       "var outputEl = gd.closest('.output');\n",
       "if (outputEl) {{\n",
       "    x.observe(outputEl, {childList: true});\n",
       "}}\n",
       "\n",
       "                        })                };                });            </script>        </div>"
      ]
     },
     "metadata": {},
     "output_type": "display_data"
    }
   ],
   "source": [
    "fig = px.line(df, x=\"monthName\" , y=\"ATC code\",title=\"Number of deliveries in 2020\")\n",
    "fig.show()"
   ]
  },
  {
   "cell_type": "code",
   "execution_count": 95,
   "metadata": {},
   "outputs": [
    {
     "data": {
      "image/png": "[encoded data removed]",
      "text/plain": [
       "<Figure size 864x576 with 1 Axes>"
      ]
     },
     "metadata": {
      "needs_background": "light"
     },
     "output_type": "display_data"
    }
   ],
   "source": [
    "plt.figure(figsize=(12, 8))\n",
    "sns.lineplot(data=df,y=\"ATC code\",x=\"monthName\",markers=True,dashes=False)\n",
    "plt.title(\"Number of deliveries in 2020\", fontsize=16)\n",
    "plt.xlabel(\"Month\", fontsize=16)\n",
    "plt.xticks(rotation=45)\n",
    "plt.ylabel(\"Number of deliveries\", fontsize=16)\n",
    "plt.show()"
   ]
  },
  {
   "cell_type": "markdown",
   "metadata": {},
   "source": [
    "### Democrapahic Analysis "
   ]
  },
  {
   "cell_type": "code",
   "execution_count": 115,
   "metadata": {},
   "outputs": [],
   "source": [
    "df =df.loc[(df[\"Pharmacy Postcode (2)\"] >=10) & (df[\"Pharmacy Postcode (2)\"] <=12)]"
   ]
  },
  {
   "cell_type": "code",
   "execution_count": 116,
   "metadata": {},
   "outputs": [],
   "source": [
    "df = df.groupby('Delivery date')['Price'].sum().reset_index()"
   ]
  },
  {
   "cell_type": "code",
   "execution_count": 117,
   "metadata": {},
   "outputs": [],
   "source": [
    "df['month'] = df['Delivery date'].dt.month"
   ]
  },
  {
   "cell_type": "code",
   "execution_count": 118,
   "metadata": {},
   "outputs": [],
   "source": [
    "import calendar\n",
    "df['monthName'] = df['month'].apply(lambda x: calendar.month_name[x])"
   ]
  },
  {
   "cell_type": "code",
   "execution_count": 119,
   "metadata": {},
   "outputs": [
    {
     "data": {
      "text/plain": [
       "0      0\n",
       "1      0\n",
       "2      0\n",
       "3      0\n",
       "4      0\n",
       "      ..\n",
       "207    6\n",
       "208    6\n",
       "209    6\n",
       "210    6\n",
       "211    6\n",
       "Name: monthName, Length: 212, dtype: int64"
      ]
     },
     "execution_count": 119,
     "metadata": {},
     "output_type": "execute_result"
    }
   ],
   "source": [
    "ordered_months = [\"January\", \"February\", \"March\", \"April\", \"May\", \"June\", \n",
    "          \"July\", \"August\", \"September\", \"October\", \"November\", \"December\"]\n",
    "df['monthName'].apply(lambda x:ordered_months.index(x))"
   ]
  },
  {
   "cell_type": "code",
   "execution_count": 121,
   "metadata": {},
   "outputs": [
    {
     "data": {
      "text/html": [
       "<div>\n",
       "<style scoped>\n",
       "    .dataframe tbody tr th:only-of-type {\n",
       "        vertical-align: middle;\n",
       "    }\n",
       "\n",
       "    .dataframe tbody tr th {\n",
       "        vertical-align: top;\n",
       "    }\n",
       "\n",
       "    .dataframe thead th {\n",
       "        text-align: right;\n",
       "    }\n",
       "</style>\n",
       "<table border=\"1\" class=\"dataframe\">\n",
       "  <thead>\n",
       "    <tr style=\"text-align: right;\">\n",
       "      <th></th>\n",
       "      <th>Delivery date</th>\n",
       "      <th>Price</th>\n",
       "      <th>month</th>\n",
       "      <th>monthName</th>\n",
       "    </tr>\n",
       "  </thead>\n",
       "  <tbody>\n",
       "    <tr>\n",
       "      <th>0</th>\n",
       "      <td>2020-01-01</td>\n",
       "      <td>4081.20</td>\n",
       "      <td>1</td>\n",
       "      <td>January</td>\n",
       "    </tr>\n",
       "    <tr>\n",
       "      <th>1</th>\n",
       "      <td>2020-01-02</td>\n",
       "      <td>84679.29</td>\n",
       "      <td>1</td>\n",
       "      <td>January</td>\n",
       "    </tr>\n",
       "    <tr>\n",
       "      <th>2</th>\n",
       "      <td>2020-01-03</td>\n",
       "      <td>90702.28</td>\n",
       "      <td>1</td>\n",
       "      <td>January</td>\n",
       "    </tr>\n",
       "    <tr>\n",
       "      <th>3</th>\n",
       "      <td>2020-01-04</td>\n",
       "      <td>50292.72</td>\n",
       "      <td>1</td>\n",
       "      <td>January</td>\n",
       "    </tr>\n",
       "    <tr>\n",
       "      <th>4</th>\n",
       "      <td>2020-01-05</td>\n",
       "      <td>922.82</td>\n",
       "      <td>1</td>\n",
       "      <td>January</td>\n",
       "    </tr>\n",
       "    <tr>\n",
       "      <th>...</th>\n",
       "      <td>...</td>\n",
       "      <td>...</td>\n",
       "      <td>...</td>\n",
       "      <td>...</td>\n",
       "    </tr>\n",
       "    <tr>\n",
       "      <th>207</th>\n",
       "      <td>2020-07-27</td>\n",
       "      <td>136173.50</td>\n",
       "      <td>7</td>\n",
       "      <td>July</td>\n",
       "    </tr>\n",
       "    <tr>\n",
       "      <th>208</th>\n",
       "      <td>2020-07-28</td>\n",
       "      <td>125721.30</td>\n",
       "      <td>7</td>\n",
       "      <td>July</td>\n",
       "    </tr>\n",
       "    <tr>\n",
       "      <th>209</th>\n",
       "      <td>2020-07-29</td>\n",
       "      <td>107054.98</td>\n",
       "      <td>7</td>\n",
       "      <td>July</td>\n",
       "    </tr>\n",
       "    <tr>\n",
       "      <th>210</th>\n",
       "      <td>2020-07-30</td>\n",
       "      <td>92367.21</td>\n",
       "      <td>7</td>\n",
       "      <td>July</td>\n",
       "    </tr>\n",
       "    <tr>\n",
       "      <th>211</th>\n",
       "      <td>2020-07-31</td>\n",
       "      <td>141339.10</td>\n",
       "      <td>7</td>\n",
       "      <td>July</td>\n",
       "    </tr>\n",
       "  </tbody>\n",
       "</table>\n",
       "<p>212 rows × 4 columns</p>\n",
       "</div>"
      ],
      "text/plain": [
       "    Delivery date      Price  month monthName\n",
       "0      2020-01-01    4081.20      1   January\n",
       "1      2020-01-02   84679.29      1   January\n",
       "2      2020-01-03   90702.28      1   January\n",
       "3      2020-01-04   50292.72      1   January\n",
       "4      2020-01-05     922.82      1   January\n",
       "..            ...        ...    ...       ...\n",
       "207    2020-07-27  136173.50      7      July\n",
       "208    2020-07-28  125721.30      7      July\n",
       "209    2020-07-29  107054.98      7      July\n",
       "210    2020-07-30   92367.21      7      July\n",
       "211    2020-07-31  141339.10      7      July\n",
       "\n",
       "[212 rows x 4 columns]"
      ]
     },
     "execution_count": 121,
     "metadata": {},
     "output_type": "execute_result"
    }
   ],
   "source": [
    "df"
   ]
  },
  {
   "cell_type": "code",
   "execution_count": null,
   "metadata": {},
   "outputs": [],
   "source": [
    "plt.figure(figsize=(12, 8))\n",
    "sns.lineplot(data=df,y=\"ATC code\",x=\"monthName\",markers=True,dashes=False)\n",
    "plt.title(\"Number of deliveries in 2020\", fontsize=16)\n",
    "plt.xlabel(\"Month\", fontsize=16)\n",
    "plt.xticks(rotation=45)\n",
    "plt.ylabel(\"Number of deliveries\", fontsize=16)\n",
    "plt.show()"
   ]
  },
  {
   "cell_type": "code",
   "execution_count": 120,
   "metadata": {},
   "outputs": [
    {
     "data": {
      "image/png": "[encoded data removed]",
      "text/plain": [
       "<Figure size 864x576 with 1 Axes>"
      ]
     },
     "metadata": {
      "needs_background": "light"
     },
     "output_type": "display_data"
    }
   ],
   "source": [
    "plt.figure(figsize=(12, 8))\n",
    "sns.lineplot(data=df,y=\"Price\",x=\"monthName\",markers=True,dashes=False)\n",
    "plt.title(\"Number of Sales in Brussels area\", fontsize=16)\n",
    "plt.xlabel(\"Month\", fontsize=16)\n",
    "plt.xticks(rotation=45)\n",
    "plt.ylabel(\"Sales [EUR]\", fontsize=16)\n",
    "plt.show()"
   ]
  },
  {
   "cell_type": "code",
   "execution_count": null,
   "metadata": {},
   "outputs": [],
   "source": []
  }
 ],
 "metadata": {
  "kernelspec": {
   "display_name": "Python 3",
   "language": "python",
   "name": "python3"
  },
  "language_info": {
   "codemirror_mode": {
    "name": "ipython",
    "version": 3
   },
   "file_extension": ".py",
   "mimetype": "text/x-python",
   "name": "python",
   "nbconvert_exporter": "python",
   "pygments_lexer": "ipython3",
   "version": "3.8.3"
  }
 },
 "nbformat": 4,
 "nbformat_minor": 4
}
